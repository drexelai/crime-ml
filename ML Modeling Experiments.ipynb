{
 "cells": [
  {
   "cell_type": "code",
   "execution_count": 1,
   "id": "lmAYPPsWYGOy",
   "metadata": {
    "colab": {
     "base_uri": "https://localhost:8080/"
    },
    "executionInfo": {
     "elapsed": 4,
     "status": "ok",
     "timestamp": 1711629827159,
     "user": {
      "displayName": "Alex Zavalny",
      "userId": "17496189928974447005"
     },
     "user_tz": 240
    },
    "id": "lmAYPPsWYGOy",
    "outputId": "1329fcad-4ab4-4cf5-93b4-f540752dff24"
   },
   "outputs": [
    {
     "name": "stdout",
     "output_type": "stream",
     "text": [
      "Your runtime has 17.1 gigabytes of available RAM\n",
      "\n"
     ]
    }
   ],
   "source": [
    "from psutil import virtual_memory\n",
    "ram_gb = virtual_memory().total / 1e9\n",
    "print('Your runtime has {:.1f} gigabytes of available RAM\\n'.format(ram_gb))"
   ]
  },
  {
   "cell_type": "code",
   "execution_count": 2,
   "id": "x-xhms26YKcL",
   "metadata": {
    "colab": {
     "base_uri": "https://localhost:8080/"
    },
    "executionInfo": {
     "elapsed": 14,
     "status": "ok",
     "timestamp": 1711629829970,
     "user": {
      "displayName": "Alex Zavalny",
      "userId": "17496189928974447005"
     },
     "user_tz": 240
    },
    "id": "x-xhms26YKcL",
    "outputId": "5793ab1f-1a77-4a6a-9390-920130874d3b"
   },
   "outputs": [
    {
     "name": "stdout",
     "output_type": "stream",
     "text": [
      "Thu Mar 28 13:19:39 2024       \n",
      "+---------------------------------------------------------------------------------------+\n",
      "| NVIDIA-SMI 536.23                 Driver Version: 536.23       CUDA Version: 12.2     |\n",
      "|-----------------------------------------+----------------------+----------------------+\n",
      "| GPU  Name                     TCC/WDDM  | Bus-Id        Disp.A | Volatile Uncorr. ECC |\n",
      "| Fan  Temp   Perf          Pwr:Usage/Cap |         Memory-Usage | GPU-Util  Compute M. |\n",
      "|                                         |                      |               MIG M. |\n",
      "|=========================================+======================+======================|\n",
      "|   0  NVIDIA GeForce GTX 1080      WDDM  | 00000000:01:00.0  On |                  N/A |\n",
      "|  0%   37C    P8               9W / 200W |    432MiB /  8192MiB |      2%      Default |\n",
      "|                                         |                      |                  N/A |\n",
      "+-----------------------------------------+----------------------+----------------------+\n",
      "                                                                                         \n",
      "+---------------------------------------------------------------------------------------+\n",
      "| Processes:                                                                            |\n",
      "|  GPU   GI   CI        PID   Type   Process name                            GPU Memory |\n",
      "|        ID   ID                                                             Usage      |\n",
      "|=======================================================================================|\n",
      "|    0   N/A  N/A      5736    C+G   ...t\\SelfServicePlugin\\SelfService.exe    N/A      |\n",
      "|    0   N/A  N/A      6792    C+G   ...ekyb3d8bbwe\\PhoneExperienceHost.exe    N/A      |\n",
      "|    0   N/A  N/A      8096    C+G   ...on\\122.0.2365.92\\msedgewebview2.exe    N/A      |\n",
      "|    0   N/A  N/A      8648    C+G   C:\\Windows\\explorer.exe                   N/A      |\n",
      "|    0   N/A  N/A     10056    C+G   ...2txyewy\\StartMenuExperienceHost.exe    N/A      |\n",
      "|    0   N/A  N/A     10608    C+G   ...5n1h2txyewy\\ShellExperienceHost.exe    N/A      |\n",
      "|    0   N/A  N/A     11000    C+G   ...t.LockApp_cw5n1h2txyewy\\LockApp.exe    N/A      |\n",
      "|    0   N/A  N/A     12080    C+G   ...CBS_cw5n1h2txyewy\\TextInputHost.exe    N/A      |\n",
      "|    0   N/A  N/A     12964    C+G   ...ne\\Binaries\\Win64\\EpicWebHelper.exe    N/A      |\n",
      "|    0   N/A  N/A     13096    C+G   ...inaries\\Win64\\EpicGamesLauncher.exe    N/A      |\n",
      "|    0   N/A  N/A     14024    C+G   ...crosoft\\Edge\\Application\\msedge.exe    N/A      |\n",
      "|    0   N/A  N/A     15076    C+G   ...\\Local\\slack\\app-4.36.136\\slack.exe    N/A      |\n",
      "|    0   N/A  N/A     15888    C+G   ...on\\HEX\\Creative Cloud UI Helper.exe    N/A      |\n",
      "|    0   N/A  N/A     18560    C+G   ...oogle\\Chrome\\Application\\chrome.exe    N/A      |\n",
      "|    0   N/A  N/A     19004    C+G   ....Search_cw5n1h2txyewy\\SearchApp.exe    N/A      |\n",
      "+---------------------------------------------------------------------------------------+\n"
     ]
    }
   ],
   "source": [
    "!nvidia-smi"
   ]
  },
  {
   "cell_type": "markdown",
   "id": "3ce414f3",
   "metadata": {
    "id": "3ce414f3"
   },
   "source": [
    "# Machine Learning Model Experiments\n",
    "\n",
    "Based on the features:\n",
    "1. Classify what type of crime it is\n",
    "2. Regression prediction on where the crime took place\n",
    "3. Regression prediction on when the crime took place\n",
    "\n",
    "Try out these models:\n",
    "1) K Nearest Neighbors\n",
    "2) Decision Tree\n",
    "3) Random Forest\n",
    "4) Logistic Regression\n",
    "5) Support Vector Machine\n",
    "6) Multi Layer Perceptron\n",
    "7) XGBoost"
   ]
  },
  {
   "cell_type": "code",
   "execution_count": 3,
   "id": "463752b3",
   "metadata": {
    "executionInfo": {
     "elapsed": 1855,
     "status": "ok",
     "timestamp": 1711629984523,
     "user": {
      "displayName": "Alex Zavalny",
      "userId": "17496189928974447005"
     },
     "user_tz": 240
    },
    "id": "463752b3"
   },
   "outputs": [],
   "source": [
    "import pandas as pd\n",
    "import numpy as np\n",
    "from sklearn.preprocessing import OrdinalEncoder, OneHotEncoder, StandardScaler, LabelEncoder\n",
    "from sklearn.pipeline import Pipeline\n",
    "from sklearn.compose import ColumnTransformer\n",
    "from sklearn.model_selection import train_test_split\n",
    "from datetime import datetime\n",
    "import matplotlib.pyplot as plt\n",
    "\n",
    "from sklearn.neighbors import KNeighborsClassifier\n",
    "from sklearn.tree import DecisionTreeClassifier\n",
    "from sklearn.ensemble import RandomForestClassifier, RandomForestRegressor\n",
    "from sklearn.linear_model import LogisticRegression, LinearRegression\n",
    "from sklearn.svm import SVC, SVR\n",
    "from sklearn.neural_network import MLPClassifier, MLPRegressor\n",
    "from sklearn.neighbors import KNeighborsRegressor\n",
    "from sklearn.tree import DecisionTreeRegressor\n",
    "from sklearn.naive_bayes import MultinomialNB\n",
    "from xgboost import XGBClassifier, XGBRegressor\n",
    "\n",
    "from sklearn.metrics import (accuracy_score, classification_report, confusion_matrix, mean_squared_error,\n",
    "mean_absolute_error, r2_score, f1_score, precision_recall_fscore_support, roc_auc_score)\n",
    "from sklearn.model_selection import GridSearchCV\n",
    "import joblib\n",
    "from joblib import dump"
   ]
  },
  {
   "cell_type": "code",
   "execution_count": 4,
   "id": "933067d3",
   "metadata": {},
   "outputs": [],
   "source": [
    "data = pd.read_csv(\"data_full_features.csv\")"
   ]
  },
  {
   "cell_type": "code",
   "execution_count": 5,
   "id": "6763f339",
   "metadata": {
    "colab": {
     "base_uri": "https://localhost:8080/",
     "height": 330
    },
    "executionInfo": {
     "elapsed": 287,
     "status": "ok",
     "timestamp": 1711630015285,
     "user": {
      "displayName": "Alex Zavalny",
      "userId": "17496189928974447005"
     },
     "user_tz": 240
    },
    "id": "6763f339",
    "outputId": "293a0e37-3240-4ce2-ee80-f9b88d9c89cd"
   },
   "outputs": [
    {
     "data": {
      "text/html": [
       "<div>\n",
       "<style scoped>\n",
       "    .dataframe tbody tr th:only-of-type {\n",
       "        vertical-align: middle;\n",
       "    }\n",
       "\n",
       "    .dataframe tbody tr th {\n",
       "        vertical-align: top;\n",
       "    }\n",
       "\n",
       "    .dataframe thead th {\n",
       "        text-align: right;\n",
       "    }\n",
       "</style>\n",
       "<table border=\"1\" class=\"dataframe\">\n",
       "  <thead>\n",
       "    <tr style=\"text-align: right;\">\n",
       "      <th></th>\n",
       "      <th>crime_type</th>\n",
       "      <th>point_x</th>\n",
       "      <th>point_y</th>\n",
       "      <th>Year</th>\n",
       "      <th>Month</th>\n",
       "      <th>Day</th>\n",
       "      <th>Hour</th>\n",
       "      <th>Minute</th>\n",
       "      <th>Weekday</th>\n",
       "      <th>IsWeekend</th>\n",
       "      <th>street_name</th>\n",
       "      <th>block_number</th>\n",
       "      <th>distance_to_nearest_police_station</th>\n",
       "      <th>temperature_2m_max (°F)</th>\n",
       "      <th>temperature_2m_min (°F)</th>\n",
       "      <th>temperature_2m_mean (°F)</th>\n",
       "      <th>precipitation_sum (mm)</th>\n",
       "      <th>precipitation_hours (h)</th>\n",
       "      <th>Unemployment Rate of a Population</th>\n",
       "    </tr>\n",
       "  </thead>\n",
       "  <tbody>\n",
       "    <tr>\n",
       "      <th>0</th>\n",
       "      <td>Robbery Firearm</td>\n",
       "      <td>-75.072610</td>\n",
       "      <td>40.041574</td>\n",
       "      <td>2023</td>\n",
       "      <td>10</td>\n",
       "      <td>13</td>\n",
       "      <td>23</td>\n",
       "      <td>54</td>\n",
       "      <td>4</td>\n",
       "      <td>0</td>\n",
       "      <td>BLOCK LARGE</td>\n",
       "      <td>6600</td>\n",
       "      <td>0.017699</td>\n",
       "      <td>65.5</td>\n",
       "      <td>51.5</td>\n",
       "      <td>57.2</td>\n",
       "      <td>0.0</td>\n",
       "      <td>0.0</td>\n",
       "      <td>5.4</td>\n",
       "    </tr>\n",
       "    <tr>\n",
       "      <th>1</th>\n",
       "      <td>Thefts</td>\n",
       "      <td>-75.108462</td>\n",
       "      <td>39.994303</td>\n",
       "      <td>2023</td>\n",
       "      <td>10</td>\n",
       "      <td>13</td>\n",
       "      <td>23</td>\n",
       "      <td>27</td>\n",
       "      <td>4</td>\n",
       "      <td>0</td>\n",
       "      <td>BLOCK JOYCE</td>\n",
       "      <td>3200</td>\n",
       "      <td>0.028199</td>\n",
       "      <td>65.5</td>\n",
       "      <td>51.5</td>\n",
       "      <td>57.2</td>\n",
       "      <td>0.0</td>\n",
       "      <td>0.0</td>\n",
       "      <td>5.4</td>\n",
       "    </tr>\n",
       "    <tr>\n",
       "      <th>2</th>\n",
       "      <td>Thefts</td>\n",
       "      <td>-75.136074</td>\n",
       "      <td>39.991890</td>\n",
       "      <td>2023</td>\n",
       "      <td>10</td>\n",
       "      <td>13</td>\n",
       "      <td>23</td>\n",
       "      <td>24</td>\n",
       "      <td>4</td>\n",
       "      <td>0</td>\n",
       "      <td>BLOCK N</td>\n",
       "      <td>2700</td>\n",
       "      <td>0.029554</td>\n",
       "      <td>65.5</td>\n",
       "      <td>51.5</td>\n",
       "      <td>57.2</td>\n",
       "      <td>0.0</td>\n",
       "      <td>0.0</td>\n",
       "      <td>5.4</td>\n",
       "    </tr>\n",
       "    <tr>\n",
       "      <th>3</th>\n",
       "      <td>Robbery Firearm</td>\n",
       "      <td>-75.107092</td>\n",
       "      <td>40.032184</td>\n",
       "      <td>2023</td>\n",
       "      <td>10</td>\n",
       "      <td>13</td>\n",
       "      <td>23</td>\n",
       "      <td>19</td>\n",
       "      <td>4</td>\n",
       "      <td>0</td>\n",
       "      <td>BLOCK ADAMS</td>\n",
       "      <td>700</td>\n",
       "      <td>0.038528</td>\n",
       "      <td>65.5</td>\n",
       "      <td>51.5</td>\n",
       "      <td>57.2</td>\n",
       "      <td>0.0</td>\n",
       "      <td>0.0</td>\n",
       "      <td>5.4</td>\n",
       "    </tr>\n",
       "    <tr>\n",
       "      <th>4</th>\n",
       "      <td>Vandalism/Criminal Mischief</td>\n",
       "      <td>-75.234274</td>\n",
       "      <td>39.925604</td>\n",
       "      <td>2023</td>\n",
       "      <td>10</td>\n",
       "      <td>13</td>\n",
       "      <td>23</td>\n",
       "      <td>12</td>\n",
       "      <td>4</td>\n",
       "      <td>0</td>\n",
       "      <td>BLOCK W</td>\n",
       "      <td>6400</td>\n",
       "      <td>0.000292</td>\n",
       "      <td>65.5</td>\n",
       "      <td>51.5</td>\n",
       "      <td>57.2</td>\n",
       "      <td>0.0</td>\n",
       "      <td>0.0</td>\n",
       "      <td>5.4</td>\n",
       "    </tr>\n",
       "  </tbody>\n",
       "</table>\n",
       "</div>"
      ],
      "text/plain": [
       "                    crime_type    point_x    point_y  Year  Month  Day  Hour  \\\n",
       "0              Robbery Firearm -75.072610  40.041574  2023     10   13    23   \n",
       "1                       Thefts -75.108462  39.994303  2023     10   13    23   \n",
       "2                       Thefts -75.136074  39.991890  2023     10   13    23   \n",
       "3              Robbery Firearm -75.107092  40.032184  2023     10   13    23   \n",
       "4  Vandalism/Criminal Mischief -75.234274  39.925604  2023     10   13    23   \n",
       "\n",
       "   Minute  Weekday  IsWeekend  street_name  block_number  \\\n",
       "0      54        4          0  BLOCK LARGE          6600   \n",
       "1      27        4          0  BLOCK JOYCE          3200   \n",
       "2      24        4          0      BLOCK N          2700   \n",
       "3      19        4          0  BLOCK ADAMS           700   \n",
       "4      12        4          0      BLOCK W          6400   \n",
       "\n",
       "   distance_to_nearest_police_station  temperature_2m_max (°F)  \\\n",
       "0                            0.017699                     65.5   \n",
       "1                            0.028199                     65.5   \n",
       "2                            0.029554                     65.5   \n",
       "3                            0.038528                     65.5   \n",
       "4                            0.000292                     65.5   \n",
       "\n",
       "   temperature_2m_min (°F)  temperature_2m_mean (°F)  precipitation_sum (mm)  \\\n",
       "0                     51.5                      57.2                     0.0   \n",
       "1                     51.5                      57.2                     0.0   \n",
       "2                     51.5                      57.2                     0.0   \n",
       "3                     51.5                      57.2                     0.0   \n",
       "4                     51.5                      57.2                     0.0   \n",
       "\n",
       "   precipitation_hours (h)  Unemployment Rate of a Population  \n",
       "0                      0.0                                5.4  \n",
       "1                      0.0                                5.4  \n",
       "2                      0.0                                5.4  \n",
       "3                      0.0                                5.4  \n",
       "4                      0.0                                5.4  "
      ]
     },
     "execution_count": 5,
     "metadata": {},
     "output_type": "execute_result"
    }
   ],
   "source": [
    "data.drop(\"Unnamed: 0\", axis=1, inplace=True)\n",
    "data.head()"
   ]
  },
  {
   "cell_type": "code",
   "execution_count": 6,
   "id": "fb6e0b7d",
   "metadata": {
    "colab": {
     "base_uri": "https://localhost:8080/"
    },
    "executionInfo": {
     "elapsed": 733,
     "status": "ok",
     "timestamp": 1711630017484,
     "user": {
      "displayName": "Alex Zavalny",
      "userId": "17496189928974447005"
     },
     "user_tz": 240
    },
    "id": "fb6e0b7d",
    "outputId": "c9403725-1cd8-4fac-ed7a-288a344a9cd3"
   },
   "outputs": [
    {
     "data": {
      "text/plain": [
       "0.20655217949451754"
      ]
     },
     "execution_count": 6,
     "metadata": {},
     "output_type": "execute_result"
    }
   ],
   "source": [
    "# Largest prior\n",
    "data[\"crime_type\"].value_counts()[0]/data[\"crime_type\"].value_counts().sum()"
   ]
  },
  {
   "cell_type": "code",
   "execution_count": 7,
   "id": "15223aa9",
   "metadata": {
    "executionInfo": {
     "elapsed": 2,
     "status": "ok",
     "timestamp": 1711630018849,
     "user": {
      "displayName": "Alex Zavalny",
      "userId": "17496189928974447005"
     },
     "user_tz": 240
    },
    "id": "15223aa9"
   },
   "outputs": [],
   "source": [
    "feature_data_pipeline = ColumnTransformer([\n",
    "    ('passthrough', 'passthrough', ['IsWeekend', 'Year', 'Month', 'Day', 'Hour', 'Minute', 'Weekday']),\n",
    "    (\"numerical\", StandardScaler(), [\"point_x\", \"point_y\",\n",
    "        \"block_number\", \"distance_to_nearest_police_station\",\n",
    "        \"temperature_2m_max (°F)\", \"temperature_2m_min (°F)\",\n",
    "        \"temperature_2m_mean (°F)\", \"precipitation_sum (mm)\",\n",
    "        \"precipitation_hours (h)\", \"Unemployment Rate of a Population\"])\n",
    "])"
   ]
  },
  {
   "cell_type": "code",
   "execution_count": 8,
   "id": "24c85ada",
   "metadata": {
    "executionInfo": {
     "elapsed": 160931,
     "status": "ok",
     "timestamp": 1711630180633,
     "user": {
      "displayName": "Alex Zavalny",
      "userId": "17496189928974447005"
     },
     "user_tz": 240
    },
    "id": "24c85ada"
   },
   "outputs": [],
   "source": [
    "from imblearn.over_sampling import SMOTE\n",
    "from sklearn.model_selection import train_test_split\n",
    "\n",
    "# Using SMOTE; We have to adjust target column\n",
    "# Assuming 'data' is your DataFrame and 'target' is the column with class labels; what is the target column for our DataFrame\n",
    "X = data.drop(['crime_type', 'street_name'], axis=1)  # Replace 'target' with the name of your target column\n",
    "y = data['crime_type']  # Replace 'target' with the name of your target column\n",
    "\n",
    "# Splitting the dataset into training and testing sets\n",
    "X_train, X_test, y_train, y_test = train_test_split(X, y, test_size=0.2, random_state=42)\n",
    "\n",
    "# Applying SMOTE\n",
    "smote = SMOTE()\n",
    "X_train_smote, y_train_smote = smote.fit_resample(X_train, y_train)"
   ]
  },
  {
   "cell_type": "markdown",
   "id": "c773c544",
   "metadata": {
    "id": "c773c544"
   },
   "source": [
    "# Model Training"
   ]
  },
  {
   "cell_type": "markdown",
   "id": "e55a95b3",
   "metadata": {
    "id": "e55a95b3"
   },
   "source": [
    "### Classifying Crime Type"
   ]
  },
  {
   "cell_type": "code",
   "execution_count": 9,
   "id": "a7156234",
   "metadata": {
    "executionInfo": {
     "elapsed": 4586,
     "status": "ok",
     "timestamp": 1711630185516,
     "user": {
      "displayName": "Alex Zavalny",
      "userId": "17496189928974447005"
     },
     "user_tz": 240
    },
    "id": "a7156234"
   },
   "outputs": [],
   "source": [
    "#Crime Classification:\n",
    "crimetype_encoder = LabelEncoder()\n",
    "y_train_encoded_smoted = crimetype_encoder.fit_transform(y_train_smote)\n",
    "y_test_encoded = crimetype_encoder.transform(y_test)\n",
    "\n",
    "X_train_encoded_smoted = feature_data_pipeline.fit_transform(X_train_smote)\n",
    "X_test_encoded = feature_data_pipeline.transform(X_test)"
   ]
  },
  {
   "cell_type": "code",
   "execution_count": 10,
   "id": "e2cebd0a",
   "metadata": {
    "colab": {
     "base_uri": "https://localhost:8080/"
    },
    "executionInfo": {
     "elapsed": 52,
     "status": "ok",
     "timestamp": 1711630185517,
     "user": {
      "displayName": "Alex Zavalny",
      "userId": "17496189928974447005"
     },
     "user_tz": 240
    },
    "id": "e2cebd0a",
    "outputId": "047550d3-18e0-429c-c05c-5e7776c2c2e3"
   },
   "outputs": [
    {
     "data": {
      "text/plain": [
       "((9052036, 17), (9052036,), (391357, 17), (391357,))"
      ]
     },
     "execution_count": 10,
     "metadata": {},
     "output_type": "execute_result"
    }
   ],
   "source": [
    "X_train_encoded_smoted.shape, y_train_encoded_smoted.shape, X_test_encoded.shape, y_test_encoded.shape"
   ]
  },
  {
   "cell_type": "code",
   "execution_count": 11,
   "id": "R4Y_ilalecDm",
   "metadata": {
    "colab": {
     "base_uri": "https://localhost:8080/",
     "height": 141
    },
    "executionInfo": {
     "elapsed": 22,
     "status": "error",
     "timestamp": 1711640760304,
     "user": {
      "displayName": "Alex Zavalny",
      "userId": "17496189928974447005"
     },
     "user_tz": 240
    },
    "id": "R4Y_ilalecDm",
    "outputId": "eab592b2-b1c7-484b-d9b8-e1f7730d84a4"
   },
   "outputs": [
    {
     "data": {
      "text/html": [
       "<div>\n",
       "<style scoped>\n",
       "    .dataframe tbody tr th:only-of-type {\n",
       "        vertical-align: middle;\n",
       "    }\n",
       "\n",
       "    .dataframe tbody tr th {\n",
       "        vertical-align: top;\n",
       "    }\n",
       "\n",
       "    .dataframe thead th {\n",
       "        text-align: right;\n",
       "    }\n",
       "</style>\n",
       "<table border=\"1\" class=\"dataframe\">\n",
       "  <thead>\n",
       "    <tr style=\"text-align: right;\">\n",
       "      <th></th>\n",
       "      <th>point_x</th>\n",
       "      <th>point_y</th>\n",
       "      <th>Year</th>\n",
       "      <th>Month</th>\n",
       "      <th>Day</th>\n",
       "      <th>Hour</th>\n",
       "      <th>Minute</th>\n",
       "      <th>Weekday</th>\n",
       "      <th>IsWeekend</th>\n",
       "      <th>block_number</th>\n",
       "      <th>distance_to_nearest_police_station</th>\n",
       "      <th>temperature_2m_max (°F)</th>\n",
       "      <th>temperature_2m_min (°F)</th>\n",
       "      <th>temperature_2m_mean (°F)</th>\n",
       "      <th>precipitation_sum (mm)</th>\n",
       "      <th>precipitation_hours (h)</th>\n",
       "      <th>Unemployment Rate of a Population</th>\n",
       "    </tr>\n",
       "  </thead>\n",
       "  <tbody>\n",
       "    <tr>\n",
       "      <th>0</th>\n",
       "      <td>-75.243824</td>\n",
       "      <td>39.916949</td>\n",
       "      <td>2019</td>\n",
       "      <td>6</td>\n",
       "      <td>13</td>\n",
       "      <td>17</td>\n",
       "      <td>5</td>\n",
       "      <td>3</td>\n",
       "      <td>0</td>\n",
       "      <td>7200</td>\n",
       "      <td>0.018497</td>\n",
       "      <td>71.000000</td>\n",
       "      <td>60.200000</td>\n",
       "      <td>64.200000</td>\n",
       "      <td>25.200000</td>\n",
       "      <td>13.000000</td>\n",
       "      <td>5.700000</td>\n",
       "    </tr>\n",
       "    <tr>\n",
       "      <th>1</th>\n",
       "      <td>-75.041910</td>\n",
       "      <td>40.080531</td>\n",
       "      <td>2022</td>\n",
       "      <td>11</td>\n",
       "      <td>30</td>\n",
       "      <td>12</td>\n",
       "      <td>56</td>\n",
       "      <td>2</td>\n",
       "      <td>0</td>\n",
       "      <td>9200</td>\n",
       "      <td>0.020388</td>\n",
       "      <td>56.400000</td>\n",
       "      <td>37.500000</td>\n",
       "      <td>46.700000</td>\n",
       "      <td>16.100000</td>\n",
       "      <td>10.000000</td>\n",
       "      <td>5.000000</td>\n",
       "    </tr>\n",
       "    <tr>\n",
       "      <th>2</th>\n",
       "      <td>-75.210140</td>\n",
       "      <td>39.969813</td>\n",
       "      <td>2011</td>\n",
       "      <td>1</td>\n",
       "      <td>11</td>\n",
       "      <td>8</td>\n",
       "      <td>18</td>\n",
       "      <td>1</td>\n",
       "      <td>0</td>\n",
       "      <td>4300</td>\n",
       "      <td>0.017745</td>\n",
       "      <td>33.500000</td>\n",
       "      <td>22.300000</td>\n",
       "      <td>27.300000</td>\n",
       "      <td>4.600000</td>\n",
       "      <td>6.000000</td>\n",
       "      <td>10.600000</td>\n",
       "    </tr>\n",
       "    <tr>\n",
       "      <th>3</th>\n",
       "      <td>-75.079761</td>\n",
       "      <td>40.042664</td>\n",
       "      <td>2022</td>\n",
       "      <td>10</td>\n",
       "      <td>17</td>\n",
       "      <td>16</td>\n",
       "      <td>10</td>\n",
       "      <td>0</td>\n",
       "      <td>0</td>\n",
       "      <td>1200</td>\n",
       "      <td>0.025939</td>\n",
       "      <td>67.300000</td>\n",
       "      <td>54.900000</td>\n",
       "      <td>59.700000</td>\n",
       "      <td>2.900000</td>\n",
       "      <td>10.000000</td>\n",
       "      <td>5.000000</td>\n",
       "    </tr>\n",
       "    <tr>\n",
       "      <th>4</th>\n",
       "      <td>-75.152438</td>\n",
       "      <td>40.007778</td>\n",
       "      <td>2016</td>\n",
       "      <td>7</td>\n",
       "      <td>19</td>\n",
       "      <td>11</td>\n",
       "      <td>39</td>\n",
       "      <td>1</td>\n",
       "      <td>0</td>\n",
       "      <td>3600</td>\n",
       "      <td>0.015529</td>\n",
       "      <td>87.800000</td>\n",
       "      <td>73.400000</td>\n",
       "      <td>80.200000</td>\n",
       "      <td>0.000000</td>\n",
       "      <td>0.000000</td>\n",
       "      <td>7.400000</td>\n",
       "    </tr>\n",
       "    <tr>\n",
       "      <th>...</th>\n",
       "      <td>...</td>\n",
       "      <td>...</td>\n",
       "      <td>...</td>\n",
       "      <td>...</td>\n",
       "      <td>...</td>\n",
       "      <td>...</td>\n",
       "      <td>...</td>\n",
       "      <td>...</td>\n",
       "      <td>...</td>\n",
       "      <td>...</td>\n",
       "      <td>...</td>\n",
       "      <td>...</td>\n",
       "      <td>...</td>\n",
       "      <td>...</td>\n",
       "      <td>...</td>\n",
       "      <td>...</td>\n",
       "      <td>...</td>\n",
       "    </tr>\n",
       "    <tr>\n",
       "      <th>9052031</th>\n",
       "      <td>-75.072586</td>\n",
       "      <td>40.007133</td>\n",
       "      <td>2018</td>\n",
       "      <td>1</td>\n",
       "      <td>26</td>\n",
       "      <td>5</td>\n",
       "      <td>14</td>\n",
       "      <td>0</td>\n",
       "      <td>0</td>\n",
       "      <td>6500</td>\n",
       "      <td>0.025251</td>\n",
       "      <td>35.289818</td>\n",
       "      <td>25.435890</td>\n",
       "      <td>30.837424</td>\n",
       "      <td>0.000000</td>\n",
       "      <td>0.000000</td>\n",
       "      <td>6.094049</td>\n",
       "    </tr>\n",
       "    <tr>\n",
       "      <th>9052032</th>\n",
       "      <td>-75.115686</td>\n",
       "      <td>39.999963</td>\n",
       "      <td>2012</td>\n",
       "      <td>3</td>\n",
       "      <td>7</td>\n",
       "      <td>19</td>\n",
       "      <td>33</td>\n",
       "      <td>2</td>\n",
       "      <td>0</td>\n",
       "      <td>3400</td>\n",
       "      <td>0.015315</td>\n",
       "      <td>60.565999</td>\n",
       "      <td>39.550102</td>\n",
       "      <td>47.913281</td>\n",
       "      <td>1.579076</td>\n",
       "      <td>1.973845</td>\n",
       "      <td>6.955333</td>\n",
       "    </tr>\n",
       "    <tr>\n",
       "      <th>9052033</th>\n",
       "      <td>-75.225634</td>\n",
       "      <td>39.893700</td>\n",
       "      <td>2016</td>\n",
       "      <td>6</td>\n",
       "      <td>15</td>\n",
       "      <td>14</td>\n",
       "      <td>7</td>\n",
       "      <td>3</td>\n",
       "      <td>0</td>\n",
       "      <td>8000</td>\n",
       "      <td>0.043467</td>\n",
       "      <td>75.607596</td>\n",
       "      <td>64.648996</td>\n",
       "      <td>68.852631</td>\n",
       "      <td>6.357298</td>\n",
       "      <td>6.096039</td>\n",
       "      <td>6.783776</td>\n",
       "    </tr>\n",
       "    <tr>\n",
       "      <th>9052034</th>\n",
       "      <td>-75.099273</td>\n",
       "      <td>40.031859</td>\n",
       "      <td>2020</td>\n",
       "      <td>9</td>\n",
       "      <td>26</td>\n",
       "      <td>20</td>\n",
       "      <td>4</td>\n",
       "      <td>5</td>\n",
       "      <td>1</td>\n",
       "      <td>6700</td>\n",
       "      <td>0.016317</td>\n",
       "      <td>56.317303</td>\n",
       "      <td>40.984195</td>\n",
       "      <td>49.456539</td>\n",
       "      <td>0.000000</td>\n",
       "      <td>0.000000</td>\n",
       "      <td>12.344824</td>\n",
       "    </tr>\n",
       "    <tr>\n",
       "      <th>9052035</th>\n",
       "      <td>-75.220680</td>\n",
       "      <td>39.961146</td>\n",
       "      <td>2021</td>\n",
       "      <td>3</td>\n",
       "      <td>21</td>\n",
       "      <td>14</td>\n",
       "      <td>13</td>\n",
       "      <td>3</td>\n",
       "      <td>0</td>\n",
       "      <td>700</td>\n",
       "      <td>0.012608</td>\n",
       "      <td>62.631726</td>\n",
       "      <td>40.748730</td>\n",
       "      <td>51.826059</td>\n",
       "      <td>0.000000</td>\n",
       "      <td>0.000000</td>\n",
       "      <td>5.280456</td>\n",
       "    </tr>\n",
       "  </tbody>\n",
       "</table>\n",
       "<p>9052036 rows × 17 columns</p>\n",
       "</div>"
      ],
      "text/plain": [
       "           point_x    point_y  Year  Month  Day  Hour  Minute  Weekday  \\\n",
       "0       -75.243824  39.916949  2019      6   13    17       5        3   \n",
       "1       -75.041910  40.080531  2022     11   30    12      56        2   \n",
       "2       -75.210140  39.969813  2011      1   11     8      18        1   \n",
       "3       -75.079761  40.042664  2022     10   17    16      10        0   \n",
       "4       -75.152438  40.007778  2016      7   19    11      39        1   \n",
       "...            ...        ...   ...    ...  ...   ...     ...      ...   \n",
       "9052031 -75.072586  40.007133  2018      1   26     5      14        0   \n",
       "9052032 -75.115686  39.999963  2012      3    7    19      33        2   \n",
       "9052033 -75.225634  39.893700  2016      6   15    14       7        3   \n",
       "9052034 -75.099273  40.031859  2020      9   26    20       4        5   \n",
       "9052035 -75.220680  39.961146  2021      3   21    14      13        3   \n",
       "\n",
       "         IsWeekend  block_number  distance_to_nearest_police_station  \\\n",
       "0                0          7200                            0.018497   \n",
       "1                0          9200                            0.020388   \n",
       "2                0          4300                            0.017745   \n",
       "3                0          1200                            0.025939   \n",
       "4                0          3600                            0.015529   \n",
       "...            ...           ...                                 ...   \n",
       "9052031          0          6500                            0.025251   \n",
       "9052032          0          3400                            0.015315   \n",
       "9052033          0          8000                            0.043467   \n",
       "9052034          1          6700                            0.016317   \n",
       "9052035          0           700                            0.012608   \n",
       "\n",
       "         temperature_2m_max (°F)  temperature_2m_min (°F)  \\\n",
       "0                      71.000000                60.200000   \n",
       "1                      56.400000                37.500000   \n",
       "2                      33.500000                22.300000   \n",
       "3                      67.300000                54.900000   \n",
       "4                      87.800000                73.400000   \n",
       "...                          ...                      ...   \n",
       "9052031                35.289818                25.435890   \n",
       "9052032                60.565999                39.550102   \n",
       "9052033                75.607596                64.648996   \n",
       "9052034                56.317303                40.984195   \n",
       "9052035                62.631726                40.748730   \n",
       "\n",
       "         temperature_2m_mean (°F)  precipitation_sum (mm)  \\\n",
       "0                       64.200000               25.200000   \n",
       "1                       46.700000               16.100000   \n",
       "2                       27.300000                4.600000   \n",
       "3                       59.700000                2.900000   \n",
       "4                       80.200000                0.000000   \n",
       "...                           ...                     ...   \n",
       "9052031                 30.837424                0.000000   \n",
       "9052032                 47.913281                1.579076   \n",
       "9052033                 68.852631                6.357298   \n",
       "9052034                 49.456539                0.000000   \n",
       "9052035                 51.826059                0.000000   \n",
       "\n",
       "         precipitation_hours (h)  Unemployment Rate of a Population  \n",
       "0                      13.000000                           5.700000  \n",
       "1                      10.000000                           5.000000  \n",
       "2                       6.000000                          10.600000  \n",
       "3                      10.000000                           5.000000  \n",
       "4                       0.000000                           7.400000  \n",
       "...                          ...                                ...  \n",
       "9052031                 0.000000                           6.094049  \n",
       "9052032                 1.973845                           6.955333  \n",
       "9052033                 6.096039                           6.783776  \n",
       "9052034                 0.000000                          12.344824  \n",
       "9052035                 0.000000                           5.280456  \n",
       "\n",
       "[9052036 rows x 17 columns]"
      ]
     },
     "execution_count": 11,
     "metadata": {},
     "output_type": "execute_result"
    }
   ],
   "source": [
    "X_train_smote"
   ]
  },
  {
   "cell_type": "code",
   "execution_count": null,
   "id": "0aac5aab",
   "metadata": {
    "colab": {
     "base_uri": "https://localhost:8080/"
    },
    "id": "0aac5aab",
    "outputId": "da512991-1a97-4e74-f23f-ad62aaa59ee1"
   },
   "outputs": [
    {
     "name": "stdout",
     "output_type": "stream",
     "text": [
      "RandomForestClassifier(n_estimators=10, n_jobs=-1, verbose=2)\n"
     ]
    },
    {
     "name": "stderr",
     "output_type": "stream",
     "text": [
      "[Parallel(n_jobs=-1)]: Using backend ThreadingBackend with 8 concurrent workers.\n"
     ]
    },
    {
     "name": "stdout",
     "output_type": "stream",
     "text": [
      "building tree 1 of 10building tree 2 of 10\n",
      "building tree 3 of 10\n",
      "building tree 4 of 10building tree 5 of 10\n",
      "\n",
      "building tree 6 of 10\n",
      "\n",
      "building tree 7 of 10\n",
      "building tree 8 of 10\n",
      "building tree 9 of 10building tree 10 of 10\n",
      "\n"
     ]
    },
    {
     "name": "stderr",
     "output_type": "stream",
     "text": [
      "[Parallel(n_jobs=-1)]: Done   7 out of  10 | elapsed:  2.9min remaining:  1.2min\n",
      "[Parallel(n_jobs=-1)]: Done  10 out of  10 | elapsed:  4.7min finished\n",
      "[Parallel(n_jobs=8)]: Using backend ThreadingBackend with 8 concurrent workers.\n",
      "[Parallel(n_jobs=8)]: Done   7 out of  10 | elapsed:    4.3s remaining:    1.8s\n",
      "[Parallel(n_jobs=8)]: Done  10 out of  10 | elapsed:    4.7s finished\n"
     ]
    },
    {
     "name": "stdout",
     "output_type": "stream",
     "text": [
      "Accuracy: 0.22278124576793057\n",
      "Precision: [0.09416597 0.0999856  0.01686122 0.11212631 0.11586225 0.14768461\n",
      " 0.2025639  0.02940294 0.02004076 0.19618821 0.18298969 0.81538462\n",
      " 0.22795276 0.15081261 0.36189484 0.17955326 0.06843048 0.44283088\n",
      " 0.064231   0.03494495 0.04766444 0.07054288 0.05198648 0.25712935\n",
      " 0.47252747 0.26339969 0.23033954 0.10255921]\n",
      "Recall: [0.20823272 0.14735055 0.04615385 0.21889269 0.14178338 0.26642036\n",
      " 0.34725635 0.07555898 0.04678826 0.20341685 0.34299517 0.97695853\n",
      " 0.52350814 0.19389414 0.35403995 0.30690162 0.0847082  0.7625831\n",
      " 0.1297619  0.04376499 0.07507508 0.07198299 0.04205488 0.18152421\n",
      " 0.35190565 0.45502646 0.12149234 0.07919186]\n",
      "F1 Score: 0.22964055991971016\n",
      "MultinomialNB()\n",
      "Error: Negative values in data passed to MultinomialNB (input X) on model MultinomialNB()\n",
      "DecisionTreeClassifier()\n",
      "Accuracy: 0.1857792245954461\n",
      "Precision: [0.09497166 0.09730978 0.01200229 0.09625809 0.10588592 0.12443161\n",
      " 0.17774002 0.02260605 0.01231587 0.18024935 0.10950081 0.8502994\n",
      " 0.15119278 0.11182286 0.32676537 0.07157058 0.03904078 0.38153547\n",
      " 0.03215768 0.02176789 0.02136752 0.04961262 0.04605344 0.21326933\n",
      " 0.43503795 0.17325349 0.19381369 0.05586735]\n",
      "Recall: [0.15028171 0.10725084 0.03727811 0.15710616 0.1003409  0.17692939\n",
      " 0.28555829 0.06861989 0.04044409 0.1539387  0.32850242 0.87250384\n",
      " 0.42405063 0.13349792 0.27802649 0.26431718 0.08298449 0.62139918\n",
      " 0.11071429 0.05425659 0.06756757 0.07421584 0.06393709 0.15571736\n",
      " 0.29762273 0.38271605 0.13301148 0.09688836]\n",
      "F1 Score: 0.19807797103470737\n",
      "KNeighborsClassifier()\n",
      "Accuracy: 0.09350797353822725\n",
      "Precision: [0.05374812 0.06604471 0.01000177 0.0652222  0.0786851  0.10738559\n",
      " 0.0786821  0.01036464 0.00891766 0.14262323 0.02350176 0.45029674\n",
      " 0.06210909 0.11044222 0.17900017 0.01523472 0.02665264 0.14372572\n",
      " 0.01270123 0.01453249 0.01005982 0.04009773 0.03433385 0.17685903\n",
      " 0.29254056 0.04200733 0.17310795 0.03969015]\n",
      "Recall: [0.15177647 0.09950671 0.06686391 0.168379   0.08042059 0.19458128\n",
      " 0.18645919 0.06399383 0.05789056 0.09955785 0.28985507 0.93241167\n",
      " 0.38607595 0.146926   0.12890179 0.12628488 0.07485841 0.53877809\n",
      " 0.10238095 0.04766187 0.11111111 0.05933014 0.04145653 0.06425636\n",
      " 0.07311073 0.2627866  0.04380469 0.07329302]\n",
      "F1 Score: 0.09869700203243428\n",
      "LogisticRegression()\n"
     ]
    },
    {
     "name": "stderr",
     "output_type": "stream",
     "text": [
      "C:\\Users\\Alex Zavalny\\AppData\\Local\\Packages\\PythonSoftwareFoundation.Python.3.8_qbz5n2kfra8p0\\LocalCache\\local-packages\\Python38\\site-packages\\sklearn\\linear_model\\_logistic.py:444: ConvergenceWarning: lbfgs failed to converge (status=1):\n",
      "STOP: TOTAL NO. of ITERATIONS REACHED LIMIT.\n",
      "\n",
      "Increase the number of iterations (max_iter) or scale the data as shown in:\n",
      "    https://scikit-learn.org/stable/modules/preprocessing.html\n",
      "Please also refer to the documentation for alternative solver options:\n",
      "    https://scikit-learn.org/stable/modules/linear_model.html#logistic-regression\n",
      "  n_iter_i = _check_optimize_result(\n",
      "C:\\Users\\Alex Zavalny\\AppData\\Local\\Packages\\PythonSoftwareFoundation.Python.3.8_qbz5n2kfra8p0\\LocalCache\\local-packages\\Python38\\site-packages\\sklearn\\metrics\\_classification.py:1334: UndefinedMetricWarning: Precision and F-score are ill-defined and being set to 0.0 in labels with no predicted samples. Use `zero_division` parameter to control this behavior.\n",
      "  _warn_prf(average, modifier, msg_start, len(result))\n"
     ]
    },
    {
     "name": "stdout",
     "output_type": "stream",
     "text": [
      "Accuracy: 0.050685180027442975\n",
      "Precision: [0.00478469 0.05555556 0.0123353  0.03914943 0.08135169 0.06048252\n",
      " 0.02433425 0.00731806 0.00481195 0.14829659 0.00140273 0.29577465\n",
      " 0.00770066 0.10464571 0.16934242 0.00814694 0.01737194 0.02633912\n",
      " 0.00495848 0.07142857 0.00400013 0.01798879 0.         0.16121212\n",
      " 0.25801258 0.00670466 0.18707811 0.02883625]\n",
      "Recall: [1.14982178e-04 5.30419562e-05 5.20710059e-02 1.63670091e-01\n",
      " 2.66973344e-03 1.47680624e-01 7.23450723e-03 8.32690825e-02\n",
      " 3.01348136e-02 2.22576473e-03 1.88405797e-01 1.00000000e+00\n",
      " 4.04159132e-01 1.34280725e-02 4.75470067e-02 8.07635830e-02\n",
      " 9.60354592e-03 3.85565052e-01 1.94047619e-01 2.99760192e-04\n",
      " 1.80180180e-01 1.29718235e-02 0.00000000e+00 3.32964763e-02\n",
      " 1.06983472e-01 1.58730159e-01 3.09898653e-02 4.12918449e-03]\n",
      "F1 Score: 0.05909054871679943\n",
      "SVC()\n"
     ]
    }
   ],
   "source": [
    "from joblib import dump\n",
    "\n",
    "classifiers = [RandomForestClassifier(n_estimators=10, verbose=2, n_jobs=-1), MultinomialNB(), DecisionTreeClassifier(), KNeighborsClassifier(), LogisticRegression(), SVC(), MLPClassifier(), XGBClassifier()]\n",
    "\n",
    "classification_results = []\n",
    "\n",
    "for model in classifiers:\n",
    "    try:\n",
    "        print(model)\n",
    "        model.fit(X_train_encoded_smoted, y_train_encoded_smoted)\n",
    "        model_name = str(model).split(\"(\")[0]\n",
    "        dump(model, f'models/classification/{model_name}_crime_type.joblib')\n",
    "        y_pred = model.predict(X_test_encoded)\n",
    "        accuracy = accuracy_score(y_test_encoded, y_pred)\n",
    "        precision, recall, fscore, support = precision_recall_fscore_support(y_test_encoded, y_pred)\n",
    "        f1score = f1_score(y_test_encoded, y_pred, average='weighted')\n",
    "\n",
    "        print(\"Accuracy:\", accuracy)\n",
    "        print(\"Precision:\", precision)\n",
    "        print(\"Recall:\", recall)\n",
    "        print(\"F1 Score:\", f1score)\n",
    "\n",
    "        classification_results.append([model_name, accuracy, precision, recall, f1score])\n",
    "    except Exception as e:\n",
    "        print(f\"Error: {e} on model {str(model)}\")\n",
    "        continue\n",
    "\n",
    "with open('classification_results.txt', 'w') as file:\n",
    "    for result in classification_results:\n",
    "        file.write(f'Model: {result[0]}, Accuracy: {result[1]}, Precision: {result[2]}, Recall: {result[3]}, F1 Score: {result[4]}\\n')\n"
   ]
  },
  {
   "cell_type": "code",
   "execution_count": null,
   "id": "e14c4420",
   "metadata": {},
   "outputs": [],
   "source": [
    "with open('classification_results.txt', 'w') as file:\n",
    "    for result in classification_results:\n",
    "        file.write(f'Model: {result[0]}, Accuracy: {result[1]}, Precision: {result[2]}, Recall: {result[3]}, F1 Score: {result[4]}\\n')\n"
   ]
  },
  {
   "cell_type": "markdown",
   "id": "e05a6d37",
   "metadata": {
    "id": "e05a6d37"
   },
   "source": [
    "Weighted Precision= ∑(Number of true instances per class × Precision of each class)/Total number of instances\n",
    "\n",
    "Weighted Recall = ∑(Number of true instances per class×Recall of each class)/ Total number of instances\n",
    "\n",
    "Micro Precision=Micro Recall= (∑(TP of all classes)+∑(FP of all classes))/∑(TP of all classes)"
   ]
  },
  {
   "cell_type": "code",
   "execution_count": null,
   "id": "7de9703c",
   "metadata": {
    "id": "7de9703c"
   },
   "outputs": [],
   "source": [
    "from sklearn.model_selection import cross_val_score\n",
    "clf = svm.SVC(kernel='linear', C=1, random_state=42)\n",
    "scores = cross_val_score(clf, X, y, cv=5)"
   ]
  }
 ],
 "metadata": {
  "accelerator": "GPU",
  "colab": {
   "gpuType": "V100",
   "machine_shape": "hm",
   "provenance": []
  },
  "kernelspec": {
   "display_name": "Python 3 (ipykernel)",
   "language": "python",
   "name": "python3"
  },
  "language_info": {
   "codemirror_mode": {
    "name": "ipython",
    "version": 3
   },
   "file_extension": ".py",
   "mimetype": "text/x-python",
   "name": "python",
   "nbconvert_exporter": "python",
   "pygments_lexer": "ipython3",
   "version": "3.8.10"
  }
 },
 "nbformat": 4,
 "nbformat_minor": 5
}
