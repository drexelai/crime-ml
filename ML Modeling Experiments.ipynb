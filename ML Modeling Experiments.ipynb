{
 "cells": [
  {
   "cell_type": "markdown",
   "id": "3ce414f3",
   "metadata": {},
   "source": [
    "# Machine Learning Model Experiments\n",
    "\n",
    "Based on the features:\n",
    "1. Classify what type of crime it is\n",
    "2. Regression prediction on where the crime took place\n",
    "3. Regression prediction on when the crime took place\n",
    "\n",
    "Try out these models:\n",
    "1) K Nearest Neighbors\n",
    "2) Naive Bayesian Inference\n",
    "3) Decision Tree\n",
    "4) Random Forest\n",
    "5) Logistic Regression\n",
    "6) Support Vector Machine\n",
    "7) Multi Layer Perceptron"
   ]
  },
  {
   "cell_type": "code",
   "execution_count": null,
   "id": "02b61d23",
   "metadata": {},
   "outputs": [],
   "source": [
    "import pandas as pd\n",
    "import numpy as np\n",
    "from sklearn.preprocessing import OrdinalEncoder, OneHotEncoder, StandardScaler, LabelEncoder\n",
    "from sklearn.pipeline import Pipeline\n",
    "from sklearn.compose import ColumnTransformer\n",
    "from datetime import datetime\n",
    "import matplotlib.pyplot as plt\n",
    "\n",
    "# Classifiers\n",
    "from sklearn.neighbors import KNeighborsClassifier\n",
    "from sklearn.naive_bayes import GaussianNB\n",
    "from sklearn.tree import DecisionTreeClassifier\n",
    "from sklearn.ensemble import RandomForestClassifier, RandomForestRegressor\n",
    "from sklearn.linear_model import LogisticRegression\n",
    "from sklearn.svm import SVC, SVR\n",
    "from sklearn.neural_network import MLPClassifier, MLPRegressor\n",
    "\n",
    "# Regressors\n",
    "from sklearn.neighbors import KNeighborsRegressor\n",
    "from sklearn.tree import DecisionTreeRegressor\n",
    "\n",
    "from xgboost import XGBClassifier, XGBRegressor"
   ]
  },
  {
   "cell_type": "code",
   "execution_count": null,
   "id": "e9329345",
   "metadata": {},
   "outputs": [],
   "source": [
    "data = pd.read_csv(\"data\\data_full_features.csv\")"
   ]
  },
  {
   "cell_type": "code",
   "execution_count": null,
   "id": "95b3500e",
   "metadata": {},
   "outputs": [],
   "source": [
    "data_pipeline = ColumnTransformer([\n",
    "    (\"numerical\", StandardScaler(), [\"point_x\", \"point_y\", \"distance_to_nearest_police_station\", \n",
    "                                     \"temperature_2m_max (°F)\", \"temperature_2m_min (°F)\", \n",
    "                                     \"temperature_2m_mean (°F)\", \"precipitation_sum (mm)\", \"precipitation_hours (h)\",\n",
    "                                     \"Unemployment Rate of a Population\", \"dispatch_dayOfWeek\", \"dispatch_day\", \n",
    "                                     \"dispatch_month\", \"dispatch_year\", \"block_number\"]),\n",
    "    (\"categorical\", OneHotEncoder(), [\"crime_type\"]),\n",
    "    (\"ordinal\", OrdinalEncoder(), [\"street_name\"])\n",
    "])\n",
    "\n",
    "model_pipeline = Pipeline([\n",
    "    ('data_preprocessing_pipeline', data_pipeline),\n",
    "    ('model', )\n",
    "])\n",
    "\n",
    "model_pipeline.fit(X_train, y_train)\n",
    "y_pred = model_pipeline.predict(X_test)"
   ]
  }
 ],
 "metadata": {
  "kernelspec": {
   "display_name": "Python 3 (ipykernel)",
   "language": "python",
   "name": "python3"
  },
  "language_info": {
   "codemirror_mode": {
    "name": "ipython",
    "version": 3
   },
   "file_extension": ".py",
   "mimetype": "text/x-python",
   "name": "python",
   "nbconvert_exporter": "python",
   "pygments_lexer": "ipython3",
   "version": "3.10.1"
  }
 },
 "nbformat": 4,
 "nbformat_minor": 5
}
