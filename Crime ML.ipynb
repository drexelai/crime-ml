{
 "cells": [
  {
   "cell_type": "markdown",
   "id": "9f3b051c",
   "metadata": {},
   "source": [
    "# Crime ML\n",
    "\n",
    "We show that using time and location based features along with deep neural nets and transformers provide superior model performance compared to state of the art for Crime Prediction with 40% improvements of 5-10% higher accuracies"
   ]
  },
  {
   "cell_type": "markdown",
   "id": "af8915cb",
   "metadata": {},
   "source": [
    "Make sure to place your cartodb-query.csv from https://data.phila.gov/visualizations/crime-incidents in the data folder to run the project. You can always rerun everything with updated rows of data and the code will handle it"
   ]
  },
  {
   "cell_type": "code",
   "execution_count": 1,
   "id": "8daa3ab2",
   "metadata": {
    "scrolled": true
   },
   "outputs": [],
   "source": [
    "import pandas as pd\n",
    "import numpy as np\n",
    "from sklearn.preprocessing import OrdinalEncoder, OneHotEncoder, StandardScaler, LabelEncoder\n",
    "from sklearn.pipeline import Pipeline\n",
    "from sklearn.compose import ColumnTransformer\n",
    "from datetime import datetime\n",
    "import matplotlib.pyplot as plt"
   ]
  },
  {
   "cell_type": "code",
   "execution_count": 59,
   "id": "31a48e91",
   "metadata": {
    "scrolled": true
   },
   "outputs": [],
   "source": [
    "crimes = pd.read_csv('cartodb-query.csv')\n",
    "data = crimes[[\"dispatch_date\", \"dispatch_time\",\"location_block\", \"text_general_code\", \"point_x\", \"point_y\"]]"
   ]
  },
  {
   "cell_type": "code",
   "execution_count": 60,
   "id": "a694c3af",
   "metadata": {
    "scrolled": true
   },
   "outputs": [
    {
     "data": {
      "text/html": [
       "<div>\n",
       "<style scoped>\n",
       "    .dataframe tbody tr th:only-of-type {\n",
       "        vertical-align: middle;\n",
       "    }\n",
       "\n",
       "    .dataframe tbody tr th {\n",
       "        vertical-align: top;\n",
       "    }\n",
       "\n",
       "    .dataframe thead th {\n",
       "        text-align: right;\n",
       "    }\n",
       "</style>\n",
       "<table border=\"1\" class=\"dataframe\">\n",
       "  <thead>\n",
       "    <tr style=\"text-align: right;\">\n",
       "      <th></th>\n",
       "      <th>dispatch_date</th>\n",
       "      <th>dispatch_time</th>\n",
       "      <th>location_block</th>\n",
       "      <th>text_general_code</th>\n",
       "      <th>point_x</th>\n",
       "      <th>point_y</th>\n",
       "    </tr>\n",
       "  </thead>\n",
       "  <tbody>\n",
       "    <tr>\n",
       "      <th>0</th>\n",
       "      <td>2024-01-05</td>\n",
       "      <td>23:55:00</td>\n",
       "      <td>2100 BLOCK N BROAD ST</td>\n",
       "      <td>Thefts</td>\n",
       "      <td>-75.155601</td>\n",
       "      <td>39.985841</td>\n",
       "    </tr>\n",
       "    <tr>\n",
       "      <th>1</th>\n",
       "      <td>2024-01-05</td>\n",
       "      <td>23:37:00</td>\n",
       "      <td>4100 BLOCK GREEBY ST</td>\n",
       "      <td>Other Assaults</td>\n",
       "      <td>-75.054813</td>\n",
       "      <td>40.029137</td>\n",
       "    </tr>\n",
       "    <tr>\n",
       "      <th>2</th>\n",
       "      <td>2024-01-05</td>\n",
       "      <td>23:34:00</td>\n",
       "      <td>2100 BLOCK S 67TH ST</td>\n",
       "      <td>Other Assaults</td>\n",
       "      <td>-75.237863</td>\n",
       "      <td>39.924887</td>\n",
       "    </tr>\n",
       "    <tr>\n",
       "      <th>3</th>\n",
       "      <td>2024-01-05</td>\n",
       "      <td>23:29:00</td>\n",
       "      <td>3200 BLOCK N NEWKIRK ST</td>\n",
       "      <td>Vandalism/Criminal Mischief</td>\n",
       "      <td>-75.175303</td>\n",
       "      <td>40.005423</td>\n",
       "    </tr>\n",
       "    <tr>\n",
       "      <th>4</th>\n",
       "      <td>2024-01-05</td>\n",
       "      <td>23:27:00</td>\n",
       "      <td>5200 BLOCK N HOWARD ST</td>\n",
       "      <td>Theft from Vehicle</td>\n",
       "      <td>-75.123783</td>\n",
       "      <td>40.029434</td>\n",
       "    </tr>\n",
       "  </tbody>\n",
       "</table>\n",
       "</div>"
      ],
      "text/plain": [
       "  dispatch_date dispatch_time           location_block  \\\n",
       "0    2024-01-05      23:55:00    2100 BLOCK N BROAD ST   \n",
       "1    2024-01-05      23:37:00     4100 BLOCK GREEBY ST   \n",
       "2    2024-01-05      23:34:00     2100 BLOCK S 67TH ST   \n",
       "3    2024-01-05      23:29:00  3200 BLOCK N NEWKIRK ST   \n",
       "4    2024-01-05      23:27:00   5200 BLOCK N HOWARD ST   \n",
       "\n",
       "             text_general_code    point_x    point_y  \n",
       "0                       Thefts -75.155601  39.985841  \n",
       "1               Other Assaults -75.054813  40.029137  \n",
       "2               Other Assaults -75.237863  39.924887  \n",
       "3  Vandalism/Criminal Mischief -75.175303  40.005423  \n",
       "4           Theft from Vehicle -75.123783  40.029434  "
      ]
     },
     "execution_count": 60,
     "metadata": {},
     "output_type": "execute_result"
    }
   ],
   "source": [
    "data.head()"
   ]
  },
  {
   "cell_type": "markdown",
   "id": "3cf02a68",
   "metadata": {},
   "source": [
    "# Feature Preprocessing"
   ]
  },
  {
   "cell_type": "code",
   "execution_count": 61,
   "id": "3144e2b0",
   "metadata": {
    "scrolled": true
   },
   "outputs": [
    {
     "name": "stderr",
     "output_type": "stream",
     "text": [
      "C:\\Users\\Alex Zavalny\\AppData\\Local\\Packages\\PythonSoftwareFoundation.Python.3.8_qbz5n2kfra8p0\\LocalCache\\local-packages\\Python38\\site-packages\\pandas\\core\\frame.py:4901: SettingWithCopyWarning: \n",
      "A value is trying to be set on a copy of a slice from a DataFrame\n",
      "\n",
      "See the caveats in the documentation: https://pandas.pydata.org/pandas-docs/stable/user_guide/indexing.html#returning-a-view-versus-a-copy\n",
      "  return super().drop(\n"
     ]
    }
   ],
   "source": [
    "# The x,y coordinate should already numerically represent the street name\n",
    "data.drop(columns =[\"location_block\"], axis=1, inplace=True)"
   ]
  },
  {
   "cell_type": "code",
   "execution_count": 62,
   "id": "0209ad8b",
   "metadata": {
    "scrolled": true
   },
   "outputs": [
    {
     "name": "stderr",
     "output_type": "stream",
     "text": [
      "C:\\Users\\Alex Zavalny\\AppData\\Local\\Packages\\PythonSoftwareFoundation.Python.3.8_qbz5n2kfra8p0\\LocalCache\\local-packages\\Python38\\site-packages\\pandas\\core\\frame.py:3607: SettingWithCopyWarning: \n",
      "A value is trying to be set on a copy of a slice from a DataFrame.\n",
      "Try using .loc[row_indexer,col_indexer] = value instead\n",
      "\n",
      "See the caveats in the documentation: https://pandas.pydata.org/pandas-docs/stable/user_guide/indexing.html#returning-a-view-versus-a-copy\n",
      "  self._set_item(key, value)\n"
     ]
    }
   ],
   "source": [
    "data['dispatch_date'] = pd.to_datetime(data['dispatch_date'])\n",
    "data['dispatch_time'] = pd.to_datetime(data['dispatch_time'], format='%H:%M:%S').dt.time\n",
    "\n",
    "# Combine date and time into a single DateTime column\n",
    "data['DateTime'] = pd.to_datetime(data['dispatch_date'].astype(str) + ' ' + data['dispatch_time'].astype(str))\n",
    "\n",
    "# Extracting features\n",
    "data['Year'] = data['DateTime'].dt.year\n",
    "data['Month'] = data['DateTime'].dt.month\n",
    "data['Day'] = data['DateTime'].dt.day\n",
    "data['Hour'] = data['DateTime'].dt.hour\n",
    "data['Minute'] = data['DateTime'].dt.minute\n",
    "data['Weekday'] = data['DateTime'].dt.weekday  # Monday=0, Sunday=6"
   ]
  },
  {
   "cell_type": "code",
   "execution_count": 63,
   "id": "b89d93d3",
   "metadata": {
    "scrolled": true
   },
   "outputs": [],
   "source": [
    "data_copy = data\n",
    "data_copy[\"dispatch_date\"] = data_copy[\"dispatch_date\"].dt.strftime('%Y-%m')\n",
    "unemp = pd.read_csv(\"unemployment rate.csv\")\n",
    "unemp.rename(columns={\"label\":\"dispatch_date\", \"Unemployment Rate of a Population\":\"Unemployment_Rate\"}, inplace=True)\n",
    "\n",
    "data = pd.merge(data_copy, unemp, on=\"dispatch_date\", how=\"left\")"
   ]
  },
  {
   "cell_type": "code",
   "execution_count": 64,
   "id": "d9c0d587",
   "metadata": {
    "scrolled": true
   },
   "outputs": [],
   "source": [
    "data[\"Unemployment_Rate\"] = data[\"Unemployment_Rate\"].fillna(unemp.iloc[0, 1])"
   ]
  },
  {
   "cell_type": "code",
   "execution_count": 65,
   "id": "55785bc8",
   "metadata": {
    "scrolled": true
   },
   "outputs": [
    {
     "data": {
      "text/html": [
       "<div>\n",
       "<style scoped>\n",
       "    .dataframe tbody tr th:only-of-type {\n",
       "        vertical-align: middle;\n",
       "    }\n",
       "\n",
       "    .dataframe tbody tr th {\n",
       "        vertical-align: top;\n",
       "    }\n",
       "\n",
       "    .dataframe thead th {\n",
       "        text-align: right;\n",
       "    }\n",
       "</style>\n",
       "<table border=\"1\" class=\"dataframe\">\n",
       "  <thead>\n",
       "    <tr style=\"text-align: right;\">\n",
       "      <th></th>\n",
       "      <th>text_general_code</th>\n",
       "      <th>point_x</th>\n",
       "      <th>point_y</th>\n",
       "      <th>DateTime</th>\n",
       "      <th>Year</th>\n",
       "      <th>Month</th>\n",
       "      <th>Day</th>\n",
       "      <th>Hour</th>\n",
       "      <th>Minute</th>\n",
       "      <th>Weekday</th>\n",
       "      <th>Unemployment_Rate</th>\n",
       "    </tr>\n",
       "  </thead>\n",
       "  <tbody>\n",
       "    <tr>\n",
       "      <th>0</th>\n",
       "      <td>Thefts</td>\n",
       "      <td>-75.155601</td>\n",
       "      <td>39.985841</td>\n",
       "      <td>2024-01-05 23:55:00</td>\n",
       "      <td>2024</td>\n",
       "      <td>1</td>\n",
       "      <td>5</td>\n",
       "      <td>23</td>\n",
       "      <td>55</td>\n",
       "      <td>4</td>\n",
       "      <td>5.4</td>\n",
       "    </tr>\n",
       "    <tr>\n",
       "      <th>1</th>\n",
       "      <td>Other Assaults</td>\n",
       "      <td>-75.054813</td>\n",
       "      <td>40.029137</td>\n",
       "      <td>2024-01-05 23:37:00</td>\n",
       "      <td>2024</td>\n",
       "      <td>1</td>\n",
       "      <td>5</td>\n",
       "      <td>23</td>\n",
       "      <td>37</td>\n",
       "      <td>4</td>\n",
       "      <td>5.4</td>\n",
       "    </tr>\n",
       "    <tr>\n",
       "      <th>2</th>\n",
       "      <td>Other Assaults</td>\n",
       "      <td>-75.237863</td>\n",
       "      <td>39.924887</td>\n",
       "      <td>2024-01-05 23:34:00</td>\n",
       "      <td>2024</td>\n",
       "      <td>1</td>\n",
       "      <td>5</td>\n",
       "      <td>23</td>\n",
       "      <td>34</td>\n",
       "      <td>4</td>\n",
       "      <td>5.4</td>\n",
       "    </tr>\n",
       "    <tr>\n",
       "      <th>3</th>\n",
       "      <td>Vandalism/Criminal Mischief</td>\n",
       "      <td>-75.175303</td>\n",
       "      <td>40.005423</td>\n",
       "      <td>2024-01-05 23:29:00</td>\n",
       "      <td>2024</td>\n",
       "      <td>1</td>\n",
       "      <td>5</td>\n",
       "      <td>23</td>\n",
       "      <td>29</td>\n",
       "      <td>4</td>\n",
       "      <td>5.4</td>\n",
       "    </tr>\n",
       "    <tr>\n",
       "      <th>4</th>\n",
       "      <td>Theft from Vehicle</td>\n",
       "      <td>-75.123783</td>\n",
       "      <td>40.029434</td>\n",
       "      <td>2024-01-05 23:27:00</td>\n",
       "      <td>2024</td>\n",
       "      <td>1</td>\n",
       "      <td>5</td>\n",
       "      <td>23</td>\n",
       "      <td>27</td>\n",
       "      <td>4</td>\n",
       "      <td>5.4</td>\n",
       "    </tr>\n",
       "  </tbody>\n",
       "</table>\n",
       "</div>"
      ],
      "text/plain": [
       "             text_general_code    point_x    point_y            DateTime  \\\n",
       "0                       Thefts -75.155601  39.985841 2024-01-05 23:55:00   \n",
       "1               Other Assaults -75.054813  40.029137 2024-01-05 23:37:00   \n",
       "2               Other Assaults -75.237863  39.924887 2024-01-05 23:34:00   \n",
       "3  Vandalism/Criminal Mischief -75.175303  40.005423 2024-01-05 23:29:00   \n",
       "4           Theft from Vehicle -75.123783  40.029434 2024-01-05 23:27:00   \n",
       "\n",
       "   Year  Month  Day  Hour  Minute  Weekday  Unemployment_Rate  \n",
       "0  2024      1    5    23      55        4                5.4  \n",
       "1  2024      1    5    23      37        4                5.4  \n",
       "2  2024      1    5    23      34        4                5.4  \n",
       "3  2024      1    5    23      29        4                5.4  \n",
       "4  2024      1    5    23      27        4                5.4  "
      ]
     },
     "execution_count": 65,
     "metadata": {},
     "output_type": "execute_result"
    }
   ],
   "source": [
    "data.drop(columns=[\"dispatch_date\", \"dispatch_time\"], axis=1, inplace=True)\n",
    "data.head()"
   ]
  },
  {
   "cell_type": "code",
   "execution_count": 66,
   "id": "91e0c708",
   "metadata": {
    "scrolled": true
   },
   "outputs": [],
   "source": [
    "data.drop(columns=[\"DateTime\"], axis=1, inplace=True)"
   ]
  },
  {
   "cell_type": "code",
   "execution_count": 67,
   "id": "0b65cda4",
   "metadata": {
    "scrolled": true
   },
   "outputs": [
    {
     "data": {
      "text/html": [
       "<div>\n",
       "<style scoped>\n",
       "    .dataframe tbody tr th:only-of-type {\n",
       "        vertical-align: middle;\n",
       "    }\n",
       "\n",
       "    .dataframe tbody tr th {\n",
       "        vertical-align: top;\n",
       "    }\n",
       "\n",
       "    .dataframe thead th {\n",
       "        text-align: right;\n",
       "    }\n",
       "</style>\n",
       "<table border=\"1\" class=\"dataframe\">\n",
       "  <thead>\n",
       "    <tr style=\"text-align: right;\">\n",
       "      <th></th>\n",
       "      <th>text_general_code</th>\n",
       "      <th>point_x</th>\n",
       "      <th>point_y</th>\n",
       "      <th>Year</th>\n",
       "      <th>Month</th>\n",
       "      <th>Day</th>\n",
       "      <th>Hour</th>\n",
       "      <th>Minute</th>\n",
       "      <th>Weekday</th>\n",
       "      <th>Unemployment_Rate</th>\n",
       "    </tr>\n",
       "  </thead>\n",
       "  <tbody>\n",
       "    <tr>\n",
       "      <th>0</th>\n",
       "      <td>Thefts</td>\n",
       "      <td>-75.155601</td>\n",
       "      <td>39.985841</td>\n",
       "      <td>2024</td>\n",
       "      <td>1</td>\n",
       "      <td>5</td>\n",
       "      <td>23</td>\n",
       "      <td>55</td>\n",
       "      <td>4</td>\n",
       "      <td>5.4</td>\n",
       "    </tr>\n",
       "    <tr>\n",
       "      <th>1</th>\n",
       "      <td>Other Assaults</td>\n",
       "      <td>-75.054813</td>\n",
       "      <td>40.029137</td>\n",
       "      <td>2024</td>\n",
       "      <td>1</td>\n",
       "      <td>5</td>\n",
       "      <td>23</td>\n",
       "      <td>37</td>\n",
       "      <td>4</td>\n",
       "      <td>5.4</td>\n",
       "    </tr>\n",
       "    <tr>\n",
       "      <th>2</th>\n",
       "      <td>Other Assaults</td>\n",
       "      <td>-75.237863</td>\n",
       "      <td>39.924887</td>\n",
       "      <td>2024</td>\n",
       "      <td>1</td>\n",
       "      <td>5</td>\n",
       "      <td>23</td>\n",
       "      <td>34</td>\n",
       "      <td>4</td>\n",
       "      <td>5.4</td>\n",
       "    </tr>\n",
       "    <tr>\n",
       "      <th>3</th>\n",
       "      <td>Vandalism/Criminal Mischief</td>\n",
       "      <td>-75.175303</td>\n",
       "      <td>40.005423</td>\n",
       "      <td>2024</td>\n",
       "      <td>1</td>\n",
       "      <td>5</td>\n",
       "      <td>23</td>\n",
       "      <td>29</td>\n",
       "      <td>4</td>\n",
       "      <td>5.4</td>\n",
       "    </tr>\n",
       "    <tr>\n",
       "      <th>4</th>\n",
       "      <td>Theft from Vehicle</td>\n",
       "      <td>-75.123783</td>\n",
       "      <td>40.029434</td>\n",
       "      <td>2024</td>\n",
       "      <td>1</td>\n",
       "      <td>5</td>\n",
       "      <td>23</td>\n",
       "      <td>27</td>\n",
       "      <td>4</td>\n",
       "      <td>5.4</td>\n",
       "    </tr>\n",
       "  </tbody>\n",
       "</table>\n",
       "</div>"
      ],
      "text/plain": [
       "             text_general_code    point_x    point_y  Year  Month  Day  Hour  \\\n",
       "0                       Thefts -75.155601  39.985841  2024      1    5    23   \n",
       "1               Other Assaults -75.054813  40.029137  2024      1    5    23   \n",
       "2               Other Assaults -75.237863  39.924887  2024      1    5    23   \n",
       "3  Vandalism/Criminal Mischief -75.175303  40.005423  2024      1    5    23   \n",
       "4           Theft from Vehicle -75.123783  40.029434  2024      1    5    23   \n",
       "\n",
       "   Minute  Weekday  Unemployment_Rate  \n",
       "0      55        4                5.4  \n",
       "1      37        4                5.4  \n",
       "2      34        4                5.4  \n",
       "3      29        4                5.4  \n",
       "4      27        4                5.4  "
      ]
     },
     "execution_count": 67,
     "metadata": {},
     "output_type": "execute_result"
    }
   ],
   "source": [
    "data.head()"
   ]
  },
  {
   "cell_type": "markdown",
   "id": "c38184ae",
   "metadata": {},
   "source": [
    "One Hot Encoding Crime Type, since there is no inherent order in the crime types"
   ]
  },
  {
   "cell_type": "code",
   "execution_count": 68,
   "id": "77b5f421",
   "metadata": {
    "scrolled": true
   },
   "outputs": [
    {
     "data": {
      "text/plain": [
       "All Other Offenses                         570584\n",
       "Other Assaults                             441913\n",
       "Thefts                                     441041\n",
       "Vandalism/Criminal Mischief                302010\n",
       "Theft from Vehicle                         262863\n",
       "Narcotic / Drug Law Violations             181038\n",
       "Fraud                                      178205\n",
       "Burglary Residential                       123246\n",
       "Aggravated Assault No Firearm              105173\n",
       "Motor Vehicle Theft                         95879\n",
       "Robbery No Firearm                          72342\n",
       "DRIVING UNDER THE INFLUENCE                 66819\n",
       "Robbery Firearm                             56659\n",
       "Aggravated Assault Firearm                  49036\n",
       "Disorderly Conduct                          44204\n",
       "Weapon Violations                           39058\n",
       "Burglary Non-Residential                    36106\n",
       "Other Sex Offenses (Not Commercialized)     21815\n",
       "Rape                                        17743\n",
       "Prostitution and Commercialized Vice        15976\n",
       "Arson                                        9298\n",
       "Vagrancy/Loitering                           6854\n",
       "Embezzlement                                 6765\n",
       "Forgery and Counterfeiting                   6558\n",
       "Homicide - Criminal                          6444\n",
       "Liquor Law Violations                        6074\n",
       "Public Drunkenness                           5175\n",
       "Receiving Stolen Property                    4047\n",
       "Offenses Against Family and Children         3801\n",
       "Gambling Violations                          1092\n",
       "Homicide - Justifiable                         32\n",
       "Homicide - Gross Negligence                     2\n",
       "Name: crime_type, dtype: int64"
      ]
     },
     "execution_count": 68,
     "metadata": {},
     "output_type": "execute_result"
    }
   ],
   "source": [
    "data.rename(columns={'text_general_code':'crime_type'}, inplace=True)\n",
    "data[\"crime_type\"].value_counts()"
   ]
  },
  {
   "cell_type": "code",
   "execution_count": 69,
   "id": "8e2d3c3c",
   "metadata": {
    "scrolled": true
   },
   "outputs": [
    {
     "data": {
      "text/plain": [
       "All Other Offenses                         570584\n",
       "Other Assaults                             441913\n",
       "Thefts                                     441041\n",
       "Vandalism/Criminal Mischief                302010\n",
       "Theft from Vehicle                         262863\n",
       "Narcotic / Drug Law Violations             181038\n",
       "Fraud                                      178205\n",
       "Burglary Residential                       123246\n",
       "Aggravated Assault No Firearm              105173\n",
       "Motor Vehicle Theft                         95879\n",
       "Robbery No Firearm                          72342\n",
       "DRIVING UNDER THE INFLUENCE                 66819\n",
       "Robbery Firearm                             56659\n",
       "Aggravated Assault Firearm                  49036\n",
       "Disorderly Conduct                          44204\n",
       "Weapon Violations                           39058\n",
       "Burglary Non-Residential                    36106\n",
       "Other Sex Offenses (Not Commercialized)     21815\n",
       "Rape                                        17743\n",
       "Prostitution and Commercialized Vice        15976\n",
       "Arson                                        9298\n",
       "Vagrancy/Loitering                           6854\n",
       "Embezzlement                                 6765\n",
       "Forgery and Counterfeiting                   6558\n",
       "Homicides                                    6478\n",
       "Liquor Law Violations                        6074\n",
       "Public Drunkenness                           5175\n",
       "Receiving Stolen Property                    4047\n",
       "Offenses Against Family and Children         3801\n",
       "Gambling Violations                          1092\n",
       "Name: crime_type, dtype: int64"
      ]
     },
     "execution_count": 69,
     "metadata": {},
     "output_type": "execute_result"
    }
   ],
   "source": [
    "# combining Homicide categories together\n",
    "data[\"crime_type\"] = data[\"crime_type\"].apply(lambda x: \"Homicides\" if isinstance(x, str) and \"Homicide\" in x else x)\n",
    "data[\"crime_type\"].value_counts()"
   ]
  },
  {
   "cell_type": "code",
   "execution_count": 70,
   "id": "b15fc4f0",
   "metadata": {
    "scrolled": true
   },
   "outputs": [
    {
     "data": {
      "text/html": [
       "<div>\n",
       "<style scoped>\n",
       "    .dataframe tbody tr th:only-of-type {\n",
       "        vertical-align: middle;\n",
       "    }\n",
       "\n",
       "    .dataframe tbody tr th {\n",
       "        vertical-align: top;\n",
       "    }\n",
       "\n",
       "    .dataframe thead th {\n",
       "        text-align: right;\n",
       "    }\n",
       "</style>\n",
       "<table border=\"1\" class=\"dataframe\">\n",
       "  <thead>\n",
       "    <tr style=\"text-align: right;\">\n",
       "      <th></th>\n",
       "      <th>crime_type</th>\n",
       "      <th>point_x</th>\n",
       "      <th>point_y</th>\n",
       "      <th>Year</th>\n",
       "      <th>Month</th>\n",
       "      <th>Day</th>\n",
       "      <th>Hour</th>\n",
       "      <th>Minute</th>\n",
       "      <th>Weekday</th>\n",
       "      <th>Unemployment_Rate</th>\n",
       "    </tr>\n",
       "  </thead>\n",
       "  <tbody>\n",
       "    <tr>\n",
       "      <th>0</th>\n",
       "      <td>Thefts</td>\n",
       "      <td>-75.155601</td>\n",
       "      <td>39.985841</td>\n",
       "      <td>2024</td>\n",
       "      <td>1</td>\n",
       "      <td>5</td>\n",
       "      <td>23</td>\n",
       "      <td>55</td>\n",
       "      <td>4</td>\n",
       "      <td>5.4</td>\n",
       "    </tr>\n",
       "    <tr>\n",
       "      <th>1</th>\n",
       "      <td>Other Assaults</td>\n",
       "      <td>-75.054813</td>\n",
       "      <td>40.029137</td>\n",
       "      <td>2024</td>\n",
       "      <td>1</td>\n",
       "      <td>5</td>\n",
       "      <td>23</td>\n",
       "      <td>37</td>\n",
       "      <td>4</td>\n",
       "      <td>5.4</td>\n",
       "    </tr>\n",
       "    <tr>\n",
       "      <th>2</th>\n",
       "      <td>Other Assaults</td>\n",
       "      <td>-75.237863</td>\n",
       "      <td>39.924887</td>\n",
       "      <td>2024</td>\n",
       "      <td>1</td>\n",
       "      <td>5</td>\n",
       "      <td>23</td>\n",
       "      <td>34</td>\n",
       "      <td>4</td>\n",
       "      <td>5.4</td>\n",
       "    </tr>\n",
       "    <tr>\n",
       "      <th>3</th>\n",
       "      <td>Vandalism/Criminal Mischief</td>\n",
       "      <td>-75.175303</td>\n",
       "      <td>40.005423</td>\n",
       "      <td>2024</td>\n",
       "      <td>1</td>\n",
       "      <td>5</td>\n",
       "      <td>23</td>\n",
       "      <td>29</td>\n",
       "      <td>4</td>\n",
       "      <td>5.4</td>\n",
       "    </tr>\n",
       "    <tr>\n",
       "      <th>4</th>\n",
       "      <td>Theft from Vehicle</td>\n",
       "      <td>-75.123783</td>\n",
       "      <td>40.029434</td>\n",
       "      <td>2024</td>\n",
       "      <td>1</td>\n",
       "      <td>5</td>\n",
       "      <td>23</td>\n",
       "      <td>27</td>\n",
       "      <td>4</td>\n",
       "      <td>5.4</td>\n",
       "    </tr>\n",
       "  </tbody>\n",
       "</table>\n",
       "</div>"
      ],
      "text/plain": [
       "                    crime_type    point_x    point_y  Year  Month  Day  Hour  \\\n",
       "0                       Thefts -75.155601  39.985841  2024      1    5    23   \n",
       "1               Other Assaults -75.054813  40.029137  2024      1    5    23   \n",
       "2               Other Assaults -75.237863  39.924887  2024      1    5    23   \n",
       "3  Vandalism/Criminal Mischief -75.175303  40.005423  2024      1    5    23   \n",
       "4           Theft from Vehicle -75.123783  40.029434  2024      1    5    23   \n",
       "\n",
       "   Minute  Weekday  Unemployment_Rate  \n",
       "0      55        4                5.4  \n",
       "1      37        4                5.4  \n",
       "2      34        4                5.4  \n",
       "3      29        4                5.4  \n",
       "4      27        4                5.4  "
      ]
     },
     "execution_count": 70,
     "metadata": {},
     "output_type": "execute_result"
    }
   ],
   "source": [
    "data.head()"
   ]
  },
  {
   "cell_type": "markdown",
   "id": "93606847",
   "metadata": {},
   "source": [
    "# Feature Engineering"
   ]
  },
  {
   "cell_type": "markdown",
   "id": "1caabe2e",
   "metadata": {},
   "source": [
    "Taking care of missing values for point_x and point_y"
   ]
  },
  {
   "cell_type": "code",
   "execution_count": 71,
   "id": "24d1fec4",
   "metadata": {
    "scrolled": true
   },
   "outputs": [
    {
     "data": {
      "text/plain": [
       "crime_type               0\n",
       "point_x              46281\n",
       "point_y              46281\n",
       "Year                     0\n",
       "Month                    0\n",
       "Day                      0\n",
       "Hour                     0\n",
       "Minute                   0\n",
       "Weekday                  0\n",
       "Unemployment_Rate        0\n",
       "dtype: int64"
      ]
     },
     "execution_count": 71,
     "metadata": {},
     "output_type": "execute_result"
    }
   ],
   "source": [
    "data.isna().sum()"
   ]
  },
  {
   "cell_type": "code",
   "execution_count": 72,
   "id": "dedf8e8c",
   "metadata": {
    "scrolled": true
   },
   "outputs": [
    {
     "data": {
      "text/html": [
       "<div>\n",
       "<style scoped>\n",
       "    .dataframe tbody tr th:only-of-type {\n",
       "        vertical-align: middle;\n",
       "    }\n",
       "\n",
       "    .dataframe tbody tr th {\n",
       "        vertical-align: top;\n",
       "    }\n",
       "\n",
       "    .dataframe thead th {\n",
       "        text-align: right;\n",
       "    }\n",
       "</style>\n",
       "<table border=\"1\" class=\"dataframe\">\n",
       "  <thead>\n",
       "    <tr style=\"text-align: right;\">\n",
       "      <th></th>\n",
       "      <th>crime_type</th>\n",
       "      <th>point_x</th>\n",
       "      <th>point_y</th>\n",
       "      <th>Year</th>\n",
       "      <th>Month</th>\n",
       "      <th>Day</th>\n",
       "      <th>Hour</th>\n",
       "      <th>Minute</th>\n",
       "      <th>Weekday</th>\n",
       "      <th>Unemployment_Rate</th>\n",
       "    </tr>\n",
       "  </thead>\n",
       "  <tbody>\n",
       "    <tr>\n",
       "      <th>17</th>\n",
       "      <td>Thefts</td>\n",
       "      <td>NaN</td>\n",
       "      <td>NaN</td>\n",
       "      <td>2024</td>\n",
       "      <td>1</td>\n",
       "      <td>5</td>\n",
       "      <td>21</td>\n",
       "      <td>36</td>\n",
       "      <td>4</td>\n",
       "      <td>5.4</td>\n",
       "    </tr>\n",
       "    <tr>\n",
       "      <th>18</th>\n",
       "      <td>All Other Offenses</td>\n",
       "      <td>NaN</td>\n",
       "      <td>NaN</td>\n",
       "      <td>2024</td>\n",
       "      <td>1</td>\n",
       "      <td>5</td>\n",
       "      <td>21</td>\n",
       "      <td>28</td>\n",
       "      <td>4</td>\n",
       "      <td>5.4</td>\n",
       "    </tr>\n",
       "    <tr>\n",
       "      <th>66</th>\n",
       "      <td>Offenses Against Family and Children</td>\n",
       "      <td>NaN</td>\n",
       "      <td>NaN</td>\n",
       "      <td>2024</td>\n",
       "      <td>1</td>\n",
       "      <td>5</td>\n",
       "      <td>18</td>\n",
       "      <td>34</td>\n",
       "      <td>4</td>\n",
       "      <td>5.4</td>\n",
       "    </tr>\n",
       "    <tr>\n",
       "      <th>87</th>\n",
       "      <td>Fraud</td>\n",
       "      <td>NaN</td>\n",
       "      <td>NaN</td>\n",
       "      <td>2024</td>\n",
       "      <td>1</td>\n",
       "      <td>5</td>\n",
       "      <td>17</td>\n",
       "      <td>39</td>\n",
       "      <td>4</td>\n",
       "      <td>5.4</td>\n",
       "    </tr>\n",
       "    <tr>\n",
       "      <th>101</th>\n",
       "      <td>Other Assaults</td>\n",
       "      <td>NaN</td>\n",
       "      <td>NaN</td>\n",
       "      <td>2024</td>\n",
       "      <td>1</td>\n",
       "      <td>5</td>\n",
       "      <td>17</td>\n",
       "      <td>1</td>\n",
       "      <td>4</td>\n",
       "      <td>5.4</td>\n",
       "    </tr>\n",
       "    <tr>\n",
       "      <th>...</th>\n",
       "      <td>...</td>\n",
       "      <td>...</td>\n",
       "      <td>...</td>\n",
       "      <td>...</td>\n",
       "      <td>...</td>\n",
       "      <td>...</td>\n",
       "      <td>...</td>\n",
       "      <td>...</td>\n",
       "      <td>...</td>\n",
       "      <td>...</td>\n",
       "    </tr>\n",
       "    <tr>\n",
       "      <th>3177361</th>\n",
       "      <td>DRIVING UNDER THE INFLUENCE</td>\n",
       "      <td>NaN</td>\n",
       "      <td>NaN</td>\n",
       "      <td>2006</td>\n",
       "      <td>1</td>\n",
       "      <td>1</td>\n",
       "      <td>20</td>\n",
       "      <td>13</td>\n",
       "      <td>6</td>\n",
       "      <td>6.7</td>\n",
       "    </tr>\n",
       "    <tr>\n",
       "      <th>3177423</th>\n",
       "      <td>Aggravated Assault No Firearm</td>\n",
       "      <td>NaN</td>\n",
       "      <td>NaN</td>\n",
       "      <td>2006</td>\n",
       "      <td>1</td>\n",
       "      <td>1</td>\n",
       "      <td>18</td>\n",
       "      <td>1</td>\n",
       "      <td>6</td>\n",
       "      <td>6.7</td>\n",
       "    </tr>\n",
       "    <tr>\n",
       "      <th>3177466</th>\n",
       "      <td>Thefts</td>\n",
       "      <td>NaN</td>\n",
       "      <td>NaN</td>\n",
       "      <td>2006</td>\n",
       "      <td>1</td>\n",
       "      <td>1</td>\n",
       "      <td>16</td>\n",
       "      <td>3</td>\n",
       "      <td>6</td>\n",
       "      <td>6.7</td>\n",
       "    </tr>\n",
       "    <tr>\n",
       "      <th>3177715</th>\n",
       "      <td>DRIVING UNDER THE INFLUENCE</td>\n",
       "      <td>NaN</td>\n",
       "      <td>NaN</td>\n",
       "      <td>2006</td>\n",
       "      <td>1</td>\n",
       "      <td>1</td>\n",
       "      <td>2</td>\n",
       "      <td>54</td>\n",
       "      <td>6</td>\n",
       "      <td>6.7</td>\n",
       "    </tr>\n",
       "    <tr>\n",
       "      <th>3177843</th>\n",
       "      <td>All Other Offenses</td>\n",
       "      <td>NaN</td>\n",
       "      <td>NaN</td>\n",
       "      <td>2006</td>\n",
       "      <td>1</td>\n",
       "      <td>1</td>\n",
       "      <td>0</td>\n",
       "      <td>11</td>\n",
       "      <td>6</td>\n",
       "      <td>6.7</td>\n",
       "    </tr>\n",
       "  </tbody>\n",
       "</table>\n",
       "<p>46281 rows × 10 columns</p>\n",
       "</div>"
      ],
      "text/plain": [
       "                                   crime_type  point_x  point_y  Year  Month  \\\n",
       "17                                     Thefts      NaN      NaN  2024      1   \n",
       "18                         All Other Offenses      NaN      NaN  2024      1   \n",
       "66       Offenses Against Family and Children      NaN      NaN  2024      1   \n",
       "87                                      Fraud      NaN      NaN  2024      1   \n",
       "101                            Other Assaults      NaN      NaN  2024      1   \n",
       "...                                       ...      ...      ...   ...    ...   \n",
       "3177361           DRIVING UNDER THE INFLUENCE      NaN      NaN  2006      1   \n",
       "3177423         Aggravated Assault No Firearm      NaN      NaN  2006      1   \n",
       "3177466                                Thefts      NaN      NaN  2006      1   \n",
       "3177715           DRIVING UNDER THE INFLUENCE      NaN      NaN  2006      1   \n",
       "3177843                    All Other Offenses      NaN      NaN  2006      1   \n",
       "\n",
       "         Day  Hour  Minute  Weekday  Unemployment_Rate  \n",
       "17         5    21      36        4                5.4  \n",
       "18         5    21      28        4                5.4  \n",
       "66         5    18      34        4                5.4  \n",
       "87         5    17      39        4                5.4  \n",
       "101        5    17       1        4                5.4  \n",
       "...      ...   ...     ...      ...                ...  \n",
       "3177361    1    20      13        6                6.7  \n",
       "3177423    1    18       1        6                6.7  \n",
       "3177466    1    16       3        6                6.7  \n",
       "3177715    1     2      54        6                6.7  \n",
       "3177843    1     0      11        6                6.7  \n",
       "\n",
       "[46281 rows x 10 columns]"
      ]
     },
     "execution_count": 72,
     "metadata": {},
     "output_type": "execute_result"
    }
   ],
   "source": [
    "data[data['point_x'].isna()]"
   ]
  },
  {
   "cell_type": "code",
   "execution_count": 73,
   "id": "0ee34444",
   "metadata": {
    "scrolled": true
   },
   "outputs": [],
   "source": [
    "data.dropna(inplace=True)"
   ]
  },
  {
   "cell_type": "markdown",
   "id": "21add1e8",
   "metadata": {},
   "source": [
    "Lower correlations help in maintaining the integrity of the model coefficients and their interpretations and indicate that features provide different information. This diversity can improve model performance by allowing the model to capture more aspects of the data.\n",
    "\n",
    "Using one hot encoding for Crime, because while some crimes are worse than others, and some do have worse charges than others, there's not really a way to rank certain pairs"
   ]
  },
  {
   "cell_type": "code",
   "execution_count": 74,
   "id": "b63e41a6",
   "metadata": {
    "scrolled": true
   },
   "outputs": [
    {
     "data": {
      "text/html": [
       "<div>\n",
       "<style scoped>\n",
       "    .dataframe tbody tr th:only-of-type {\n",
       "        vertical-align: middle;\n",
       "    }\n",
       "\n",
       "    .dataframe tbody tr th {\n",
       "        vertical-align: top;\n",
       "    }\n",
       "\n",
       "    .dataframe thead th {\n",
       "        text-align: right;\n",
       "    }\n",
       "</style>\n",
       "<table border=\"1\" class=\"dataframe\">\n",
       "  <thead>\n",
       "    <tr style=\"text-align: right;\">\n",
       "      <th></th>\n",
       "      <th>crime_type</th>\n",
       "      <th>point_x</th>\n",
       "      <th>point_y</th>\n",
       "      <th>Year</th>\n",
       "      <th>Month</th>\n",
       "      <th>Day</th>\n",
       "      <th>Hour</th>\n",
       "      <th>Minute</th>\n",
       "      <th>Weekday</th>\n",
       "      <th>Unemployment_Rate</th>\n",
       "    </tr>\n",
       "  </thead>\n",
       "  <tbody>\n",
       "    <tr>\n",
       "      <th>0</th>\n",
       "      <td>22</td>\n",
       "      <td>-75.155601</td>\n",
       "      <td>39.985841</td>\n",
       "      <td>2024</td>\n",
       "      <td>1</td>\n",
       "      <td>5</td>\n",
       "      <td>23</td>\n",
       "      <td>55</td>\n",
       "      <td>4</td>\n",
       "      <td>5.4</td>\n",
       "    </tr>\n",
       "    <tr>\n",
       "      <th>1</th>\n",
       "      <td>13</td>\n",
       "      <td>-75.054813</td>\n",
       "      <td>40.029137</td>\n",
       "      <td>2024</td>\n",
       "      <td>1</td>\n",
       "      <td>5</td>\n",
       "      <td>23</td>\n",
       "      <td>37</td>\n",
       "      <td>4</td>\n",
       "      <td>5.4</td>\n",
       "    </tr>\n",
       "    <tr>\n",
       "      <th>2</th>\n",
       "      <td>13</td>\n",
       "      <td>-75.237863</td>\n",
       "      <td>39.924887</td>\n",
       "      <td>2024</td>\n",
       "      <td>1</td>\n",
       "      <td>5</td>\n",
       "      <td>23</td>\n",
       "      <td>34</td>\n",
       "      <td>4</td>\n",
       "      <td>5.4</td>\n",
       "    </tr>\n",
       "    <tr>\n",
       "      <th>3</th>\n",
       "      <td>24</td>\n",
       "      <td>-75.175303</td>\n",
       "      <td>40.005423</td>\n",
       "      <td>2024</td>\n",
       "      <td>1</td>\n",
       "      <td>5</td>\n",
       "      <td>23</td>\n",
       "      <td>29</td>\n",
       "      <td>4</td>\n",
       "      <td>5.4</td>\n",
       "    </tr>\n",
       "    <tr>\n",
       "      <th>4</th>\n",
       "      <td>21</td>\n",
       "      <td>-75.123783</td>\n",
       "      <td>40.029434</td>\n",
       "      <td>2024</td>\n",
       "      <td>1</td>\n",
       "      <td>5</td>\n",
       "      <td>23</td>\n",
       "      <td>27</td>\n",
       "      <td>4</td>\n",
       "      <td>5.4</td>\n",
       "    </tr>\n",
       "  </tbody>\n",
       "</table>\n",
       "</div>"
      ],
      "text/plain": [
       "   crime_type    point_x    point_y  Year  Month  Day  Hour  Minute  Weekday  \\\n",
       "0          22 -75.155601  39.985841  2024      1    5    23      55        4   \n",
       "1          13 -75.054813  40.029137  2024      1    5    23      37        4   \n",
       "2          13 -75.237863  39.924887  2024      1    5    23      34        4   \n",
       "3          24 -75.175303  40.005423  2024      1    5    23      29        4   \n",
       "4          21 -75.123783  40.029434  2024      1    5    23      27        4   \n",
       "\n",
       "   Unemployment_Rate  \n",
       "0                5.4  \n",
       "1                5.4  \n",
       "2                5.4  \n",
       "3                5.4  \n",
       "4                5.4  "
      ]
     },
     "execution_count": 74,
     "metadata": {},
     "output_type": "execute_result"
    }
   ],
   "source": [
    "data['crime_type'] = np.argmax(pd.get_dummies(data['crime_type']).iloc[:, 4:].values, axis=1)\n",
    "data.head()"
   ]
  },
  {
   "cell_type": "code",
   "execution_count": 75,
   "id": "8943ee03",
   "metadata": {
    "scrolled": true
   },
   "outputs": [
    {
     "data": {
      "text/plain": [
       "array([22, 13, 24, 21, 20,  0, 25, 18, 19, 11,  1, 10,  6, 12,  2,  5, 14,\n",
       "       17, 15,  4,  8,  3, 16,  9, 23,  7], dtype=int64)"
      ]
     },
     "execution_count": 75,
     "metadata": {},
     "output_type": "execute_result"
    }
   ],
   "source": [
    "data['crime_type'].unique()"
   ]
  },
  {
   "cell_type": "code",
   "execution_count": 76,
   "id": "23b9ffb5",
   "metadata": {
    "scrolled": true
   },
   "outputs": [
    {
     "data": {
      "image/png": "[encoded data removed]",
      "text/plain": [
       "<Figure size 1440x1080 with 2 Axes>"
      ]
     },
     "metadata": {
      "needs_background": "light"
     },
     "output_type": "display_data"
    }
   ],
   "source": [
    "import pandas as pd\n",
    "import seaborn as sns\n",
    "import matplotlib.pyplot as plt\n",
    "\n",
    "\n",
    "corr_matrix = data.corr()\n",
    "\n",
    "plt.figure(figsize=(20, 15))  # Increase figsize to give more room\n",
    "\n",
    "# Draw the heatmap with the mask and correct aspect ratio\n",
    "sns.heatmap(corr_matrix, annot=True, cmap='coolwarm', fmt=\".1f\", \n",
    "            linewidths=.5, cbar_kws={\"shrink\": .5})\n",
    "\n",
    "plt.title(\"Correlation between each feature\", fontsize=20)\n",
    "plt.xticks(rotation=45, ha='right')  # Rotate the x labels for better readability\n",
    "plt.yticks(rotation=0)  # Keep the y labels horizontal\n",
    "plt.tight_layout()  # Adjusts plot to ensure everything fits without overlap\n",
    "\n",
    "# Show plot\n",
    "plt.show()"
   ]
  },
  {
   "cell_type": "raw",
   "id": "74722fec",
   "metadata": {},
   "source": [
    "^ This suggests most of our features have very little LINEAR correlation with crime_type, but they all likely have nonlinear patterns (I suspect cyclical) as we'll see below"
   ]
  },
  {
   "cell_type": "code",
   "execution_count": 77,
   "id": "e1c31392",
   "metadata": {
    "scrolled": true
   },
   "outputs": [],
   "source": [
    "import pandas as pd\n",
    "from sklearn.model_selection import train_test_split\n",
    "from sklearn.ensemble import RandomForestClassifier\n",
    "import numpy as np\n",
    "import matplotlib.pyplot as plt\n",
    "from sklearn.metrics import accuracy_score  # Importing the accuracy_score function\n",
    "\n",
    "# Assuming 'data' is your DataFrame with features and 'target_df' is a DataFrame of one-hot encoded targets\n",
    "X = data.iloc[:, 1:]  # Features\n",
    "y = data.iloc[:, 0]\n",
    "\n",
    "# Splitting the dataset into the Training set and Test set\n",
    "X_train, X_test, y_train, y_test = train_test_split(X, y, test_size=0.2, random_state=42)\n",
    "\n",
    "# Creating a RandomForestClassifier\n",
    "model = RandomForestClassifier(n_estimators=50, random_state=42)"
   ]
  },
  {
   "cell_type": "code",
   "execution_count": 78,
   "id": "84195f35",
   "metadata": {
    "scrolled": true
   },
   "outputs": [
    {
     "name": "stdout",
     "output_type": "stream",
     "text": [
      "Accuracy of the model: 0.20364034072311857\n"
     ]
    },
    {
     "data": {
      "image/png": "[encoded data removed]",
      "text/plain": [
       "<Figure size 720x432 with 1 Axes>"
      ]
     },
     "metadata": {
      "needs_background": "light"
     },
     "output_type": "display_data"
    }
   ],
   "source": [
    "X_train = X_train.sample(n=100000)\n",
    "y_train = y_train.sample(n=100000)\n",
    "model.fit(X_train, y_train)\n",
    "\n",
    "# Predicting the Test set results\n",
    "y_pred = model.predict(X_test)\n",
    "\n",
    "# Calculating the accuracy\n",
    "accuracy = accuracy_score(y_test, y_pred)\n",
    "print(\"Accuracy of the model:\", accuracy)\n",
    "\n",
    "# Getting feature importances\n",
    "importances = model.feature_importances_\n",
    "\n",
    "# Summarize feature importances in a DataFrame\n",
    "feature_importances = pd.DataFrame({'feature': X.columns, 'importance': importances})\n",
    "feature_importances = feature_importances.sort_values(by='importance', ascending=False)\n",
    "\n",
    "# Plotting the feature importances\n",
    "plt.figure(figsize=(10, 6))\n",
    "plt.barh(feature_importances['feature'], feature_importances['importance'], color='skyblue')\n",
    "plt.xlabel('Importance')\n",
    "plt.ylabel('Feature')\n",
    "plt.title('Feature Importance')\n",
    "plt.gca().invert_yaxis()  # Invert y-axis to have the most important at the top\n",
    "plt.show()"
   ]
  },
  {
   "cell_type": "code",
   "execution_count": 79,
   "id": "f9c672d5",
   "metadata": {
    "scrolled": true
   },
   "outputs": [
    {
     "data": {
      "text/html": [
       "<div>\n",
       "<style scoped>\n",
       "    .dataframe tbody tr th:only-of-type {\n",
       "        vertical-align: middle;\n",
       "    }\n",
       "\n",
       "    .dataframe tbody tr th {\n",
       "        vertical-align: top;\n",
       "    }\n",
       "\n",
       "    .dataframe thead th {\n",
       "        text-align: right;\n",
       "    }\n",
       "</style>\n",
       "<table border=\"1\" class=\"dataframe\">\n",
       "  <thead>\n",
       "    <tr style=\"text-align: right;\">\n",
       "      <th></th>\n",
       "      <th>feature</th>\n",
       "      <th>importance</th>\n",
       "    </tr>\n",
       "  </thead>\n",
       "  <tbody>\n",
       "    <tr>\n",
       "      <th>0</th>\n",
       "      <td>point_x</td>\n",
       "      <td>0.161668</td>\n",
       "    </tr>\n",
       "    <tr>\n",
       "      <th>1</th>\n",
       "      <td>point_y</td>\n",
       "      <td>0.161344</td>\n",
       "    </tr>\n",
       "    <tr>\n",
       "      <th>6</th>\n",
       "      <td>Minute</td>\n",
       "      <td>0.130590</td>\n",
       "    </tr>\n",
       "    <tr>\n",
       "      <th>4</th>\n",
       "      <td>Day</td>\n",
       "      <td>0.116279</td>\n",
       "    </tr>\n",
       "    <tr>\n",
       "      <th>5</th>\n",
       "      <td>Hour</td>\n",
       "      <td>0.103334</td>\n",
       "    </tr>\n",
       "    <tr>\n",
       "      <th>8</th>\n",
       "      <td>Unemployment_Rate</td>\n",
       "      <td>0.100973</td>\n",
       "    </tr>\n",
       "    <tr>\n",
       "      <th>2</th>\n",
       "      <td>Year</td>\n",
       "      <td>0.076388</td>\n",
       "    </tr>\n",
       "    <tr>\n",
       "      <th>7</th>\n",
       "      <td>Weekday</td>\n",
       "      <td>0.075352</td>\n",
       "    </tr>\n",
       "    <tr>\n",
       "      <th>3</th>\n",
       "      <td>Month</td>\n",
       "      <td>0.074072</td>\n",
       "    </tr>\n",
       "  </tbody>\n",
       "</table>\n",
       "</div>"
      ],
      "text/plain": [
       "             feature  importance\n",
       "0            point_x    0.161668\n",
       "1            point_y    0.161344\n",
       "6             Minute    0.130590\n",
       "4                Day    0.116279\n",
       "5               Hour    0.103334\n",
       "8  Unemployment_Rate    0.100973\n",
       "2               Year    0.076388\n",
       "7            Weekday    0.075352\n",
       "3              Month    0.074072"
      ]
     },
     "execution_count": 79,
     "metadata": {},
     "output_type": "execute_result"
    }
   ],
   "source": [
    "feature_importances"
   ]
  },
  {
   "cell_type": "code",
   "execution_count": 80,
   "id": "123a5360",
   "metadata": {
    "scrolled": true
   },
   "outputs": [],
   "source": [
    "feature_data_pipeline = ColumnTransformer([\n",
    "    (\"numerical\", StandardScaler(), [\"point_x\", \"point_y\",\"Minute\", \"Day\", \"Hour\", \n",
    "                                     \"Unemployment_Rate\", \"Month\", \"Weekday\", \"Year\"])\n",
    "])"
   ]
  },
  {
   "cell_type": "code",
   "execution_count": 82,
   "id": "d88cc1fd",
   "metadata": {},
   "outputs": [
    {
     "data": {
      "text/plain": [
       "((2505256, 9), (2505256,), (626315, 9), (626315,))"
      ]
     },
     "execution_count": 82,
     "metadata": {},
     "output_type": "execute_result"
    }
   ],
   "source": [
    "X_train.shape, y_train.shape, X_test_encoded.shape, y_test.shape"
   ]
  },
  {
   "cell_type": "markdown",
   "id": "3ee007d5",
   "metadata": {},
   "source": [
    " # Applying Smote\n",
    " This method of rebalancing the classes actually significantly decreased accuracy\n",
    " \n",
    "SMOTE generates synthetic samples by interpolating between existing minority class instances. This can sometimes lead to overfitting, especially if the synthetic samples do not represent the true underlying distribution well. Tree-based models, which can fit very complex patterns, might end up overfitting to these synthetic examples rather than learning the more general patterns. The synthetic samples created by SMOTE might distort the original data distribution, leading to a model that performs well on the balanced (but altered) dataset but poorly on the original data distribution, especially in the case of validation or test sets that reflect the original class distribution.By oversampling the minority class, the relative frequency of the patterns learned from the majority class is reduced. This can lead to a model that is less capable of recognizing patterns in the majority class, which can be detrimental if those patterns are important for generalization."
   ]
  },
  {
   "cell_type": "code",
   "execution_count": 34,
   "id": "ffc30eae",
   "metadata": {
    "scrolled": true
   },
   "outputs": [],
   "source": [
    "from imblearn.over_sampling import SMOTE\n",
    "from sklearn.model_selection import train_test_split\n",
    "\n",
    "# Using SMOTE; We have to adjust target column\n",
    "# Assuming 'data' is your DataFrame and 'target' is the column with class labels; what is the target column for our DataFrame\n",
    "X = data.iloc[:, 1:]  # Features\n",
    "y = data.iloc[:, 0]\n",
    "\n",
    "# Splitting the dataset into training and testing sets\n",
    "X_train, X_test, y_train, y_test = train_test_split(X, y, test_size=0.2, random_state=42)\n",
    "\n",
    "# Applying SMOTE\n",
    "smote = SMOTE()\n",
    "X_train_smote, y_train_smote = smote.fit_resample(X_train, y_train)"
   ]
  },
  {
   "cell_type": "code",
   "execution_count": 43,
   "id": "4e83cba4",
   "metadata": {
    "scrolled": true
   },
   "outputs": [],
   "source": [
    "y_train = y_train_smote\n",
    "X_train = X_train_encoded_smoted"
   ]
  },
  {
   "cell_type": "code",
   "execution_count": 35,
   "id": "8e6aa8f9",
   "metadata": {
    "scrolled": true
   },
   "outputs": [],
   "source": [
    "#Crime Classification:\n",
    "X_train_encoded_smoted = feature_data_pipeline.fit_transform(X_train_smote)\n",
    "X_test_encoded = feature_data_pipeline.transform(X_test)"
   ]
  },
  {
   "cell_type": "code",
   "execution_count": 44,
   "id": "ca5b302f",
   "metadata": {
    "scrolled": true
   },
   "outputs": [
    {
     "data": {
      "text/plain": [
       "((15856750, 9), (15856750,), (626315, 9), (626315,))"
      ]
     },
     "execution_count": 44,
     "metadata": {},
     "output_type": "execute_result"
    }
   ],
   "source": [
    "X_train.shape, y_train.shape, X_test_encoded.shape, y_test.shape"
   ]
  },
  {
   "cell_type": "code",
   "execution_count": 41,
   "id": "a0236d50",
   "metadata": {
    "scrolled": true
   },
   "outputs": [
    {
     "data": {
      "text/plain": [
       "25"
      ]
     },
     "execution_count": 41,
     "metadata": {},
     "output_type": "execute_result"
    }
   ],
   "source": [
    "max(y_train)"
   ]
  },
  {
   "cell_type": "code",
   "execution_count": 52,
   "id": "79c2922c",
   "metadata": {
    "scrolled": true
   },
   "outputs": [
    {
     "data": {
      "text/plain": [
       "[<matplotlib.lines.Line2D at 0x21c8f6ade50>]"
      ]
     },
     "execution_count": 52,
     "metadata": {},
     "output_type": "execute_result"
    },
    {
     "data": {
      "image/png": "[encoded data removed]",
      "text/plain": [
       "<Figure size 432x288 with 1 Axes>"
      ]
     },
     "metadata": {
      "needs_background": "light"
     },
     "output_type": "display_data"
    }
   ],
   "source": [
    "plt.plot(results[0]['accuracies'])"
   ]
  },
  {
   "cell_type": "code",
   "execution_count": null,
   "id": "d75dc046",
   "metadata": {
    "scrolled": false
   },
   "outputs": [],
   "source": [
    "import pandas as pd\n",
    "import numpy as np\n",
    "import json\n",
    "from sklearn.model_selection import train_test_split\n",
    "from sklearn.metrics import accuracy_score\n",
    "from sklearn.ensemble import RandomForestClassifier\n",
    "from sklearn.naive_bayes import MultinomialNB\n",
    "from sklearn.tree import DecisionTreeClassifier\n",
    "from sklearn.neighbors import KNeighborsClassifier\n",
    "from sklearn.linear_model import LogisticRegression\n",
    "from xgboost import XGBClassifier\n",
    "import joblib\n",
    "import gc\n",
    "\n",
    "encoder = LabelEncoder()\n",
    "encoder.fit(np.unique(y_train))  # Fit encoder to all unique labels in training set\n",
    "\n",
    "# Define classifiers\n",
    "classifiers = [\n",
    "    RandomForestClassifier(n_estimators=75, verbose=2),\n",
    "    DecisionTreeClassifier(),\n",
    "    KNeighborsClassifier(),\n",
    "    LogisticRegression(),\n",
    "    XGBClassifier(eval_metric='mlogloss', classes=encoder.classes_)\n",
    "]\n",
    "\n",
    "batch_size = 100000\n",
    "results = []\n",
    "\n",
    "# Train models on batches\n",
    "for model in classifiers:\n",
    "    model_name = type(model).__name__\n",
    "    print(f\"Training {model_name}\")\n",
    "    accuracy_list = []\n",
    "\n",
    "    # Train in batches\n",
    "    for i in range(0, len(X_train), batch_size):\n",
    "        batch_end = min(i + batch_size, len(X_train))\n",
    "        X_batch = X_train[i:batch_end]\n",
    "        y_batch = y_train[i:batch_end]\n",
    "        \n",
    "        try:\n",
    "            # Fit model on the current batch\n",
    "            model.fit(X_batch, y_batch)\n",
    "            # Predict on the entire test set\n",
    "            y_pred = model.predict(X_test)\n",
    "            accuracy = accuracy_score(y_test, y_pred)\n",
    "            accuracy_list.append(accuracy)\n",
    "            print(f\"Batch {i//batch_size + 1}, Accuracy: {accuracy}\")\n",
    "        except Exception as e:\n",
    "            print(f\"Error training {model_name} on batch {i//batch_size + 1}: {e}\")\n",
    "            continue\n",
    "        \n",
    "    # Save the model and results\n",
    "    joblib.dump(model, f'models/{model_name}.joblib')\n",
    "    results.append({\n",
    "        'model': model_name,\n",
    "        'accuracies': accuracy_list\n",
    "    })\n",
    "    gc.collect()\n",
    "\n",
    "# Save results to a JSON file\n",
    "with open('classification_results.json', 'w') as f:\n",
    "    json.dump(results, f, indent=4)\n",
    "\n",
    "print(\"Training completed and results saved.\")"
   ]
  },
  {
   "cell_type": "code",
   "execution_count": 54,
   "id": "42755de4",
   "metadata": {},
   "outputs": [
    {
     "data": {
      "text/plain": [
       "(15856750, 9)"
      ]
     },
     "execution_count": 54,
     "metadata": {},
     "output_type": "execute_result"
    }
   ],
   "source": [
    "X_train.shape"
   ]
  },
  {
   "cell_type": "markdown",
   "id": "f9cc9d24",
   "metadata": {},
   "source": [
    "## Training on raw unbalanced data"
   ]
  },
  {
   "cell_type": "code",
   "execution_count": 81,
   "id": "f3836419",
   "metadata": {},
   "outputs": [],
   "source": [
    "from sklearn.model_selection import train_test_split\n",
    "\n",
    "# Using SMOTE; We have to adjust target column\n",
    "# Assuming 'data' is your DataFrame and 'target' is the column with class labels; what is the target column for our DataFrame\n",
    "X = data.iloc[:, 1:]  # Features\n",
    "y = data.iloc[:, 0]\n",
    "\n",
    "# Splitting the dataset into training and testing sets\n",
    "X_train, X_test, y_train, y_test = train_test_split(X, y, test_size=0.2, random_state=42)\n",
    "\n",
    "#Crime Classification:\n",
    "X_train = feature_data_pipeline.fit_transform(X_train)\n",
    "X_test = feature_data_pipeline.transform(X_test)"
   ]
  },
  {
   "cell_type": "code",
   "execution_count": 87,
   "id": "c3f6d9d6",
   "metadata": {},
   "outputs": [
    {
     "name": "stdout",
     "output_type": "stream",
     "text": [
      "Training RandomForestClassifier\n",
      "building tree 1 of 75\n",
      "building tree 2 of 75\n",
      "building tree 3 of 75\n",
      "building tree 4 of 75\n",
      "building tree 5 of 75\n",
      "building tree 6 of 75\n",
      "building tree 7 of 75\n",
      "building tree 8 of 75\n",
      "building tree 9 of 75\n",
      "building tree 10 of 75\n",
      "building tree 11 of 75\n",
      "building tree 12 of 75\n",
      "building tree 13 of 75\n",
      "building tree 14 of 75\n",
      "building tree 15 of 75\n",
      "building tree 16 of 75\n",
      "building tree 17 of 75\n",
      "building tree 18 of 75\n",
      "building tree 19 of 75\n",
      "building tree 20 of 75\n",
      "building tree 21 of 75\n",
      "building tree 22 of 75\n",
      "building tree 23 of 75\n",
      "building tree 24 of 75\n",
      "building tree 25 of 75\n",
      "building tree 26 of 75\n",
      "building tree 27 of 75\n",
      "building tree 28 of 75\n",
      "building tree 29 of 75\n",
      "building tree 30 of 75\n",
      "building tree 31 of 75\n",
      "building tree 32 of 75\n",
      "building tree 33 of 75\n",
      "building tree 34 of 75\n",
      "building tree 35 of 75\n",
      "building tree 36 of 75\n",
      "building tree 37 of 75\n",
      "building tree 38 of 75\n",
      "building tree 39 of 75\n",
      "building tree 40 of 75\n"
     ]
    },
    {
     "name": "stderr",
     "output_type": "stream",
     "text": [
      "[Parallel(n_jobs=1)]: Done  40 tasks      | elapsed:   11.1s\n"
     ]
    },
    {
     "name": "stdout",
     "output_type": "stream",
     "text": [
      "building tree 41 of 75\n",
      "building tree 42 of 75\n",
      "building tree 43 of 75\n",
      "building tree 44 of 75\n",
      "building tree 45 of 75\n",
      "building tree 46 of 75\n",
      "building tree 47 of 75\n",
      "building tree 48 of 75\n",
      "building tree 49 of 75\n",
      "building tree 50 of 75\n",
      "building tree 51 of 75\n",
      "building tree 52 of 75\n",
      "building tree 53 of 75\n",
      "building tree 54 of 75\n",
      "building tree 55 of 75\n",
      "building tree 56 of 75\n",
      "building tree 57 of 75\n",
      "building tree 58 of 75\n",
      "building tree 59 of 75\n",
      "building tree 60 of 75\n",
      "building tree 61 of 75\n",
      "building tree 62 of 75\n",
      "building tree 63 of 75\n",
      "building tree 64 of 75\n",
      "building tree 65 of 75\n",
      "building tree 66 of 75\n",
      "building tree 67 of 75\n",
      "building tree 68 of 75\n",
      "building tree 69 of 75\n",
      "building tree 70 of 75\n",
      "building tree 71 of 75\n",
      "building tree 72 of 75\n",
      "building tree 73 of 75\n",
      "building tree 74 of 75\n",
      "building tree 75 of 75\n"
     ]
    },
    {
     "name": "stderr",
     "output_type": "stream",
     "text": [
      "[Parallel(n_jobs=1)]: Done  40 tasks      | elapsed:   10.2s\n",
      "[Parallel(n_jobs=1)]: Done  40 tasks      | elapsed:   10.0s\n"
     ]
    },
    {
     "name": "stdout",
     "output_type": "stream",
     "text": [
      "Batch 1, Accuracy: 0.29337314290732297, Log Loss: 3.7344011506537793\n",
      "building tree 1 of 75\n",
      "building tree 2 of 75\n",
      "building tree 3 of 75\n",
      "building tree 4 of 75\n",
      "building tree 5 of 75\n",
      "building tree 6 of 75\n",
      "building tree 7 of 75\n",
      "building tree 8 of 75\n",
      "building tree 9 of 75\n",
      "building tree 10 of 75\n",
      "building tree 11 of 75\n",
      "building tree 12 of 75\n",
      "building tree 13 of 75\n",
      "building tree 14 of 75\n",
      "building tree 15 of 75\n",
      "building tree 16 of 75\n",
      "building tree 17 of 75\n",
      "building tree 18 of 75\n",
      "building tree 19 of 75\n",
      "building tree 20 of 75\n",
      "building tree 21 of 75\n",
      "building tree 22 of 75\n",
      "building tree 23 of 75\n",
      "building tree 24 of 75\n",
      "building tree 25 of 75\n",
      "building tree 26 of 75\n",
      "building tree 27 of 75\n",
      "building tree 28 of 75\n",
      "building tree 29 of 75\n",
      "building tree 30 of 75\n",
      "building tree 31 of 75\n",
      "building tree 32 of 75\n",
      "building tree 33 of 75\n",
      "building tree 34 of 75\n",
      "building tree 35 of 75\n",
      "building tree 36 of 75\n",
      "building tree 37 of 75\n",
      "building tree 38 of 75\n",
      "building tree 39 of 75\n",
      "building tree 40 of 75\n"
     ]
    },
    {
     "name": "stderr",
     "output_type": "stream",
     "text": [
      "[Parallel(n_jobs=1)]: Done  40 tasks      | elapsed:   11.2s\n"
     ]
    },
    {
     "name": "stdout",
     "output_type": "stream",
     "text": [
      "building tree 41 of 75\n",
      "building tree 42 of 75\n",
      "building tree 43 of 75\n",
      "building tree 44 of 75\n",
      "building tree 45 of 75\n",
      "building tree 46 of 75\n",
      "building tree 47 of 75\n",
      "building tree 48 of 75\n",
      "building tree 49 of 75\n",
      "building tree 50 of 75\n",
      "building tree 51 of 75\n",
      "building tree 52 of 75\n",
      "building tree 53 of 75\n",
      "building tree 54 of 75\n",
      "building tree 55 of 75\n",
      "building tree 56 of 75\n",
      "building tree 57 of 75\n",
      "building tree 58 of 75\n",
      "building tree 59 of 75\n",
      "building tree 60 of 75\n",
      "building tree 61 of 75\n",
      "building tree 62 of 75\n",
      "building tree 63 of 75\n",
      "building tree 64 of 75\n",
      "building tree 65 of 75\n",
      "building tree 66 of 75\n",
      "building tree 67 of 75\n",
      "building tree 68 of 75\n",
      "building tree 69 of 75\n",
      "building tree 70 of 75\n",
      "building tree 71 of 75\n",
      "building tree 72 of 75\n",
      "building tree 73 of 75\n",
      "building tree 74 of 75\n",
      "building tree 75 of 75\n"
     ]
    },
    {
     "name": "stderr",
     "output_type": "stream",
     "text": [
      "[Parallel(n_jobs=1)]: Done  40 tasks      | elapsed:   10.0s\n",
      "[Parallel(n_jobs=1)]: Done  40 tasks      | elapsed:   10.1s\n"
     ]
    },
    {
     "name": "stdout",
     "output_type": "stream",
     "text": [
      "Batch 2, Accuracy: 0.2938633115924096, Log Loss: 3.7279172231893374\n",
      "building tree 1 of 75\n",
      "building tree 2 of 75\n",
      "building tree 3 of 75\n",
      "building tree 4 of 75\n",
      "building tree 5 of 75\n",
      "building tree 6 of 75\n",
      "building tree 7 of 75\n",
      "building tree 8 of 75\n",
      "building tree 9 of 75\n",
      "building tree 10 of 75\n",
      "building tree 11 of 75\n",
      "building tree 12 of 75\n",
      "building tree 13 of 75\n",
      "building tree 14 of 75\n",
      "building tree 15 of 75\n",
      "building tree 16 of 75\n",
      "building tree 17 of 75\n",
      "building tree 18 of 75\n",
      "building tree 19 of 75\n",
      "building tree 20 of 75\n",
      "building tree 21 of 75\n",
      "building tree 22 of 75\n",
      "building tree 23 of 75\n",
      "building tree 24 of 75\n",
      "building tree 25 of 75\n",
      "building tree 26 of 75\n",
      "building tree 27 of 75\n",
      "building tree 28 of 75\n",
      "building tree 29 of 75\n",
      "building tree 30 of 75\n",
      "building tree 31 of 75\n",
      "building tree 32 of 75\n",
      "building tree 33 of 75\n",
      "building tree 34 of 75\n",
      "building tree 35 of 75\n",
      "building tree 36 of 75\n",
      "building tree 37 of 75\n",
      "building tree 38 of 75\n",
      "building tree 39 of 75\n",
      "building tree 40 of 75\n"
     ]
    },
    {
     "name": "stderr",
     "output_type": "stream",
     "text": [
      "[Parallel(n_jobs=1)]: Done  40 tasks      | elapsed:   11.1s\n"
     ]
    },
    {
     "name": "stdout",
     "output_type": "stream",
     "text": [
      "building tree 41 of 75\n",
      "building tree 42 of 75\n",
      "building tree 43 of 75\n",
      "building tree 44 of 75\n",
      "building tree 45 of 75\n",
      "building tree 46 of 75\n",
      "building tree 47 of 75\n",
      "building tree 48 of 75\n",
      "building tree 49 of 75\n",
      "building tree 50 of 75\n",
      "building tree 51 of 75\n",
      "building tree 52 of 75\n",
      "building tree 53 of 75\n",
      "building tree 54 of 75\n",
      "building tree 55 of 75\n",
      "building tree 56 of 75\n",
      "building tree 57 of 75\n",
      "building tree 58 of 75\n",
      "building tree 59 of 75\n",
      "building tree 60 of 75\n",
      "building tree 61 of 75\n",
      "building tree 62 of 75\n",
      "building tree 63 of 75\n",
      "building tree 64 of 75\n",
      "building tree 65 of 75\n",
      "building tree 66 of 75\n",
      "building tree 67 of 75\n",
      "building tree 68 of 75\n",
      "building tree 69 of 75\n",
      "building tree 70 of 75\n",
      "building tree 71 of 75\n",
      "building tree 72 of 75\n",
      "building tree 73 of 75\n",
      "building tree 74 of 75\n",
      "building tree 75 of 75\n"
     ]
    },
    {
     "name": "stderr",
     "output_type": "stream",
     "text": [
      "[Parallel(n_jobs=1)]: Done  40 tasks      | elapsed:   10.1s\n",
      "[Parallel(n_jobs=1)]: Done  40 tasks      | elapsed:   10.1s\n"
     ]
    },
    {
     "name": "stdout",
     "output_type": "stream",
     "text": [
      "Batch 3, Accuracy: 0.29413633714664345, Log Loss: 3.737020742995179\n",
      "building tree 1 of 75\n",
      "building tree 2 of 75\n",
      "building tree 3 of 75\n",
      "building tree 4 of 75\n",
      "building tree 5 of 75\n",
      "building tree 6 of 75\n",
      "building tree 7 of 75\n",
      "building tree 8 of 75\n",
      "building tree 9 of 75\n",
      "building tree 10 of 75\n",
      "building tree 11 of 75\n",
      "building tree 12 of 75\n",
      "building tree 13 of 75\n",
      "building tree 14 of 75\n",
      "building tree 15 of 75\n",
      "building tree 16 of 75\n",
      "building tree 17 of 75\n",
      "building tree 18 of 75\n",
      "building tree 19 of 75\n",
      "building tree 20 of 75\n",
      "building tree 21 of 75\n",
      "building tree 22 of 75\n",
      "building tree 23 of 75\n",
      "building tree 24 of 75\n",
      "building tree 25 of 75\n",
      "building tree 26 of 75\n",
      "building tree 27 of 75\n",
      "building tree 28 of 75\n",
      "building tree 29 of 75\n",
      "building tree 30 of 75\n",
      "building tree 31 of 75\n",
      "building tree 32 of 75\n",
      "building tree 33 of 75\n",
      "building tree 34 of 75\n",
      "building tree 35 of 75\n",
      "building tree 36 of 75\n",
      "building tree 37 of 75\n",
      "building tree 38 of 75\n",
      "building tree 39 of 75\n",
      "building tree 40 of 75\n"
     ]
    },
    {
     "name": "stderr",
     "output_type": "stream",
     "text": [
      "[Parallel(n_jobs=1)]: Done  40 tasks      | elapsed:   11.3s\n"
     ]
    },
    {
     "name": "stdout",
     "output_type": "stream",
     "text": [
      "building tree 41 of 75\n",
      "building tree 42 of 75\n",
      "building tree 43 of 75\n",
      "building tree 44 of 75\n",
      "building tree 45 of 75\n",
      "building tree 46 of 75\n",
      "building tree 47 of 75\n",
      "building tree 48 of 75\n",
      "building tree 49 of 75\n",
      "building tree 50 of 75\n",
      "building tree 51 of 75\n",
      "building tree 52 of 75\n",
      "building tree 53 of 75\n",
      "building tree 54 of 75\n",
      "building tree 55 of 75\n",
      "building tree 56 of 75\n",
      "building tree 57 of 75\n",
      "building tree 58 of 75\n",
      "building tree 59 of 75\n",
      "building tree 60 of 75\n",
      "building tree 61 of 75\n",
      "building tree 62 of 75\n",
      "building tree 63 of 75\n",
      "building tree 64 of 75\n",
      "building tree 65 of 75\n",
      "building tree 66 of 75\n",
      "building tree 67 of 75\n",
      "building tree 68 of 75\n",
      "building tree 69 of 75\n",
      "building tree 70 of 75\n",
      "building tree 71 of 75\n",
      "building tree 72 of 75\n",
      "building tree 73 of 75\n",
      "building tree 74 of 75\n",
      "building tree 75 of 75\n"
     ]
    },
    {
     "name": "stderr",
     "output_type": "stream",
     "text": [
      "[Parallel(n_jobs=1)]: Done  40 tasks      | elapsed:   10.3s\n",
      "[Parallel(n_jobs=1)]: Done  40 tasks      | elapsed:   10.6s\n"
     ]
    },
    {
     "name": "stdout",
     "output_type": "stream",
     "text": [
      "Batch 4, Accuracy: 0.2934849077540854, Log Loss: 3.7353631664972236\n",
      "building tree 1 of 75\n",
      "building tree 2 of 75\n",
      "building tree 3 of 75\n",
      "building tree 4 of 75\n",
      "building tree 5 of 75\n",
      "building tree 6 of 75\n",
      "building tree 7 of 75\n",
      "building tree 8 of 75\n",
      "building tree 9 of 75\n",
      "building tree 10 of 75\n",
      "building tree 11 of 75\n",
      "building tree 12 of 75\n",
      "building tree 13 of 75\n",
      "building tree 14 of 75\n",
      "building tree 15 of 75\n",
      "building tree 16 of 75\n",
      "building tree 17 of 75\n",
      "building tree 18 of 75\n",
      "building tree 19 of 75\n",
      "building tree 20 of 75\n",
      "building tree 21 of 75\n",
      "building tree 22 of 75\n",
      "building tree 23 of 75\n",
      "building tree 24 of 75\n",
      "building tree 25 of 75\n",
      "building tree 26 of 75\n",
      "building tree 27 of 75\n",
      "building tree 28 of 75\n",
      "building tree 29 of 75\n",
      "building tree 30 of 75\n",
      "building tree 31 of 75\n",
      "building tree 32 of 75\n",
      "building tree 33 of 75\n",
      "building tree 34 of 75\n",
      "building tree 35 of 75\n",
      "building tree 36 of 75\n",
      "building tree 37 of 75\n",
      "building tree 38 of 75\n",
      "building tree 39 of 75\n",
      "building tree 40 of 75\n"
     ]
    },
    {
     "name": "stderr",
     "output_type": "stream",
     "text": [
      "[Parallel(n_jobs=1)]: Done  40 tasks      | elapsed:   11.3s\n"
     ]
    },
    {
     "name": "stdout",
     "output_type": "stream",
     "text": [
      "building tree 41 of 75\n",
      "building tree 42 of 75\n",
      "building tree 43 of 75\n",
      "building tree 44 of 75\n",
      "building tree 45 of 75\n",
      "building tree 46 of 75\n",
      "building tree 47 of 75\n",
      "building tree 48 of 75\n",
      "building tree 49 of 75\n",
      "building tree 50 of 75\n",
      "building tree 51 of 75\n",
      "building tree 52 of 75\n",
      "building tree 53 of 75\n",
      "building tree 54 of 75\n",
      "building tree 55 of 75\n",
      "building tree 56 of 75\n",
      "building tree 57 of 75\n",
      "building tree 58 of 75\n",
      "building tree 59 of 75\n",
      "building tree 60 of 75\n",
      "building tree 61 of 75\n",
      "building tree 62 of 75\n",
      "building tree 63 of 75\n",
      "building tree 64 of 75\n",
      "building tree 65 of 75\n",
      "building tree 66 of 75\n",
      "building tree 67 of 75\n",
      "building tree 68 of 75\n",
      "building tree 69 of 75\n",
      "building tree 70 of 75\n",
      "building tree 71 of 75\n",
      "building tree 72 of 75\n",
      "building tree 73 of 75\n",
      "building tree 74 of 75\n",
      "building tree 75 of 75\n"
     ]
    },
    {
     "name": "stderr",
     "output_type": "stream",
     "text": [
      "[Parallel(n_jobs=1)]: Done  40 tasks      | elapsed:   10.1s\n",
      "[Parallel(n_jobs=1)]: Done  40 tasks      | elapsed:   10.2s\n"
     ]
    },
    {
     "name": "stdout",
     "output_type": "stream",
     "text": [
      "Batch 5, Accuracy: 0.2943151609014633, Log Loss: 3.7576091493820107\n",
      "building tree 1 of 75\n",
      "building tree 2 of 75\n",
      "building tree 3 of 75\n",
      "building tree 4 of 75\n",
      "building tree 5 of 75\n",
      "building tree 6 of 75\n",
      "building tree 7 of 75\n",
      "building tree 8 of 75\n",
      "building tree 9 of 75\n",
      "building tree 10 of 75\n",
      "building tree 11 of 75\n",
      "building tree 12 of 75\n",
      "building tree 13 of 75\n",
      "building tree 14 of 75\n",
      "building tree 15 of 75\n",
      "building tree 16 of 75\n",
      "building tree 17 of 75\n",
      "building tree 18 of 75\n",
      "building tree 19 of 75\n",
      "building tree 20 of 75\n",
      "building tree 21 of 75\n",
      "building tree 22 of 75\n",
      "building tree 23 of 75\n",
      "building tree 24 of 75\n",
      "building tree 25 of 75\n",
      "building tree 26 of 75\n",
      "building tree 27 of 75\n",
      "building tree 28 of 75\n",
      "building tree 29 of 75\n",
      "building tree 30 of 75\n",
      "building tree 31 of 75\n",
      "building tree 32 of 75\n",
      "building tree 33 of 75\n",
      "building tree 34 of 75\n",
      "building tree 35 of 75\n",
      "building tree 36 of 75\n",
      "building tree 37 of 75\n",
      "building tree 38 of 75\n",
      "building tree 39 of 75\n",
      "building tree 40 of 75\n"
     ]
    },
    {
     "name": "stderr",
     "output_type": "stream",
     "text": [
      "[Parallel(n_jobs=1)]: Done  40 tasks      | elapsed:   11.0s\n"
     ]
    },
    {
     "name": "stdout",
     "output_type": "stream",
     "text": [
      "building tree 41 of 75\n",
      "building tree 42 of 75\n",
      "building tree 43 of 75\n",
      "building tree 44 of 75\n",
      "building tree 45 of 75\n",
      "building tree 46 of 75\n",
      "building tree 47 of 75\n",
      "building tree 48 of 75\n",
      "building tree 49 of 75\n",
      "building tree 50 of 75\n",
      "building tree 51 of 75\n",
      "building tree 52 of 75\n",
      "building tree 53 of 75\n",
      "building tree 54 of 75\n",
      "building tree 55 of 75\n",
      "building tree 56 of 75\n",
      "building tree 57 of 75\n",
      "building tree 58 of 75\n",
      "building tree 59 of 75\n",
      "building tree 60 of 75\n",
      "building tree 61 of 75\n",
      "building tree 62 of 75\n",
      "building tree 63 of 75\n",
      "building tree 64 of 75\n",
      "building tree 65 of 75\n",
      "building tree 66 of 75\n",
      "building tree 67 of 75\n",
      "building tree 68 of 75\n",
      "building tree 69 of 75\n",
      "building tree 70 of 75\n",
      "building tree 71 of 75\n",
      "building tree 72 of 75\n",
      "building tree 73 of 75\n",
      "building tree 74 of 75\n",
      "building tree 75 of 75\n"
     ]
    },
    {
     "name": "stderr",
     "output_type": "stream",
     "text": [
      "[Parallel(n_jobs=1)]: Done  40 tasks      | elapsed:   10.0s\n",
      "[Parallel(n_jobs=1)]: Done  40 tasks      | elapsed:   10.1s\n"
     ]
    },
    {
     "name": "stdout",
     "output_type": "stream",
     "text": [
      "Batch 6, Accuracy: 0.29368129455625364, Log Loss: 3.743825081518765\n",
      "building tree 1 of 75\n",
      "building tree 2 of 75\n",
      "building tree 3 of 75\n",
      "building tree 4 of 75\n",
      "building tree 5 of 75\n",
      "building tree 6 of 75\n",
      "building tree 7 of 75\n",
      "building tree 8 of 75\n",
      "building tree 9 of 75\n",
      "building tree 10 of 75\n",
      "building tree 11 of 75\n",
      "building tree 12 of 75\n",
      "building tree 13 of 75\n",
      "building tree 14 of 75\n",
      "building tree 15 of 75\n",
      "building tree 16 of 75\n",
      "building tree 17 of 75\n",
      "building tree 18 of 75\n",
      "building tree 19 of 75\n",
      "building tree 20 of 75\n",
      "building tree 21 of 75\n",
      "building tree 22 of 75\n",
      "building tree 23 of 75\n",
      "building tree 24 of 75\n",
      "building tree 25 of 75\n",
      "building tree 26 of 75\n",
      "building tree 27 of 75\n",
      "building tree 28 of 75\n",
      "building tree 29 of 75\n",
      "building tree 30 of 75\n",
      "building tree 31 of 75\n",
      "building tree 32 of 75\n",
      "building tree 33 of 75\n",
      "building tree 34 of 75\n",
      "building tree 35 of 75\n",
      "building tree 36 of 75\n",
      "building tree 37 of 75\n",
      "building tree 38 of 75\n",
      "building tree 39 of 75\n",
      "building tree 40 of 75\n"
     ]
    },
    {
     "name": "stderr",
     "output_type": "stream",
     "text": [
      "[Parallel(n_jobs=1)]: Done  40 tasks      | elapsed:   11.0s\n"
     ]
    },
    {
     "name": "stdout",
     "output_type": "stream",
     "text": [
      "building tree 41 of 75\n",
      "building tree 42 of 75\n",
      "building tree 43 of 75\n",
      "building tree 44 of 75\n",
      "building tree 45 of 75\n",
      "building tree 46 of 75\n",
      "building tree 47 of 75\n",
      "building tree 48 of 75\n",
      "building tree 49 of 75\n",
      "building tree 50 of 75\n",
      "building tree 51 of 75\n",
      "building tree 52 of 75\n",
      "building tree 53 of 75\n",
      "building tree 54 of 75\n",
      "building tree 55 of 75\n",
      "building tree 56 of 75\n",
      "building tree 57 of 75\n",
      "building tree 58 of 75\n",
      "building tree 59 of 75\n",
      "building tree 60 of 75\n",
      "building tree 61 of 75\n",
      "building tree 62 of 75\n",
      "building tree 63 of 75\n",
      "building tree 64 of 75\n",
      "building tree 65 of 75\n",
      "building tree 66 of 75\n",
      "building tree 67 of 75\n",
      "building tree 68 of 75\n",
      "building tree 69 of 75\n",
      "building tree 70 of 75\n",
      "building tree 71 of 75\n",
      "building tree 72 of 75\n",
      "building tree 73 of 75\n",
      "building tree 74 of 75\n",
      "building tree 75 of 75\n"
     ]
    },
    {
     "name": "stderr",
     "output_type": "stream",
     "text": [
      "[Parallel(n_jobs=1)]: Done  40 tasks      | elapsed:   10.1s\n",
      "[Parallel(n_jobs=1)]: Done  40 tasks      | elapsed:   10.0s\n"
     ]
    },
    {
     "name": "stdout",
     "output_type": "stream",
     "text": [
      "Batch 7, Accuracy: 0.29294524320828974, Log Loss: 3.7536736824537993\n",
      "building tree 1 of 75\n",
      "building tree 2 of 75\n",
      "building tree 3 of 75\n",
      "building tree 4 of 75\n",
      "building tree 5 of 75\n",
      "building tree 6 of 75\n",
      "building tree 7 of 75\n",
      "building tree 8 of 75\n",
      "building tree 9 of 75\n",
      "building tree 10 of 75\n",
      "building tree 11 of 75\n",
      "building tree 12 of 75\n",
      "building tree 13 of 75\n",
      "building tree 14 of 75\n",
      "building tree 15 of 75\n",
      "building tree 16 of 75\n",
      "building tree 17 of 75\n",
      "building tree 18 of 75\n",
      "building tree 19 of 75\n",
      "building tree 20 of 75\n",
      "building tree 21 of 75\n",
      "building tree 22 of 75\n",
      "building tree 23 of 75\n",
      "building tree 24 of 75\n",
      "building tree 25 of 75\n",
      "building tree 26 of 75\n",
      "building tree 27 of 75\n",
      "building tree 28 of 75\n",
      "building tree 29 of 75\n",
      "building tree 30 of 75\n",
      "building tree 31 of 75\n",
      "building tree 32 of 75\n",
      "building tree 33 of 75\n",
      "building tree 34 of 75\n",
      "building tree 35 of 75\n",
      "building tree 36 of 75\n",
      "building tree 37 of 75\n",
      "building tree 38 of 75\n",
      "building tree 39 of 75\n",
      "building tree 40 of 75\n"
     ]
    },
    {
     "name": "stderr",
     "output_type": "stream",
     "text": [
      "[Parallel(n_jobs=1)]: Done  40 tasks      | elapsed:   11.1s\n"
     ]
    },
    {
     "name": "stdout",
     "output_type": "stream",
     "text": [
      "building tree 41 of 75\n",
      "building tree 42 of 75\n",
      "building tree 43 of 75\n",
      "building tree 44 of 75\n",
      "building tree 45 of 75\n",
      "building tree 46 of 75\n",
      "building tree 47 of 75\n",
      "building tree 48 of 75\n",
      "building tree 49 of 75\n",
      "building tree 50 of 75\n",
      "building tree 51 of 75\n",
      "building tree 52 of 75\n",
      "building tree 53 of 75\n",
      "building tree 54 of 75\n",
      "building tree 55 of 75\n",
      "building tree 56 of 75\n",
      "building tree 57 of 75\n",
      "building tree 58 of 75\n",
      "building tree 59 of 75\n",
      "building tree 60 of 75\n",
      "building tree 61 of 75\n",
      "building tree 62 of 75\n",
      "building tree 63 of 75\n",
      "building tree 64 of 75\n",
      "building tree 65 of 75\n",
      "building tree 66 of 75\n",
      "building tree 67 of 75\n",
      "building tree 68 of 75\n",
      "building tree 69 of 75\n",
      "building tree 70 of 75\n",
      "building tree 71 of 75\n",
      "building tree 72 of 75\n",
      "building tree 73 of 75\n",
      "building tree 74 of 75\n",
      "building tree 75 of 75\n"
     ]
    },
    {
     "name": "stderr",
     "output_type": "stream",
     "text": [
      "[Parallel(n_jobs=1)]: Done  40 tasks      | elapsed:   10.0s\n",
      "[Parallel(n_jobs=1)]: Done  40 tasks      | elapsed:   10.0s\n"
     ]
    },
    {
     "name": "stdout",
     "output_type": "stream",
     "text": [
      "Batch 8, Accuracy: 0.29326297470122864, Log Loss: 3.746543331945398\n",
      "building tree 1 of 75\n",
      "building tree 2 of 75\n",
      "building tree 3 of 75\n",
      "building tree 4 of 75\n",
      "building tree 5 of 75\n",
      "building tree 6 of 75\n",
      "building tree 7 of 75\n",
      "building tree 8 of 75\n",
      "building tree 9 of 75\n",
      "building tree 10 of 75\n",
      "building tree 11 of 75\n",
      "building tree 12 of 75\n",
      "building tree 13 of 75\n",
      "building tree 14 of 75\n",
      "building tree 15 of 75\n",
      "building tree 16 of 75\n",
      "building tree 17 of 75\n",
      "building tree 18 of 75\n",
      "building tree 19 of 75\n",
      "building tree 20 of 75\n",
      "building tree 21 of 75\n",
      "building tree 22 of 75\n",
      "building tree 23 of 75\n",
      "building tree 24 of 75\n",
      "building tree 25 of 75\n",
      "building tree 26 of 75\n",
      "building tree 27 of 75\n",
      "building tree 28 of 75\n",
      "building tree 29 of 75\n",
      "building tree 30 of 75\n",
      "building tree 31 of 75\n",
      "building tree 32 of 75\n",
      "building tree 33 of 75\n",
      "building tree 34 of 75\n",
      "building tree 35 of 75\n",
      "building tree 36 of 75\n",
      "building tree 37 of 75\n",
      "building tree 38 of 75\n",
      "building tree 39 of 75\n",
      "building tree 40 of 75\n"
     ]
    },
    {
     "name": "stderr",
     "output_type": "stream",
     "text": [
      "[Parallel(n_jobs=1)]: Done  40 tasks      | elapsed:   11.1s\n"
     ]
    },
    {
     "name": "stdout",
     "output_type": "stream",
     "text": [
      "building tree 41 of 75\n",
      "building tree 42 of 75\n",
      "building tree 43 of 75\n",
      "building tree 44 of 75\n",
      "building tree 45 of 75\n",
      "building tree 46 of 75\n",
      "building tree 47 of 75\n",
      "building tree 48 of 75\n",
      "building tree 49 of 75\n",
      "building tree 50 of 75\n",
      "building tree 51 of 75\n",
      "building tree 52 of 75\n",
      "building tree 53 of 75\n",
      "building tree 54 of 75\n",
      "building tree 55 of 75\n",
      "building tree 56 of 75\n",
      "building tree 57 of 75\n",
      "building tree 58 of 75\n",
      "building tree 59 of 75\n",
      "building tree 60 of 75\n",
      "building tree 61 of 75\n",
      "building tree 62 of 75\n",
      "building tree 63 of 75\n",
      "building tree 64 of 75\n",
      "building tree 65 of 75\n",
      "building tree 66 of 75\n",
      "building tree 67 of 75\n",
      "building tree 68 of 75\n",
      "building tree 69 of 75\n",
      "building tree 70 of 75\n",
      "building tree 71 of 75\n",
      "building tree 72 of 75\n",
      "building tree 73 of 75\n",
      "building tree 74 of 75\n",
      "building tree 75 of 75\n"
     ]
    },
    {
     "name": "stderr",
     "output_type": "stream",
     "text": [
      "[Parallel(n_jobs=1)]: Done  40 tasks      | elapsed:   12.5s\n",
      "[Parallel(n_jobs=1)]: Done  40 tasks      | elapsed:   10.4s\n"
     ]
    },
    {
     "name": "stdout",
     "output_type": "stream",
     "text": [
      "Batch 9, Accuracy: 0.29391280745311865, Log Loss: 3.7497156402976812\n",
      "building tree 1 of 75\n",
      "building tree 2 of 75\n",
      "building tree 3 of 75\n",
      "building tree 4 of 75\n",
      "building tree 5 of 75\n",
      "building tree 6 of 75\n",
      "building tree 7 of 75\n",
      "building tree 8 of 75\n",
      "building tree 9 of 75\n",
      "building tree 10 of 75\n",
      "building tree 11 of 75\n",
      "building tree 12 of 75\n",
      "building tree 13 of 75\n",
      "building tree 14 of 75\n",
      "building tree 15 of 75\n",
      "building tree 16 of 75\n",
      "building tree 17 of 75\n",
      "building tree 18 of 75\n",
      "building tree 19 of 75\n",
      "building tree 20 of 75\n",
      "building tree 21 of 75\n",
      "building tree 22 of 75\n",
      "building tree 23 of 75\n",
      "building tree 24 of 75\n",
      "building tree 25 of 75\n",
      "building tree 26 of 75\n",
      "building tree 27 of 75\n",
      "building tree 28 of 75\n",
      "building tree 29 of 75\n",
      "building tree 30 of 75\n",
      "building tree 31 of 75\n",
      "building tree 32 of 75\n",
      "building tree 33 of 75\n",
      "building tree 34 of 75\n",
      "building tree 35 of 75\n",
      "building tree 36 of 75\n",
      "building tree 37 of 75\n",
      "building tree 38 of 75\n",
      "building tree 39 of 75\n",
      "building tree 40 of 75\n"
     ]
    },
    {
     "name": "stderr",
     "output_type": "stream",
     "text": [
      "[Parallel(n_jobs=1)]: Done  40 tasks      | elapsed:   11.0s\n"
     ]
    },
    {
     "name": "stdout",
     "output_type": "stream",
     "text": [
      "building tree 41 of 75\n",
      "building tree 42 of 75\n",
      "building tree 43 of 75\n",
      "building tree 44 of 75\n",
      "building tree 45 of 75\n",
      "building tree 46 of 75\n",
      "building tree 47 of 75\n",
      "building tree 48 of 75\n",
      "building tree 49 of 75\n",
      "building tree 50 of 75\n",
      "building tree 51 of 75\n",
      "building tree 52 of 75\n",
      "building tree 53 of 75\n",
      "building tree 54 of 75\n",
      "building tree 55 of 75\n",
      "building tree 56 of 75\n",
      "building tree 57 of 75\n",
      "building tree 58 of 75\n",
      "building tree 59 of 75\n",
      "building tree 60 of 75\n",
      "building tree 61 of 75\n",
      "building tree 62 of 75\n",
      "building tree 63 of 75\n",
      "building tree 64 of 75\n",
      "building tree 65 of 75\n",
      "building tree 66 of 75\n",
      "building tree 67 of 75\n",
      "building tree 68 of 75\n",
      "building tree 69 of 75\n",
      "building tree 70 of 75\n",
      "building tree 71 of 75\n",
      "building tree 72 of 75\n",
      "building tree 73 of 75\n",
      "building tree 74 of 75\n",
      "building tree 75 of 75\n"
     ]
    },
    {
     "name": "stderr",
     "output_type": "stream",
     "text": [
      "[Parallel(n_jobs=1)]: Done  40 tasks      | elapsed:   10.6s\n",
      "[Parallel(n_jobs=1)]: Done  40 tasks      | elapsed:   10.8s\n"
     ]
    },
    {
     "name": "stdout",
     "output_type": "stream",
     "text": [
      "Batch 10, Accuracy: 0.2925955789019902, Log Loss: 3.7422689552363333\n",
      "building tree 1 of 75\n",
      "building tree 2 of 75\n",
      "building tree 3 of 75\n",
      "building tree 4 of 75\n",
      "building tree 5 of 75\n",
      "building tree 6 of 75\n",
      "building tree 7 of 75\n",
      "building tree 8 of 75\n",
      "building tree 9 of 75\n",
      "building tree 10 of 75\n",
      "building tree 11 of 75\n",
      "building tree 12 of 75\n",
      "building tree 13 of 75\n",
      "building tree 14 of 75\n",
      "building tree 15 of 75\n",
      "building tree 16 of 75\n",
      "building tree 17 of 75\n",
      "building tree 18 of 75\n",
      "building tree 19 of 75\n",
      "building tree 20 of 75\n",
      "building tree 21 of 75\n",
      "building tree 22 of 75\n",
      "building tree 23 of 75\n",
      "building tree 24 of 75\n",
      "building tree 25 of 75\n",
      "building tree 26 of 75\n",
      "building tree 27 of 75\n",
      "building tree 28 of 75\n",
      "building tree 29 of 75\n",
      "building tree 30 of 75\n",
      "building tree 31 of 75\n",
      "building tree 32 of 75\n",
      "building tree 33 of 75\n",
      "building tree 34 of 75\n",
      "building tree 35 of 75\n",
      "building tree 36 of 75\n",
      "building tree 37 of 75\n",
      "building tree 38 of 75\n",
      "building tree 39 of 75\n",
      "building tree 40 of 75\n"
     ]
    },
    {
     "name": "stderr",
     "output_type": "stream",
     "text": [
      "[Parallel(n_jobs=1)]: Done  40 tasks      | elapsed:   12.3s\n"
     ]
    },
    {
     "name": "stdout",
     "output_type": "stream",
     "text": [
      "building tree 41 of 75\n",
      "building tree 42 of 75\n",
      "building tree 43 of 75\n",
      "building tree 44 of 75\n",
      "building tree 45 of 75\n",
      "building tree 46 of 75\n",
      "building tree 47 of 75\n",
      "building tree 48 of 75\n",
      "building tree 49 of 75\n",
      "building tree 50 of 75\n",
      "building tree 51 of 75\n",
      "building tree 52 of 75\n",
      "building tree 53 of 75\n",
      "building tree 54 of 75\n",
      "building tree 55 of 75\n",
      "building tree 56 of 75\n",
      "building tree 57 of 75\n",
      "building tree 58 of 75\n",
      "building tree 59 of 75\n",
      "building tree 60 of 75\n",
      "building tree 61 of 75\n",
      "building tree 62 of 75\n",
      "building tree 63 of 75\n",
      "building tree 64 of 75\n",
      "building tree 65 of 75\n",
      "building tree 66 of 75\n",
      "building tree 67 of 75\n",
      "building tree 68 of 75\n",
      "building tree 69 of 75\n",
      "building tree 70 of 75\n",
      "building tree 71 of 75\n",
      "building tree 72 of 75\n",
      "building tree 73 of 75\n",
      "building tree 74 of 75\n",
      "building tree 75 of 75\n"
     ]
    },
    {
     "name": "stderr",
     "output_type": "stream",
     "text": [
      "[Parallel(n_jobs=1)]: Done  40 tasks      | elapsed:   10.6s\n",
      "[Parallel(n_jobs=1)]: Done  40 tasks      | elapsed:   10.7s\n"
     ]
    },
    {
     "name": "stdout",
     "output_type": "stream",
     "text": [
      "Batch 11, Accuracy: 0.29374356354230696, Log Loss: 3.74839770270058\n",
      "building tree 1 of 75\n",
      "building tree 2 of 75\n",
      "building tree 3 of 75\n",
      "building tree 4 of 75\n",
      "building tree 5 of 75\n",
      "building tree 6 of 75\n",
      "building tree 7 of 75\n",
      "building tree 8 of 75\n",
      "building tree 9 of 75\n",
      "building tree 10 of 75\n",
      "building tree 11 of 75\n",
      "building tree 12 of 75\n",
      "building tree 13 of 75\n",
      "building tree 14 of 75\n",
      "building tree 15 of 75\n",
      "building tree 16 of 75\n",
      "building tree 17 of 75\n",
      "building tree 18 of 75\n",
      "building tree 19 of 75\n",
      "building tree 20 of 75\n",
      "building tree 21 of 75\n",
      "building tree 22 of 75\n",
      "building tree 23 of 75\n",
      "building tree 24 of 75\n",
      "building tree 25 of 75\n",
      "building tree 26 of 75\n",
      "building tree 27 of 75\n",
      "building tree 28 of 75\n",
      "building tree 29 of 75\n",
      "building tree 30 of 75\n",
      "building tree 31 of 75\n",
      "building tree 32 of 75\n",
      "building tree 33 of 75\n",
      "building tree 34 of 75\n",
      "building tree 35 of 75\n",
      "building tree 36 of 75\n",
      "building tree 37 of 75\n",
      "building tree 38 of 75\n",
      "building tree 39 of 75\n",
      "building tree 40 of 75\n"
     ]
    },
    {
     "name": "stderr",
     "output_type": "stream",
     "text": [
      "[Parallel(n_jobs=1)]: Done  40 tasks      | elapsed:   11.5s\n"
     ]
    },
    {
     "name": "stdout",
     "output_type": "stream",
     "text": [
      "building tree 41 of 75\n",
      "building tree 42 of 75\n",
      "building tree 43 of 75\n",
      "building tree 44 of 75\n",
      "building tree 45 of 75\n",
      "building tree 46 of 75\n",
      "building tree 47 of 75\n",
      "building tree 48 of 75\n",
      "building tree 49 of 75\n",
      "building tree 50 of 75\n",
      "building tree 51 of 75\n",
      "building tree 52 of 75\n",
      "building tree 53 of 75\n",
      "building tree 54 of 75\n",
      "building tree 55 of 75\n",
      "building tree 56 of 75\n",
      "building tree 57 of 75\n",
      "building tree 58 of 75\n",
      "building tree 59 of 75\n",
      "building tree 60 of 75\n",
      "building tree 61 of 75\n",
      "building tree 62 of 75\n",
      "building tree 63 of 75\n",
      "building tree 64 of 75\n",
      "building tree 65 of 75\n",
      "building tree 66 of 75\n",
      "building tree 67 of 75\n",
      "building tree 68 of 75\n",
      "building tree 69 of 75\n",
      "building tree 70 of 75\n",
      "building tree 71 of 75\n",
      "building tree 72 of 75\n",
      "building tree 73 of 75\n",
      "building tree 74 of 75\n",
      "building tree 75 of 75\n"
     ]
    },
    {
     "name": "stderr",
     "output_type": "stream",
     "text": [
      "[Parallel(n_jobs=1)]: Done  40 tasks      | elapsed:   10.1s\n",
      "[Parallel(n_jobs=1)]: Done  40 tasks      | elapsed:   10.5s\n"
     ]
    },
    {
     "name": "stdout",
     "output_type": "stream",
     "text": [
      "Batch 12, Accuracy: 0.29323742845054007, Log Loss: 3.7471847382907804\n",
      "building tree 1 of 75\n",
      "building tree 2 of 75\n",
      "building tree 3 of 75\n",
      "building tree 4 of 75\n",
      "building tree 5 of 75\n",
      "building tree 6 of 75\n",
      "building tree 7 of 75\n",
      "building tree 8 of 75\n",
      "building tree 9 of 75\n",
      "building tree 10 of 75\n",
      "building tree 11 of 75\n",
      "building tree 12 of 75\n",
      "building tree 13 of 75\n",
      "building tree 14 of 75\n",
      "building tree 15 of 75\n",
      "building tree 16 of 75\n",
      "building tree 17 of 75\n",
      "building tree 18 of 75\n",
      "building tree 19 of 75\n",
      "building tree 20 of 75\n",
      "building tree 21 of 75\n",
      "building tree 22 of 75\n",
      "building tree 23 of 75\n",
      "building tree 24 of 75\n",
      "building tree 25 of 75\n",
      "building tree 26 of 75\n",
      "building tree 27 of 75\n",
      "building tree 28 of 75\n",
      "building tree 29 of 75\n",
      "building tree 30 of 75\n",
      "building tree 31 of 75\n",
      "building tree 32 of 75\n",
      "building tree 33 of 75\n",
      "building tree 34 of 75\n",
      "building tree 35 of 75\n",
      "building tree 36 of 75\n",
      "building tree 37 of 75\n",
      "building tree 38 of 75\n",
      "building tree 39 of 75\n",
      "building tree 40 of 75\n"
     ]
    },
    {
     "name": "stderr",
     "output_type": "stream",
     "text": [
      "[Parallel(n_jobs=1)]: Done  40 tasks      | elapsed:   11.3s\n"
     ]
    },
    {
     "name": "stdout",
     "output_type": "stream",
     "text": [
      "building tree 41 of 75\n",
      "building tree 42 of 75\n",
      "building tree 43 of 75\n",
      "building tree 44 of 75\n",
      "building tree 45 of 75\n",
      "building tree 46 of 75\n",
      "building tree 47 of 75\n",
      "building tree 48 of 75\n",
      "building tree 49 of 75\n",
      "building tree 50 of 75\n",
      "building tree 51 of 75\n",
      "building tree 52 of 75\n",
      "building tree 53 of 75\n",
      "building tree 54 of 75\n",
      "building tree 55 of 75\n",
      "building tree 56 of 75\n",
      "building tree 57 of 75\n",
      "building tree 58 of 75\n",
      "building tree 59 of 75\n",
      "building tree 60 of 75\n",
      "building tree 61 of 75\n",
      "building tree 62 of 75\n",
      "building tree 63 of 75\n",
      "building tree 64 of 75\n",
      "building tree 65 of 75\n",
      "building tree 66 of 75\n",
      "building tree 67 of 75\n",
      "building tree 68 of 75\n",
      "building tree 69 of 75\n",
      "building tree 70 of 75\n",
      "building tree 71 of 75\n",
      "building tree 72 of 75\n",
      "building tree 73 of 75\n",
      "building tree 74 of 75\n",
      "building tree 75 of 75\n"
     ]
    },
    {
     "name": "stderr",
     "output_type": "stream",
     "text": [
      "[Parallel(n_jobs=1)]: Done  40 tasks      | elapsed:   10.5s\n",
      "[Parallel(n_jobs=1)]: Done  40 tasks      | elapsed:   10.7s\n"
     ]
    },
    {
     "name": "stdout",
     "output_type": "stream",
     "text": [
      "Batch 13, Accuracy: 0.29328213438924505, Log Loss: 3.7197453787134775\n",
      "building tree 1 of 75\n",
      "building tree 2 of 75\n",
      "building tree 3 of 75\n",
      "building tree 4 of 75\n",
      "building tree 5 of 75\n",
      "building tree 6 of 75\n",
      "building tree 7 of 75\n",
      "building tree 8 of 75\n",
      "building tree 9 of 75\n",
      "building tree 10 of 75\n",
      "building tree 11 of 75\n",
      "building tree 12 of 75\n",
      "building tree 13 of 75\n",
      "building tree 14 of 75\n",
      "building tree 15 of 75\n",
      "building tree 16 of 75\n",
      "building tree 17 of 75\n",
      "building tree 18 of 75\n",
      "building tree 19 of 75\n",
      "building tree 20 of 75\n",
      "building tree 21 of 75\n",
      "building tree 22 of 75\n",
      "building tree 23 of 75\n",
      "building tree 24 of 75\n",
      "building tree 25 of 75\n",
      "building tree 26 of 75\n",
      "building tree 27 of 75\n",
      "building tree 28 of 75\n",
      "building tree 29 of 75\n",
      "building tree 30 of 75\n",
      "building tree 31 of 75\n",
      "building tree 32 of 75\n",
      "building tree 33 of 75\n",
      "building tree 34 of 75\n",
      "building tree 35 of 75\n",
      "building tree 36 of 75\n",
      "building tree 37 of 75\n",
      "building tree 38 of 75\n",
      "building tree 39 of 75\n",
      "building tree 40 of 75\n"
     ]
    },
    {
     "name": "stderr",
     "output_type": "stream",
     "text": [
      "[Parallel(n_jobs=1)]: Done  40 tasks      | elapsed:   13.9s\n"
     ]
    },
    {
     "name": "stdout",
     "output_type": "stream",
     "text": [
      "building tree 41 of 75\n",
      "building tree 42 of 75\n",
      "building tree 43 of 75\n",
      "building tree 44 of 75\n",
      "building tree 45 of 75\n",
      "building tree 46 of 75\n",
      "building tree 47 of 75\n",
      "building tree 48 of 75\n",
      "building tree 49 of 75\n",
      "building tree 50 of 75\n",
      "building tree 51 of 75\n",
      "building tree 52 of 75\n",
      "building tree 53 of 75\n",
      "building tree 54 of 75\n",
      "building tree 55 of 75\n",
      "building tree 56 of 75\n",
      "building tree 57 of 75\n",
      "building tree 58 of 75\n",
      "building tree 59 of 75\n",
      "building tree 60 of 75\n",
      "building tree 61 of 75\n",
      "building tree 62 of 75\n",
      "building tree 63 of 75\n",
      "building tree 64 of 75\n",
      "building tree 65 of 75\n",
      "building tree 66 of 75\n",
      "building tree 67 of 75\n",
      "building tree 68 of 75\n",
      "building tree 69 of 75\n",
      "building tree 70 of 75\n",
      "building tree 71 of 75\n",
      "building tree 72 of 75\n",
      "building tree 73 of 75\n",
      "building tree 74 of 75\n",
      "building tree 75 of 75\n"
     ]
    },
    {
     "name": "stderr",
     "output_type": "stream",
     "text": [
      "[Parallel(n_jobs=1)]: Done  40 tasks      | elapsed:   12.0s\n",
      "[Parallel(n_jobs=1)]: Done  40 tasks      | elapsed:   11.1s\n"
     ]
    },
    {
     "name": "stdout",
     "output_type": "stream",
     "text": [
      "Batch 14, Accuracy: 0.2940628916759139, Log Loss: 3.7457238969582636\n",
      "building tree 1 of 75\n",
      "building tree 2 of 75\n",
      "building tree 3 of 75\n",
      "building tree 4 of 75\n",
      "building tree 5 of 75\n",
      "building tree 6 of 75\n",
      "building tree 7 of 75\n",
      "building tree 8 of 75\n",
      "building tree 9 of 75\n",
      "building tree 10 of 75\n",
      "building tree 11 of 75\n",
      "building tree 12 of 75\n",
      "building tree 13 of 75\n",
      "building tree 14 of 75\n",
      "building tree 15 of 75\n",
      "building tree 16 of 75\n",
      "building tree 17 of 75\n",
      "building tree 18 of 75\n",
      "building tree 19 of 75\n",
      "building tree 20 of 75\n",
      "building tree 21 of 75\n",
      "building tree 22 of 75\n",
      "building tree 23 of 75\n",
      "building tree 24 of 75\n",
      "building tree 25 of 75\n",
      "building tree 26 of 75\n",
      "building tree 27 of 75\n",
      "building tree 28 of 75\n",
      "building tree 29 of 75\n",
      "building tree 30 of 75\n",
      "building tree 31 of 75\n",
      "building tree 32 of 75\n",
      "building tree 33 of 75\n",
      "building tree 34 of 75\n",
      "building tree 35 of 75\n",
      "building tree 36 of 75\n",
      "building tree 37 of 75\n",
      "building tree 38 of 75\n",
      "building tree 39 of 75\n",
      "building tree 40 of 75\n"
     ]
    },
    {
     "name": "stderr",
     "output_type": "stream",
     "text": [
      "[Parallel(n_jobs=1)]: Done  40 tasks      | elapsed:   11.0s\n"
     ]
    },
    {
     "name": "stdout",
     "output_type": "stream",
     "text": [
      "building tree 41 of 75\n",
      "building tree 42 of 75\n",
      "building tree 43 of 75\n",
      "building tree 44 of 75\n",
      "building tree 45 of 75\n",
      "building tree 46 of 75\n",
      "building tree 47 of 75\n",
      "building tree 48 of 75\n",
      "building tree 49 of 75\n",
      "building tree 50 of 75\n",
      "building tree 51 of 75\n",
      "building tree 52 of 75\n",
      "building tree 53 of 75\n",
      "building tree 54 of 75\n",
      "building tree 55 of 75\n",
      "building tree 56 of 75\n",
      "building tree 57 of 75\n",
      "building tree 58 of 75\n",
      "building tree 59 of 75\n",
      "building tree 60 of 75\n",
      "building tree 61 of 75\n",
      "building tree 62 of 75\n",
      "building tree 63 of 75\n",
      "building tree 64 of 75\n",
      "building tree 65 of 75\n",
      "building tree 66 of 75\n",
      "building tree 67 of 75\n",
      "building tree 68 of 75\n",
      "building tree 69 of 75\n",
      "building tree 70 of 75\n",
      "building tree 71 of 75\n",
      "building tree 72 of 75\n",
      "building tree 73 of 75\n",
      "building tree 74 of 75\n",
      "building tree 75 of 75\n"
     ]
    },
    {
     "name": "stderr",
     "output_type": "stream",
     "text": [
      "[Parallel(n_jobs=1)]: Done  40 tasks      | elapsed:   10.1s\n",
      "[Parallel(n_jobs=1)]: Done  40 tasks      | elapsed:   10.3s\n"
     ]
    },
    {
     "name": "stdout",
     "output_type": "stream",
     "text": [
      "Batch 15, Accuracy: 0.2932390250912081, Log Loss: 3.7534592531671396\n",
      "building tree 1 of 75\n",
      "building tree 2 of 75\n",
      "building tree 3 of 75\n",
      "building tree 4 of 75\n",
      "building tree 5 of 75\n",
      "building tree 6 of 75\n",
      "building tree 7 of 75\n",
      "building tree 8 of 75\n",
      "building tree 9 of 75\n",
      "building tree 10 of 75\n",
      "building tree 11 of 75\n",
      "building tree 12 of 75\n",
      "building tree 13 of 75\n",
      "building tree 14 of 75\n",
      "building tree 15 of 75\n",
      "building tree 16 of 75\n",
      "building tree 17 of 75\n",
      "building tree 18 of 75\n",
      "building tree 19 of 75\n",
      "building tree 20 of 75\n",
      "building tree 21 of 75\n",
      "building tree 22 of 75\n",
      "building tree 23 of 75\n",
      "building tree 24 of 75\n",
      "building tree 25 of 75\n",
      "building tree 26 of 75\n",
      "building tree 27 of 75\n",
      "building tree 28 of 75\n",
      "building tree 29 of 75\n",
      "building tree 30 of 75\n",
      "building tree 31 of 75\n",
      "building tree 32 of 75\n",
      "building tree 33 of 75\n",
      "building tree 34 of 75\n",
      "building tree 35 of 75\n",
      "building tree 36 of 75\n",
      "building tree 37 of 75\n",
      "building tree 38 of 75\n",
      "building tree 39 of 75\n",
      "building tree 40 of 75\n"
     ]
    },
    {
     "name": "stderr",
     "output_type": "stream",
     "text": [
      "[Parallel(n_jobs=1)]: Done  40 tasks      | elapsed:   11.1s\n"
     ]
    },
    {
     "name": "stdout",
     "output_type": "stream",
     "text": [
      "building tree 41 of 75\n",
      "building tree 42 of 75\n",
      "building tree 43 of 75\n",
      "building tree 44 of 75\n",
      "building tree 45 of 75\n",
      "building tree 46 of 75\n",
      "building tree 47 of 75\n",
      "building tree 48 of 75\n",
      "building tree 49 of 75\n",
      "building tree 50 of 75\n",
      "building tree 51 of 75\n",
      "building tree 52 of 75\n",
      "building tree 53 of 75\n",
      "building tree 54 of 75\n",
      "building tree 55 of 75\n",
      "building tree 56 of 75\n",
      "building tree 57 of 75\n",
      "building tree 58 of 75\n",
      "building tree 59 of 75\n",
      "building tree 60 of 75\n",
      "building tree 61 of 75\n",
      "building tree 62 of 75\n",
      "building tree 63 of 75\n",
      "building tree 64 of 75\n",
      "building tree 65 of 75\n",
      "building tree 66 of 75\n",
      "building tree 67 of 75\n",
      "building tree 68 of 75\n",
      "building tree 69 of 75\n",
      "building tree 70 of 75\n",
      "building tree 71 of 75\n",
      "building tree 72 of 75\n",
      "building tree 73 of 75\n",
      "building tree 74 of 75\n",
      "building tree 75 of 75\n"
     ]
    },
    {
     "name": "stderr",
     "output_type": "stream",
     "text": [
      "[Parallel(n_jobs=1)]: Done  40 tasks      | elapsed:   10.1s\n",
      "[Parallel(n_jobs=1)]: Done  40 tasks      | elapsed:   10.1s\n"
     ]
    },
    {
     "name": "stdout",
     "output_type": "stream",
     "text": [
      "Batch 16, Accuracy: 0.2947127244278039, Log Loss: 3.7254280603425975\n",
      "building tree 1 of 75\n",
      "building tree 2 of 75\n",
      "building tree 3 of 75\n",
      "building tree 4 of 75\n",
      "building tree 5 of 75\n",
      "building tree 6 of 75\n",
      "building tree 7 of 75\n",
      "building tree 8 of 75\n",
      "building tree 9 of 75\n",
      "building tree 10 of 75\n",
      "building tree 11 of 75\n",
      "building tree 12 of 75\n",
      "building tree 13 of 75\n",
      "building tree 14 of 75\n",
      "building tree 15 of 75\n",
      "building tree 16 of 75\n",
      "building tree 17 of 75\n",
      "building tree 18 of 75\n",
      "building tree 19 of 75\n",
      "building tree 20 of 75\n",
      "building tree 21 of 75\n",
      "building tree 22 of 75\n",
      "building tree 23 of 75\n",
      "building tree 24 of 75\n",
      "building tree 25 of 75\n",
      "building tree 26 of 75\n",
      "building tree 27 of 75\n",
      "building tree 28 of 75\n",
      "building tree 29 of 75\n",
      "building tree 30 of 75\n",
      "building tree 31 of 75\n",
      "building tree 32 of 75\n",
      "building tree 33 of 75\n",
      "building tree 34 of 75\n",
      "building tree 35 of 75\n",
      "building tree 36 of 75\n",
      "building tree 37 of 75\n",
      "building tree 38 of 75\n",
      "building tree 39 of 75\n",
      "building tree 40 of 75\n"
     ]
    },
    {
     "name": "stderr",
     "output_type": "stream",
     "text": [
      "[Parallel(n_jobs=1)]: Done  40 tasks      | elapsed:   11.2s\n"
     ]
    },
    {
     "name": "stdout",
     "output_type": "stream",
     "text": [
      "building tree 41 of 75\n",
      "building tree 42 of 75\n",
      "building tree 43 of 75\n",
      "building tree 44 of 75\n",
      "building tree 45 of 75\n",
      "building tree 46 of 75\n",
      "building tree 47 of 75\n",
      "building tree 48 of 75\n",
      "building tree 49 of 75\n",
      "building tree 50 of 75\n",
      "building tree 51 of 75\n",
      "building tree 52 of 75\n",
      "building tree 53 of 75\n",
      "building tree 54 of 75\n",
      "building tree 55 of 75\n",
      "building tree 56 of 75\n",
      "building tree 57 of 75\n",
      "building tree 58 of 75\n",
      "building tree 59 of 75\n",
      "building tree 60 of 75\n",
      "building tree 61 of 75\n",
      "building tree 62 of 75\n",
      "building tree 63 of 75\n",
      "building tree 64 of 75\n",
      "building tree 65 of 75\n",
      "building tree 66 of 75\n",
      "building tree 67 of 75\n",
      "building tree 68 of 75\n",
      "building tree 69 of 75\n",
      "building tree 70 of 75\n",
      "building tree 71 of 75\n",
      "building tree 72 of 75\n",
      "building tree 73 of 75\n",
      "building tree 74 of 75\n",
      "building tree 75 of 75\n"
     ]
    },
    {
     "name": "stderr",
     "output_type": "stream",
     "text": [
      "[Parallel(n_jobs=1)]: Done  40 tasks      | elapsed:   10.1s\n",
      "[Parallel(n_jobs=1)]: Done  40 tasks      | elapsed:   10.1s\n"
     ]
    },
    {
     "name": "stdout",
     "output_type": "stream",
     "text": [
      "Batch 17, Accuracy: 0.293927177219131, Log Loss: 3.736511353485436\n",
      "building tree 1 of 75\n",
      "building tree 2 of 75\n",
      "building tree 3 of 75\n",
      "building tree 4 of 75\n",
      "building tree 5 of 75\n",
      "building tree 6 of 75\n",
      "building tree 7 of 75\n",
      "building tree 8 of 75\n",
      "building tree 9 of 75\n",
      "building tree 10 of 75\n",
      "building tree 11 of 75\n",
      "building tree 12 of 75\n",
      "building tree 13 of 75\n",
      "building tree 14 of 75\n",
      "building tree 15 of 75\n",
      "building tree 16 of 75\n",
      "building tree 17 of 75\n",
      "building tree 18 of 75\n",
      "building tree 19 of 75\n",
      "building tree 20 of 75\n",
      "building tree 21 of 75\n",
      "building tree 22 of 75\n",
      "building tree 23 of 75\n",
      "building tree 24 of 75\n",
      "building tree 25 of 75\n",
      "building tree 26 of 75\n",
      "building tree 27 of 75\n",
      "building tree 28 of 75\n",
      "building tree 29 of 75\n",
      "building tree 30 of 75\n",
      "building tree 31 of 75\n",
      "building tree 32 of 75\n",
      "building tree 33 of 75\n",
      "building tree 34 of 75\n",
      "building tree 35 of 75\n",
      "building tree 36 of 75\n",
      "building tree 37 of 75\n",
      "building tree 38 of 75\n",
      "building tree 39 of 75\n",
      "building tree 40 of 75\n"
     ]
    },
    {
     "name": "stderr",
     "output_type": "stream",
     "text": [
      "[Parallel(n_jobs=1)]: Done  40 tasks      | elapsed:   11.1s\n"
     ]
    },
    {
     "name": "stdout",
     "output_type": "stream",
     "text": [
      "building tree 41 of 75\n",
      "building tree 42 of 75\n",
      "building tree 43 of 75\n",
      "building tree 44 of 75\n",
      "building tree 45 of 75\n",
      "building tree 46 of 75\n",
      "building tree 47 of 75\n",
      "building tree 48 of 75\n",
      "building tree 49 of 75\n",
      "building tree 50 of 75\n",
      "building tree 51 of 75\n",
      "building tree 52 of 75\n",
      "building tree 53 of 75\n",
      "building tree 54 of 75\n",
      "building tree 55 of 75\n",
      "building tree 56 of 75\n",
      "building tree 57 of 75\n",
      "building tree 58 of 75\n",
      "building tree 59 of 75\n",
      "building tree 60 of 75\n",
      "building tree 61 of 75\n",
      "building tree 62 of 75\n",
      "building tree 63 of 75\n",
      "building tree 64 of 75\n",
      "building tree 65 of 75\n",
      "building tree 66 of 75\n",
      "building tree 67 of 75\n",
      "building tree 68 of 75\n",
      "building tree 69 of 75\n",
      "building tree 70 of 75\n",
      "building tree 71 of 75\n",
      "building tree 72 of 75\n",
      "building tree 73 of 75\n",
      "building tree 74 of 75\n",
      "building tree 75 of 75\n"
     ]
    },
    {
     "name": "stderr",
     "output_type": "stream",
     "text": [
      "[Parallel(n_jobs=1)]: Done  40 tasks      | elapsed:   10.5s\n",
      "[Parallel(n_jobs=1)]: Done  40 tasks      | elapsed:   10.3s\n"
     ]
    },
    {
     "name": "stdout",
     "output_type": "stream",
     "text": [
      "Batch 18, Accuracy: 0.29493625412132873, Log Loss: 3.736140321724271\n",
      "building tree 1 of 75\n",
      "building tree 2 of 75\n",
      "building tree 3 of 75\n",
      "building tree 4 of 75\n",
      "building tree 5 of 75\n",
      "building tree 6 of 75\n",
      "building tree 7 of 75\n",
      "building tree 8 of 75\n",
      "building tree 9 of 75\n",
      "building tree 10 of 75\n",
      "building tree 11 of 75\n",
      "building tree 12 of 75\n",
      "building tree 13 of 75\n",
      "building tree 14 of 75\n",
      "building tree 15 of 75\n",
      "building tree 16 of 75\n",
      "building tree 17 of 75\n",
      "building tree 18 of 75\n",
      "building tree 19 of 75\n",
      "building tree 20 of 75\n",
      "building tree 21 of 75\n",
      "building tree 22 of 75\n",
      "building tree 23 of 75\n",
      "building tree 24 of 75\n",
      "building tree 25 of 75\n",
      "building tree 26 of 75\n",
      "building tree 27 of 75\n",
      "building tree 28 of 75\n",
      "building tree 29 of 75\n",
      "building tree 30 of 75\n",
      "building tree 31 of 75\n",
      "building tree 32 of 75\n",
      "building tree 33 of 75\n",
      "building tree 34 of 75\n",
      "building tree 35 of 75\n",
      "building tree 36 of 75\n",
      "building tree 37 of 75\n",
      "building tree 38 of 75\n",
      "building tree 39 of 75\n",
      "building tree 40 of 75\n"
     ]
    },
    {
     "name": "stderr",
     "output_type": "stream",
     "text": [
      "[Parallel(n_jobs=1)]: Done  40 tasks      | elapsed:   11.0s\n"
     ]
    },
    {
     "name": "stdout",
     "output_type": "stream",
     "text": [
      "building tree 41 of 75\n",
      "building tree 42 of 75\n",
      "building tree 43 of 75\n",
      "building tree 44 of 75\n",
      "building tree 45 of 75\n",
      "building tree 46 of 75\n",
      "building tree 47 of 75\n",
      "building tree 48 of 75\n",
      "building tree 49 of 75\n",
      "building tree 50 of 75\n",
      "building tree 51 of 75\n",
      "building tree 52 of 75\n",
      "building tree 53 of 75\n",
      "building tree 54 of 75\n",
      "building tree 55 of 75\n",
      "building tree 56 of 75\n",
      "building tree 57 of 75\n",
      "building tree 58 of 75\n",
      "building tree 59 of 75\n",
      "building tree 60 of 75\n",
      "building tree 61 of 75\n",
      "building tree 62 of 75\n",
      "building tree 63 of 75\n",
      "building tree 64 of 75\n",
      "building tree 65 of 75\n",
      "building tree 66 of 75\n",
      "building tree 67 of 75\n",
      "building tree 68 of 75\n",
      "building tree 69 of 75\n",
      "building tree 70 of 75\n",
      "building tree 71 of 75\n",
      "building tree 72 of 75\n",
      "building tree 73 of 75\n",
      "building tree 74 of 75\n",
      "building tree 75 of 75\n"
     ]
    },
    {
     "name": "stderr",
     "output_type": "stream",
     "text": [
      "[Parallel(n_jobs=1)]: Done  40 tasks      | elapsed:   10.1s\n",
      "[Parallel(n_jobs=1)]: Done  40 tasks      | elapsed:   10.1s\n"
     ]
    },
    {
     "name": "stdout",
     "output_type": "stream",
     "text": [
      "Batch 19, Accuracy: 0.2932965041552573, Log Loss: 3.745277939295202\n",
      "building tree 1 of 75\n",
      "building tree 2 of 75\n",
      "building tree 3 of 75\n",
      "building tree 4 of 75\n",
      "building tree 5 of 75\n",
      "building tree 6 of 75\n",
      "building tree 7 of 75\n",
      "building tree 8 of 75\n",
      "building tree 9 of 75\n",
      "building tree 10 of 75\n",
      "building tree 11 of 75\n",
      "building tree 12 of 75\n",
      "building tree 13 of 75\n",
      "building tree 14 of 75\n",
      "building tree 15 of 75\n",
      "building tree 16 of 75\n",
      "building tree 17 of 75\n",
      "building tree 18 of 75\n",
      "building tree 19 of 75\n",
      "building tree 20 of 75\n",
      "building tree 21 of 75\n",
      "building tree 22 of 75\n",
      "building tree 23 of 75\n",
      "building tree 24 of 75\n",
      "building tree 25 of 75\n",
      "building tree 26 of 75\n",
      "building tree 27 of 75\n",
      "building tree 28 of 75\n",
      "building tree 29 of 75\n",
      "building tree 30 of 75\n",
      "building tree 31 of 75\n",
      "building tree 32 of 75\n",
      "building tree 33 of 75\n",
      "building tree 34 of 75\n",
      "building tree 35 of 75\n",
      "building tree 36 of 75\n",
      "building tree 37 of 75\n",
      "building tree 38 of 75\n",
      "building tree 39 of 75\n",
      "building tree 40 of 75\n"
     ]
    },
    {
     "name": "stderr",
     "output_type": "stream",
     "text": [
      "[Parallel(n_jobs=1)]: Done  40 tasks      | elapsed:   11.1s\n"
     ]
    },
    {
     "name": "stdout",
     "output_type": "stream",
     "text": [
      "building tree 41 of 75\n",
      "building tree 42 of 75\n",
      "building tree 43 of 75\n",
      "building tree 44 of 75\n",
      "building tree 45 of 75\n",
      "building tree 46 of 75\n",
      "building tree 47 of 75\n",
      "building tree 48 of 75\n",
      "building tree 49 of 75\n",
      "building tree 50 of 75\n",
      "building tree 51 of 75\n",
      "building tree 52 of 75\n",
      "building tree 53 of 75\n",
      "building tree 54 of 75\n",
      "building tree 55 of 75\n",
      "building tree 56 of 75\n",
      "building tree 57 of 75\n",
      "building tree 58 of 75\n",
      "building tree 59 of 75\n",
      "building tree 60 of 75\n",
      "building tree 61 of 75\n",
      "building tree 62 of 75\n",
      "building tree 63 of 75\n",
      "building tree 64 of 75\n",
      "building tree 65 of 75\n",
      "building tree 66 of 75\n",
      "building tree 67 of 75\n",
      "building tree 68 of 75\n",
      "building tree 69 of 75\n",
      "building tree 70 of 75\n",
      "building tree 71 of 75\n",
      "building tree 72 of 75\n",
      "building tree 73 of 75\n",
      "building tree 74 of 75\n",
      "building tree 75 of 75\n"
     ]
    },
    {
     "name": "stderr",
     "output_type": "stream",
     "text": [
      "[Parallel(n_jobs=1)]: Done  40 tasks      | elapsed:   11.6s\n",
      "[Parallel(n_jobs=1)]: Done  40 tasks      | elapsed:   11.8s\n"
     ]
    },
    {
     "name": "stdout",
     "output_type": "stream",
     "text": [
      "Batch 20, Accuracy: 0.2937818829183398, Log Loss: 3.747506444181314\n",
      "building tree 1 of 75\n",
      "building tree 2 of 75\n",
      "building tree 3 of 75\n",
      "building tree 4 of 75\n",
      "building tree 5 of 75\n",
      "building tree 6 of 75\n",
      "building tree 7 of 75\n",
      "building tree 8 of 75\n",
      "building tree 9 of 75\n",
      "building tree 10 of 75\n",
      "building tree 11 of 75\n",
      "building tree 12 of 75\n",
      "building tree 13 of 75\n",
      "building tree 14 of 75\n",
      "building tree 15 of 75\n",
      "building tree 16 of 75\n",
      "building tree 17 of 75\n",
      "building tree 18 of 75\n",
      "building tree 19 of 75\n",
      "building tree 20 of 75\n",
      "building tree 21 of 75\n",
      "building tree 22 of 75\n",
      "building tree 23 of 75\n",
      "building tree 24 of 75\n",
      "building tree 25 of 75\n",
      "building tree 26 of 75\n",
      "building tree 27 of 75\n",
      "building tree 28 of 75\n",
      "building tree 29 of 75\n",
      "building tree 30 of 75\n",
      "building tree 31 of 75\n",
      "building tree 32 of 75\n",
      "building tree 33 of 75\n",
      "building tree 34 of 75\n",
      "building tree 35 of 75\n",
      "building tree 36 of 75\n",
      "building tree 37 of 75\n",
      "building tree 38 of 75\n",
      "building tree 39 of 75\n",
      "building tree 40 of 75\n"
     ]
    },
    {
     "name": "stderr",
     "output_type": "stream",
     "text": [
      "[Parallel(n_jobs=1)]: Done  40 tasks      | elapsed:   11.3s\n"
     ]
    },
    {
     "name": "stdout",
     "output_type": "stream",
     "text": [
      "building tree 41 of 75\n",
      "building tree 42 of 75\n",
      "building tree 43 of 75\n",
      "building tree 44 of 75\n",
      "building tree 45 of 75\n",
      "building tree 46 of 75\n",
      "building tree 47 of 75\n",
      "building tree 48 of 75\n",
      "building tree 49 of 75\n",
      "building tree 50 of 75\n",
      "building tree 51 of 75\n",
      "building tree 52 of 75\n",
      "building tree 53 of 75\n",
      "building tree 54 of 75\n",
      "building tree 55 of 75\n",
      "building tree 56 of 75\n",
      "building tree 57 of 75\n",
      "building tree 58 of 75\n",
      "building tree 59 of 75\n",
      "building tree 60 of 75\n",
      "building tree 61 of 75\n",
      "building tree 62 of 75\n",
      "building tree 63 of 75\n",
      "building tree 64 of 75\n",
      "building tree 65 of 75\n",
      "building tree 66 of 75\n",
      "building tree 67 of 75\n",
      "building tree 68 of 75\n",
      "building tree 69 of 75\n",
      "building tree 70 of 75\n",
      "building tree 71 of 75\n",
      "building tree 72 of 75\n",
      "building tree 73 of 75\n",
      "building tree 74 of 75\n",
      "building tree 75 of 75\n"
     ]
    },
    {
     "name": "stderr",
     "output_type": "stream",
     "text": [
      "[Parallel(n_jobs=1)]: Done  40 tasks      | elapsed:   10.1s\n",
      "[Parallel(n_jobs=1)]: Done  40 tasks      | elapsed:   10.1s\n"
     ]
    },
    {
     "name": "stdout",
     "output_type": "stream",
     "text": [
      "Batch 21, Accuracy: 0.29463129575373415, Log Loss: 3.7632321266663533\n",
      "building tree 1 of 75\n",
      "building tree 2 of 75\n",
      "building tree 3 of 75\n",
      "building tree 4 of 75\n",
      "building tree 5 of 75\n",
      "building tree 6 of 75\n",
      "building tree 7 of 75\n",
      "building tree 8 of 75\n",
      "building tree 9 of 75\n",
      "building tree 10 of 75\n",
      "building tree 11 of 75\n",
      "building tree 12 of 75\n",
      "building tree 13 of 75\n",
      "building tree 14 of 75\n",
      "building tree 15 of 75\n",
      "building tree 16 of 75\n",
      "building tree 17 of 75\n",
      "building tree 18 of 75\n",
      "building tree 19 of 75\n",
      "building tree 20 of 75\n",
      "building tree 21 of 75\n",
      "building tree 22 of 75\n",
      "building tree 23 of 75\n",
      "building tree 24 of 75\n",
      "building tree 25 of 75\n",
      "building tree 26 of 75\n",
      "building tree 27 of 75\n",
      "building tree 28 of 75\n",
      "building tree 29 of 75\n",
      "building tree 30 of 75\n",
      "building tree 31 of 75\n",
      "building tree 32 of 75\n",
      "building tree 33 of 75\n",
      "building tree 34 of 75\n",
      "building tree 35 of 75\n",
      "building tree 36 of 75\n",
      "building tree 37 of 75\n",
      "building tree 38 of 75\n",
      "building tree 39 of 75\n",
      "building tree 40 of 75\n"
     ]
    },
    {
     "name": "stderr",
     "output_type": "stream",
     "text": [
      "[Parallel(n_jobs=1)]: Done  40 tasks      | elapsed:   11.1s\n"
     ]
    },
    {
     "name": "stdout",
     "output_type": "stream",
     "text": [
      "building tree 41 of 75\n",
      "building tree 42 of 75\n",
      "building tree 43 of 75\n",
      "building tree 44 of 75\n",
      "building tree 45 of 75\n",
      "building tree 46 of 75\n",
      "building tree 47 of 75\n",
      "building tree 48 of 75\n",
      "building tree 49 of 75\n",
      "building tree 50 of 75\n",
      "building tree 51 of 75\n",
      "building tree 52 of 75\n",
      "building tree 53 of 75\n",
      "building tree 54 of 75\n",
      "building tree 55 of 75\n",
      "building tree 56 of 75\n",
      "building tree 57 of 75\n",
      "building tree 58 of 75\n",
      "building tree 59 of 75\n",
      "building tree 60 of 75\n",
      "building tree 61 of 75\n",
      "building tree 62 of 75\n",
      "building tree 63 of 75\n",
      "building tree 64 of 75\n",
      "building tree 65 of 75\n",
      "building tree 66 of 75\n",
      "building tree 67 of 75\n",
      "building tree 68 of 75\n",
      "building tree 69 of 75\n",
      "building tree 70 of 75\n",
      "building tree 71 of 75\n",
      "building tree 72 of 75\n",
      "building tree 73 of 75\n",
      "building tree 74 of 75\n",
      "building tree 75 of 75\n"
     ]
    },
    {
     "name": "stderr",
     "output_type": "stream",
     "text": [
      "[Parallel(n_jobs=1)]: Done  40 tasks      | elapsed:   10.2s\n",
      "[Parallel(n_jobs=1)]: Done  40 tasks      | elapsed:   10.1s\n"
     ]
    },
    {
     "name": "stdout",
     "output_type": "stream",
     "text": [
      "Batch 22, Accuracy: 0.29376591651165945, Log Loss: 3.7663768039036585\n",
      "building tree 1 of 75\n",
      "building tree 2 of 75\n",
      "building tree 3 of 75\n",
      "building tree 4 of 75\n",
      "building tree 5 of 75\n",
      "building tree 6 of 75\n",
      "building tree 7 of 75\n",
      "building tree 8 of 75\n",
      "building tree 9 of 75\n",
      "building tree 10 of 75\n",
      "building tree 11 of 75\n",
      "building tree 12 of 75\n",
      "building tree 13 of 75\n",
      "building tree 14 of 75\n",
      "building tree 15 of 75\n",
      "building tree 16 of 75\n",
      "building tree 17 of 75\n",
      "building tree 18 of 75\n",
      "building tree 19 of 75\n",
      "building tree 20 of 75\n",
      "building tree 21 of 75\n",
      "building tree 22 of 75\n",
      "building tree 23 of 75\n",
      "building tree 24 of 75\n",
      "building tree 25 of 75\n",
      "building tree 26 of 75\n",
      "building tree 27 of 75\n",
      "building tree 28 of 75\n",
      "building tree 29 of 75\n",
      "building tree 30 of 75\n",
      "building tree 31 of 75\n",
      "building tree 32 of 75\n",
      "building tree 33 of 75\n",
      "building tree 34 of 75\n",
      "building tree 35 of 75\n",
      "building tree 36 of 75\n",
      "building tree 37 of 75\n",
      "building tree 38 of 75\n",
      "building tree 39 of 75\n",
      "building tree 40 of 75\n"
     ]
    },
    {
     "name": "stderr",
     "output_type": "stream",
     "text": [
      "[Parallel(n_jobs=1)]: Done  40 tasks      | elapsed:   11.1s\n"
     ]
    },
    {
     "name": "stdout",
     "output_type": "stream",
     "text": [
      "building tree 41 of 75\n",
      "building tree 42 of 75\n",
      "building tree 43 of 75\n",
      "building tree 44 of 75\n",
      "building tree 45 of 75\n",
      "building tree 46 of 75\n",
      "building tree 47 of 75\n",
      "building tree 48 of 75\n",
      "building tree 49 of 75\n",
      "building tree 50 of 75\n",
      "building tree 51 of 75\n",
      "building tree 52 of 75\n",
      "building tree 53 of 75\n",
      "building tree 54 of 75\n",
      "building tree 55 of 75\n",
      "building tree 56 of 75\n",
      "building tree 57 of 75\n",
      "building tree 58 of 75\n",
      "building tree 59 of 75\n",
      "building tree 60 of 75\n",
      "building tree 61 of 75\n",
      "building tree 62 of 75\n",
      "building tree 63 of 75\n",
      "building tree 64 of 75\n",
      "building tree 65 of 75\n",
      "building tree 66 of 75\n",
      "building tree 67 of 75\n",
      "building tree 68 of 75\n",
      "building tree 69 of 75\n",
      "building tree 70 of 75\n",
      "building tree 71 of 75\n",
      "building tree 72 of 75\n",
      "building tree 73 of 75\n",
      "building tree 74 of 75\n",
      "building tree 75 of 75\n"
     ]
    },
    {
     "name": "stderr",
     "output_type": "stream",
     "text": [
      "[Parallel(n_jobs=1)]: Done  40 tasks      | elapsed:   10.2s\n",
      "[Parallel(n_jobs=1)]: Done  40 tasks      | elapsed:   10.6s\n"
     ]
    },
    {
     "name": "stdout",
     "output_type": "stream",
     "text": [
      "Batch 23, Accuracy: 0.29443650559223394, Log Loss: 3.736674160697088\n",
      "building tree 1 of 75\n",
      "building tree 2 of 75\n",
      "building tree 3 of 75\n",
      "building tree 4 of 75\n",
      "building tree 5 of 75\n",
      "building tree 6 of 75\n",
      "building tree 7 of 75\n",
      "building tree 8 of 75\n",
      "building tree 9 of 75\n",
      "building tree 10 of 75\n",
      "building tree 11 of 75\n",
      "building tree 12 of 75\n",
      "building tree 13 of 75\n",
      "building tree 14 of 75\n",
      "building tree 15 of 75\n",
      "building tree 16 of 75\n",
      "building tree 17 of 75\n",
      "building tree 18 of 75\n",
      "building tree 19 of 75\n",
      "building tree 20 of 75\n",
      "building tree 21 of 75\n",
      "building tree 22 of 75\n",
      "building tree 23 of 75\n",
      "building tree 24 of 75\n",
      "building tree 25 of 75\n",
      "building tree 26 of 75\n",
      "building tree 27 of 75\n",
      "building tree 28 of 75\n",
      "building tree 29 of 75\n",
      "building tree 30 of 75\n",
      "building tree 31 of 75\n",
      "building tree 32 of 75\n",
      "building tree 33 of 75\n",
      "building tree 34 of 75\n",
      "building tree 35 of 75\n",
      "building tree 36 of 75\n",
      "building tree 37 of 75\n",
      "building tree 38 of 75\n",
      "building tree 39 of 75\n",
      "building tree 40 of 75\n"
     ]
    },
    {
     "name": "stderr",
     "output_type": "stream",
     "text": [
      "[Parallel(n_jobs=1)]: Done  40 tasks      | elapsed:   11.3s\n"
     ]
    },
    {
     "name": "stdout",
     "output_type": "stream",
     "text": [
      "building tree 41 of 75\n",
      "building tree 42 of 75\n",
      "building tree 43 of 75\n",
      "building tree 44 of 75\n",
      "building tree 45 of 75\n",
      "building tree 46 of 75\n",
      "building tree 47 of 75\n",
      "building tree 48 of 75\n",
      "building tree 49 of 75\n",
      "building tree 50 of 75\n",
      "building tree 51 of 75\n",
      "building tree 52 of 75\n",
      "building tree 53 of 75\n",
      "building tree 54 of 75\n",
      "building tree 55 of 75\n",
      "building tree 56 of 75\n",
      "building tree 57 of 75\n",
      "building tree 58 of 75\n",
      "building tree 59 of 75\n",
      "building tree 60 of 75\n",
      "building tree 61 of 75\n",
      "building tree 62 of 75\n",
      "building tree 63 of 75\n",
      "building tree 64 of 75\n",
      "building tree 65 of 75\n",
      "building tree 66 of 75\n",
      "building tree 67 of 75\n",
      "building tree 68 of 75\n",
      "building tree 69 of 75\n",
      "building tree 70 of 75\n",
      "building tree 71 of 75\n",
      "building tree 72 of 75\n",
      "building tree 73 of 75\n",
      "building tree 74 of 75\n",
      "building tree 75 of 75\n"
     ]
    },
    {
     "name": "stderr",
     "output_type": "stream",
     "text": [
      "[Parallel(n_jobs=1)]: Done  40 tasks      | elapsed:   10.5s\n",
      "[Parallel(n_jobs=1)]: Done  40 tasks      | elapsed:   10.4s\n"
     ]
    },
    {
     "name": "stdout",
     "output_type": "stream",
     "text": [
      "Batch 24, Accuracy: 0.2937818829183398, Log Loss: 3.738435700437937\n",
      "building tree 1 of 75\n",
      "building tree 2 of 75\n",
      "building tree 3 of 75\n",
      "building tree 4 of 75\n",
      "building tree 5 of 75\n",
      "building tree 6 of 75\n",
      "building tree 7 of 75\n",
      "building tree 8 of 75\n",
      "building tree 9 of 75\n",
      "building tree 10 of 75\n",
      "building tree 11 of 75\n",
      "building tree 12 of 75\n",
      "building tree 13 of 75\n",
      "building tree 14 of 75\n",
      "building tree 15 of 75\n",
      "building tree 16 of 75\n",
      "building tree 17 of 75\n",
      "building tree 18 of 75\n",
      "building tree 19 of 75\n",
      "building tree 20 of 75\n",
      "building tree 21 of 75\n",
      "building tree 22 of 75\n",
      "building tree 23 of 75\n",
      "building tree 24 of 75\n",
      "building tree 25 of 75\n",
      "building tree 26 of 75\n",
      "building tree 27 of 75\n",
      "building tree 28 of 75\n",
      "building tree 29 of 75\n",
      "building tree 30 of 75\n",
      "building tree 31 of 75\n",
      "building tree 32 of 75\n",
      "building tree 33 of 75\n",
      "building tree 34 of 75\n",
      "building tree 35 of 75\n",
      "building tree 36 of 75\n",
      "building tree 37 of 75\n",
      "building tree 38 of 75\n",
      "building tree 39 of 75\n",
      "building tree 40 of 75\n"
     ]
    },
    {
     "name": "stderr",
     "output_type": "stream",
     "text": [
      "[Parallel(n_jobs=1)]: Done  40 tasks      | elapsed:   11.6s\n"
     ]
    },
    {
     "name": "stdout",
     "output_type": "stream",
     "text": [
      "building tree 41 of 75\n",
      "building tree 42 of 75\n",
      "building tree 43 of 75\n",
      "building tree 44 of 75\n",
      "building tree 45 of 75\n",
      "building tree 46 of 75\n",
      "building tree 47 of 75\n",
      "building tree 48 of 75\n",
      "building tree 49 of 75\n",
      "building tree 50 of 75\n",
      "building tree 51 of 75\n",
      "building tree 52 of 75\n",
      "building tree 53 of 75\n",
      "building tree 54 of 75\n",
      "building tree 55 of 75\n",
      "building tree 56 of 75\n",
      "building tree 57 of 75\n",
      "building tree 58 of 75\n",
      "building tree 59 of 75\n",
      "building tree 60 of 75\n",
      "building tree 61 of 75\n",
      "building tree 62 of 75\n",
      "building tree 63 of 75\n",
      "building tree 64 of 75\n",
      "building tree 65 of 75\n",
      "building tree 66 of 75\n",
      "building tree 67 of 75\n",
      "building tree 68 of 75\n",
      "building tree 69 of 75\n",
      "building tree 70 of 75\n",
      "building tree 71 of 75\n",
      "building tree 72 of 75\n",
      "building tree 73 of 75\n",
      "building tree 74 of 75\n",
      "building tree 75 of 75\n"
     ]
    },
    {
     "name": "stderr",
     "output_type": "stream",
     "text": [
      "[Parallel(n_jobs=1)]: Done  40 tasks      | elapsed:   10.4s\n",
      "[Parallel(n_jobs=1)]: Done  40 tasks      | elapsed:   10.5s\n"
     ]
    },
    {
     "name": "stdout",
     "output_type": "stream",
     "text": [
      "Batch 25, Accuracy: 0.29432633738613956, Log Loss: 3.738633781319853\n",
      "building tree 1 of 75\n",
      "building tree 2 of 75\n",
      "building tree 3 of 75\n",
      "building tree 4 of 75\n",
      "building tree 5 of 75\n",
      "building tree 6 of 75\n",
      "building tree 7 of 75\n",
      "building tree 8 of 75\n",
      "building tree 9 of 75\n",
      "building tree 10 of 75\n",
      "building tree 11 of 75\n",
      "building tree 12 of 75\n",
      "building tree 13 of 75\n",
      "building tree 14 of 75\n",
      "building tree 15 of 75\n",
      "building tree 16 of 75\n",
      "building tree 17 of 75\n",
      "building tree 18 of 75\n",
      "building tree 19 of 75\n",
      "building tree 20 of 75\n",
      "building tree 21 of 75\n",
      "building tree 22 of 75\n",
      "building tree 23 of 75\n",
      "building tree 24 of 75\n",
      "building tree 25 of 75\n",
      "building tree 26 of 75\n",
      "building tree 27 of 75\n",
      "building tree 28 of 75\n",
      "building tree 29 of 75\n",
      "building tree 30 of 75\n",
      "building tree 31 of 75\n",
      "building tree 32 of 75\n",
      "building tree 33 of 75\n",
      "building tree 34 of 75\n",
      "building tree 35 of 75\n",
      "building tree 36 of 75\n",
      "building tree 37 of 75\n",
      "building tree 38 of 75\n",
      "building tree 39 of 75\n",
      "building tree 40 of 75\n",
      "building tree 41 of 75\n",
      "building tree 42 of 75\n",
      "building tree 43 of 75\n",
      "building tree 44 of 75\n",
      "building tree 45 of 75\n",
      "building tree 46 of 75\n",
      "building tree 47 of 75\n",
      "building tree 48 of 75\n",
      "building tree 49 of 75\n",
      "building tree 50 of 75\n",
      "building tree 51 of 75\n",
      "building tree 52 of 75\n",
      "building tree 53 of 75\n"
     ]
    },
    {
     "name": "stderr",
     "output_type": "stream",
     "text": [
      "[Parallel(n_jobs=1)]: Done  40 tasks      | elapsed:    0.4s\n"
     ]
    },
    {
     "name": "stdout",
     "output_type": "stream",
     "text": [
      "building tree 54 of 75\n",
      "building tree 55 of 75\n",
      "building tree 56 of 75\n",
      "building tree 57 of 75\n",
      "building tree 58 of 75\n",
      "building tree 59 of 75\n",
      "building tree 60 of 75\n",
      "building tree 61 of 75\n",
      "building tree 62 of 75\n",
      "building tree 63 of 75\n",
      "building tree 64 of 75\n",
      "building tree 65 of 75\n",
      "building tree 66 of 75\n",
      "building tree 67 of 75\n",
      "building tree 68 of 75\n",
      "building tree 69 of 75\n",
      "building tree 70 of 75\n",
      "building tree 71 of 75\n",
      "building tree 72 of 75\n",
      "building tree 73 of 75\n",
      "building tree 74 of 75\n",
      "building tree 75 of 75\n"
     ]
    },
    {
     "name": "stderr",
     "output_type": "stream",
     "text": [
      "[Parallel(n_jobs=1)]: Done  40 tasks      | elapsed:    7.1s\n",
      "[Parallel(n_jobs=1)]: Done  40 tasks      | elapsed:    7.1s\n"
     ]
    },
    {
     "name": "stdout",
     "output_type": "stream",
     "text": [
      "Batch 26, Accuracy: 0.2575572994419741, Log Loss: 4.109880246252139\n",
      "Training DecisionTreeClassifier\n",
      "Batch 1, Accuracy: 0.19750924055786626, Log Loss: 27.71672909033363\n",
      "Batch 2, Accuracy: 0.19792596377222324, Log Loss: 27.70266685650449\n",
      "Batch 3, Accuracy: 0.19881050270231432, Log Loss: 27.67196380662414\n",
      "Batch 4, Accuracy: 0.19819579604512105, Log Loss: 27.692864146315312\n",
      "Batch 5, Accuracy: 0.19900529286381455, Log Loss: 27.66505616755642\n",
      "Batch 6, Accuracy: 0.19715159304822652, Log Loss: 27.729296848222443\n",
      "Batch 7, Accuracy: 0.19851991410073205, Log Loss: 27.68183272989812\n",
      "Batch 8, Accuracy: 0.19665024787846372, Log Loss: 27.746720775553634\n",
      "Batch 9, Accuracy: 0.1971452064855544, Log Loss: 27.729472246630298\n",
      "Batch 10, Accuracy: 0.19796108986692, Log Loss: 27.70134224543711\n",
      "Batch 11, Accuracy: 0.19650814685900864, Log Loss: 27.750799556584738\n",
      "Batch 12, Accuracy: 0.19880730942097827, Log Loss: 27.672008992276375\n",
      "Batch 13, Accuracy: 0.1980856278390267, Log Loss: 27.696943844719538\n",
      "Batch 14, Accuracy: 0.1992447889640197, Log Loss: 27.6566343211566\n",
      "Batch 15, Accuracy: 0.1969472230427181, Log Loss: 27.73625188635636\n",
      "Batch 16, Accuracy: 0.19675722280322203, Log Loss: 27.74286387462343\n",
      "Batch 17, Accuracy: 0.19727772766100124, Log Loss: 27.724620504015842\n",
      "Batch 18, Accuracy: 0.19639638201224624, Log Loss: 27.754910053450466\n",
      "Batch 19, Accuracy: 0.19787966119285025, Log Loss: 27.70410286630886\n",
      "Batch 20, Accuracy: 0.19794512346023965, Log Loss: 27.701738227905015\n",
      "Batch 21, Accuracy: 0.19765293821798935, Log Loss: 27.71203946564329\n",
      "Batch 22, Accuracy: 0.19728251758300536, Log Loss: 27.724724155804008\n",
      "Batch 23, Accuracy: 0.19863167894749448, Log Loss: 27.677715592790506\n",
      "Batch 24, Accuracy: 0.19722663515962416, Log Loss: 27.726723799535296\n",
      "Batch 25, Accuracy: 0.19902125927049488, Log Loss: 27.66456096012825\n",
      "Batch 26, Accuracy: 0.16603146978756697, Log Loss: 28.804252585399574\n",
      "Training KNeighborsClassifier\n",
      "Batch 1, Accuracy: 0.21993405874041017, Log Loss: 17.832426003813353\n",
      "Batch 2, Accuracy: 0.2193273352865571, Log Loss: 17.829061802129807\n",
      "Batch 3, Accuracy: 0.21982069725297973, Log Loss: 17.800397593021376\n",
      "Batch 4, Accuracy: 0.22008893288520953, Log Loss: 17.826256406681736\n",
      "Batch 5, Accuracy: 0.22008414296320541, Log Loss: 17.84670918845506\n",
      "Batch 6, Accuracy: 0.219185234267102, Log Loss: 17.808907291219384\n",
      "Batch 7, Accuracy: 0.2192395200498152, Log Loss: 17.81712627440753\n",
      "Batch 8, Accuracy: 0.2201304455425784, Log Loss: 17.830055810680598\n",
      "Batch 9, Accuracy: 0.2191325451250569, Log Loss: 17.799060439040293\n",
      "Batch 10, Accuracy: 0.21978876443961903, Log Loss: 17.841077244415445\n",
      "Batch 11, Accuracy: 0.21960355412212704, Log Loss: 17.804859935439872\n",
      "Batch 12, Accuracy: 0.21928103270718408, Log Loss: 17.80689871681505\n",
      "Batch 13, Accuracy: 0.2192203603617988, Log Loss: 17.854720254652527\n",
      "Batch 14, Accuracy: 0.22002187397715206, Log Loss: 17.803981580085505\n",
      "Batch 15, Accuracy: 0.21940078075728667, Log Loss: 17.801504659329854\n",
      "Batch 16, Accuracy: 0.219972378116443, Log Loss: 17.840481254460574\n",
      "Batch 17, Accuracy: 0.2196434701388279, Log Loss: 17.834968644057003\n",
      "Batch 18, Accuracy: 0.22055515196027559, Log Loss: 17.799089572388635\n",
      "Batch 19, Accuracy: 0.21880363714744178, Log Loss: 17.81787747848027\n",
      "Batch 20, Accuracy: 0.22030447937539416, Log Loss: 17.84211112345092\n",
      "Batch 21, Accuracy: 0.22083935399918572, Log Loss: 17.819834077750592\n",
      "Batch 22, Accuracy: 0.21951733552605318, Log Loss: 17.854408222690573\n",
      "Batch 23, Accuracy: 0.21978397451761494, Log Loss: 17.836246097586024\n",
      "Batch 24, Accuracy: 0.2199021259270495, Log Loss: 17.789907732586013\n",
      "Batch 25, Accuracy: 0.2193927975539465, Log Loss: 17.82652406849922\n",
      "Batch 26, Accuracy: 0.2057606795302683, Log Loss: 18.482536181649603\n",
      "Training LogisticRegression\n"
     ]
    },
    {
     "name": "stderr",
     "output_type": "stream",
     "text": [
      "C:\\Users\\Alex Zavalny\\AppData\\Local\\Packages\\PythonSoftwareFoundation.Python.3.8_qbz5n2kfra8p0\\LocalCache\\local-packages\\Python38\\site-packages\\sklearn\\linear_model\\_logistic.py:444: ConvergenceWarning: lbfgs failed to converge (status=1):\n",
      "STOP: TOTAL NO. of ITERATIONS REACHED LIMIT.\n",
      "\n",
      "Increase the number of iterations (max_iter) or scale the data as shown in:\n",
      "    https://scikit-learn.org/stable/modules/preprocessing.html\n",
      "Please also refer to the documentation for alternative solver options:\n",
      "    https://scikit-learn.org/stable/modules/linear_model.html#logistic-regression\n",
      "  n_iter_i = _check_optimize_result(\n"
     ]
    },
    {
     "name": "stdout",
     "output_type": "stream",
     "text": [
      "Batch 1, Accuracy: 0.24983275189002338, Log Loss: 2.3578890600603524\n"
     ]
    },
    {
     "name": "stderr",
     "output_type": "stream",
     "text": [
      "C:\\Users\\Alex Zavalny\\AppData\\Local\\Packages\\PythonSoftwareFoundation.Python.3.8_qbz5n2kfra8p0\\LocalCache\\local-packages\\Python38\\site-packages\\sklearn\\linear_model\\_logistic.py:444: ConvergenceWarning: lbfgs failed to converge (status=1):\n",
      "STOP: TOTAL NO. of ITERATIONS REACHED LIMIT.\n",
      "\n",
      "Increase the number of iterations (max_iter) or scale the data as shown in:\n",
      "    https://scikit-learn.org/stable/modules/preprocessing.html\n",
      "Please also refer to the documentation for alternative solver options:\n",
      "    https://scikit-learn.org/stable/modules/linear_model.html#logistic-regression\n",
      "  n_iter_i = _check_optimize_result(\n"
     ]
    },
    {
     "name": "stdout",
     "output_type": "stream",
     "text": [
      "Batch 2, Accuracy: 0.2502510717450484, Log Loss: 2.3578519756803082\n"
     ]
    },
    {
     "name": "stderr",
     "output_type": "stream",
     "text": [
      "C:\\Users\\Alex Zavalny\\AppData\\Local\\Packages\\PythonSoftwareFoundation.Python.3.8_qbz5n2kfra8p0\\LocalCache\\local-packages\\Python38\\site-packages\\sklearn\\linear_model\\_logistic.py:444: ConvergenceWarning: lbfgs failed to converge (status=1):\n",
      "STOP: TOTAL NO. of ITERATIONS REACHED LIMIT.\n",
      "\n",
      "Increase the number of iterations (max_iter) or scale the data as shown in:\n",
      "    https://scikit-learn.org/stable/modules/preprocessing.html\n",
      "Please also refer to the documentation for alternative solver options:\n",
      "    https://scikit-learn.org/stable/modules/linear_model.html#logistic-regression\n",
      "  n_iter_i = _check_optimize_result(\n"
     ]
    },
    {
     "name": "stdout",
     "output_type": "stream",
     "text": [
      "Batch 3, Accuracy: 0.24952140695975666, Log Loss: 2.3581954050347087\n"
     ]
    },
    {
     "name": "stderr",
     "output_type": "stream",
     "text": [
      "C:\\Users\\Alex Zavalny\\AppData\\Local\\Packages\\PythonSoftwareFoundation.Python.3.8_qbz5n2kfra8p0\\LocalCache\\local-packages\\Python38\\site-packages\\sklearn\\linear_model\\_logistic.py:444: ConvergenceWarning: lbfgs failed to converge (status=1):\n",
      "STOP: TOTAL NO. of ITERATIONS REACHED LIMIT.\n",
      "\n",
      "Increase the number of iterations (max_iter) or scale the data as shown in:\n",
      "    https://scikit-learn.org/stable/modules/preprocessing.html\n",
      "Please also refer to the documentation for alternative solver options:\n",
      "    https://scikit-learn.org/stable/modules/linear_model.html#logistic-regression\n",
      "  n_iter_i = _check_optimize_result(\n"
     ]
    },
    {
     "name": "stdout",
     "output_type": "stream",
     "text": [
      "Batch 4, Accuracy: 0.2500355252548638, Log Loss: 2.3579484904311894\n"
     ]
    },
    {
     "name": "stderr",
     "output_type": "stream",
     "text": [
      "C:\\Users\\Alex Zavalny\\AppData\\Local\\Packages\\PythonSoftwareFoundation.Python.3.8_qbz5n2kfra8p0\\LocalCache\\local-packages\\Python38\\site-packages\\sklearn\\linear_model\\_logistic.py:444: ConvergenceWarning: lbfgs failed to converge (status=1):\n",
      "STOP: TOTAL NO. of ITERATIONS REACHED LIMIT.\n",
      "\n",
      "Increase the number of iterations (max_iter) or scale the data as shown in:\n",
      "    https://scikit-learn.org/stable/modules/preprocessing.html\n",
      "Please also refer to the documentation for alternative solver options:\n",
      "    https://scikit-learn.org/stable/modules/linear_model.html#logistic-regression\n",
      "  n_iter_i = _check_optimize_result(\n"
     ]
    },
    {
     "name": "stdout",
     "output_type": "stream",
     "text": [
      "Batch 5, Accuracy: 0.24868636389037466, Log Loss: 2.358142197976931\n"
     ]
    },
    {
     "name": "stderr",
     "output_type": "stream",
     "text": [
      "C:\\Users\\Alex Zavalny\\AppData\\Local\\Packages\\PythonSoftwareFoundation.Python.3.8_qbz5n2kfra8p0\\LocalCache\\local-packages\\Python38\\site-packages\\sklearn\\linear_model\\_logistic.py:444: ConvergenceWarning: lbfgs failed to converge (status=1):\n",
      "STOP: TOTAL NO. of ITERATIONS REACHED LIMIT.\n",
      "\n",
      "Increase the number of iterations (max_iter) or scale the data as shown in:\n",
      "    https://scikit-learn.org/stable/modules/preprocessing.html\n",
      "Please also refer to the documentation for alternative solver options:\n",
      "    https://scikit-learn.org/stable/modules/linear_model.html#logistic-regression\n",
      "  n_iter_i = _check_optimize_result(\n"
     ]
    },
    {
     "name": "stdout",
     "output_type": "stream",
     "text": [
      "Batch 6, Accuracy: 0.2501472901016262, Log Loss: 2.3580332318969726\n"
     ]
    },
    {
     "name": "stderr",
     "output_type": "stream",
     "text": [
      "C:\\Users\\Alex Zavalny\\AppData\\Local\\Packages\\PythonSoftwareFoundation.Python.3.8_qbz5n2kfra8p0\\LocalCache\\local-packages\\Python38\\site-packages\\sklearn\\linear_model\\_logistic.py:444: ConvergenceWarning: lbfgs failed to converge (status=1):\n",
      "STOP: TOTAL NO. of ITERATIONS REACHED LIMIT.\n",
      "\n",
      "Increase the number of iterations (max_iter) or scale the data as shown in:\n",
      "    https://scikit-learn.org/stable/modules/preprocessing.html\n",
      "Please also refer to the documentation for alternative solver options:\n",
      "    https://scikit-learn.org/stable/modules/linear_model.html#logistic-regression\n",
      "  n_iter_i = _check_optimize_result(\n"
     ]
    },
    {
     "name": "stdout",
     "output_type": "stream",
     "text": [
      "Batch 7, Accuracy: 0.24985031493737178, Log Loss: 2.358219310288955\n"
     ]
    },
    {
     "name": "stderr",
     "output_type": "stream",
     "text": [
      "C:\\Users\\Alex Zavalny\\AppData\\Local\\Packages\\PythonSoftwareFoundation.Python.3.8_qbz5n2kfra8p0\\LocalCache\\local-packages\\Python38\\site-packages\\sklearn\\linear_model\\_logistic.py:444: ConvergenceWarning: lbfgs failed to converge (status=1):\n",
      "STOP: TOTAL NO. of ITERATIONS REACHED LIMIT.\n",
      "\n",
      "Increase the number of iterations (max_iter) or scale the data as shown in:\n",
      "    https://scikit-learn.org/stable/modules/preprocessing.html\n",
      "Please also refer to the documentation for alternative solver options:\n",
      "    https://scikit-learn.org/stable/modules/linear_model.html#logistic-regression\n",
      "  n_iter_i = _check_optimize_result(\n"
     ]
    },
    {
     "name": "stdout",
     "output_type": "stream",
     "text": [
      "Batch 8, Accuracy: 0.24972897024660115, Log Loss: 2.35822912465427\n"
     ]
    },
    {
     "name": "stderr",
     "output_type": "stream",
     "text": [
      "C:\\Users\\Alex Zavalny\\AppData\\Local\\Packages\\PythonSoftwareFoundation.Python.3.8_qbz5n2kfra8p0\\LocalCache\\local-packages\\Python38\\site-packages\\sklearn\\linear_model\\_logistic.py:444: ConvergenceWarning: lbfgs failed to converge (status=1):\n",
      "STOP: TOTAL NO. of ITERATIONS REACHED LIMIT.\n",
      "\n",
      "Increase the number of iterations (max_iter) or scale the data as shown in:\n",
      "    https://scikit-learn.org/stable/modules/preprocessing.html\n",
      "Please also refer to the documentation for alternative solver options:\n",
      "    https://scikit-learn.org/stable/modules/linear_model.html#logistic-regression\n",
      "  n_iter_i = _check_optimize_result(\n"
     ]
    },
    {
     "name": "stdout",
     "output_type": "stream",
     "text": [
      "Batch 9, Accuracy: 0.2501488867422942, Log Loss: 2.3582877683944137\n"
     ]
    },
    {
     "name": "stderr",
     "output_type": "stream",
     "text": [
      "C:\\Users\\Alex Zavalny\\AppData\\Local\\Packages\\PythonSoftwareFoundation.Python.3.8_qbz5n2kfra8p0\\LocalCache\\local-packages\\Python38\\site-packages\\sklearn\\linear_model\\_logistic.py:444: ConvergenceWarning: lbfgs failed to converge (status=1):\n",
      "STOP: TOTAL NO. of ITERATIONS REACHED LIMIT.\n",
      "\n",
      "Increase the number of iterations (max_iter) or scale the data as shown in:\n",
      "    https://scikit-learn.org/stable/modules/preprocessing.html\n",
      "Please also refer to the documentation for alternative solver options:\n",
      "    https://scikit-learn.org/stable/modules/linear_model.html#logistic-regression\n",
      "  n_iter_i = _check_optimize_result(\n"
     ]
    },
    {
     "name": "stdout",
     "output_type": "stream",
     "text": [
      "Batch 10, Accuracy: 0.25058636628533565, Log Loss: 2.358205953584625\n"
     ]
    },
    {
     "name": "stderr",
     "output_type": "stream",
     "text": [
      "C:\\Users\\Alex Zavalny\\AppData\\Local\\Packages\\PythonSoftwareFoundation.Python.3.8_qbz5n2kfra8p0\\LocalCache\\local-packages\\Python38\\site-packages\\sklearn\\linear_model\\_logistic.py:444: ConvergenceWarning: lbfgs failed to converge (status=1):\n",
      "STOP: TOTAL NO. of ITERATIONS REACHED LIMIT.\n",
      "\n",
      "Increase the number of iterations (max_iter) or scale the data as shown in:\n",
      "    https://scikit-learn.org/stable/modules/preprocessing.html\n",
      "Please also refer to the documentation for alternative solver options:\n",
      "    https://scikit-learn.org/stable/modules/linear_model.html#logistic-regression\n",
      "  n_iter_i = _check_optimize_result(\n"
     ]
    },
    {
     "name": "stdout",
     "output_type": "stream",
     "text": [
      "Batch 11, Accuracy: 0.24957090282046573, Log Loss: 2.358141525913672\n"
     ]
    },
    {
     "name": "stderr",
     "output_type": "stream",
     "text": [
      "C:\\Users\\Alex Zavalny\\AppData\\Local\\Packages\\PythonSoftwareFoundation.Python.3.8_qbz5n2kfra8p0\\LocalCache\\local-packages\\Python38\\site-packages\\sklearn\\linear_model\\_logistic.py:444: ConvergenceWarning: lbfgs failed to converge (status=1):\n",
      "STOP: TOTAL NO. of ITERATIONS REACHED LIMIT.\n",
      "\n",
      "Increase the number of iterations (max_iter) or scale the data as shown in:\n",
      "    https://scikit-learn.org/stable/modules/preprocessing.html\n",
      "Please also refer to the documentation for alternative solver options:\n",
      "    https://scikit-learn.org/stable/modules/linear_model.html#logistic-regression\n",
      "  n_iter_i = _check_optimize_result(\n"
     ]
    },
    {
     "name": "stdout",
     "output_type": "stream",
     "text": [
      "Batch 12, Accuracy: 0.24944636484835905, Log Loss: 2.358111040362785\n"
     ]
    },
    {
     "name": "stderr",
     "output_type": "stream",
     "text": [
      "C:\\Users\\Alex Zavalny\\AppData\\Local\\Packages\\PythonSoftwareFoundation.Python.3.8_qbz5n2kfra8p0\\LocalCache\\local-packages\\Python38\\site-packages\\sklearn\\linear_model\\_logistic.py:444: ConvergenceWarning: lbfgs failed to converge (status=1):\n",
      "STOP: TOTAL NO. of ITERATIONS REACHED LIMIT.\n",
      "\n",
      "Increase the number of iterations (max_iter) or scale the data as shown in:\n",
      "    https://scikit-learn.org/stable/modules/preprocessing.html\n",
      "Please also refer to the documentation for alternative solver options:\n",
      "    https://scikit-learn.org/stable/modules/linear_model.html#logistic-regression\n",
      "  n_iter_i = _check_optimize_result(\n"
     ]
    },
    {
     "name": "stdout",
     "output_type": "stream",
     "text": [
      "Batch 13, Accuracy: 0.24919249898214157, Log Loss: 2.3583926527820225\n"
     ]
    },
    {
     "name": "stderr",
     "output_type": "stream",
     "text": [
      "C:\\Users\\Alex Zavalny\\AppData\\Local\\Packages\\PythonSoftwareFoundation.Python.3.8_qbz5n2kfra8p0\\LocalCache\\local-packages\\Python38\\site-packages\\sklearn\\linear_model\\_logistic.py:444: ConvergenceWarning: lbfgs failed to converge (status=1):\n",
      "STOP: TOTAL NO. of ITERATIONS REACHED LIMIT.\n",
      "\n",
      "Increase the number of iterations (max_iter) or scale the data as shown in:\n",
      "    https://scikit-learn.org/stable/modules/preprocessing.html\n",
      "Please also refer to the documentation for alternative solver options:\n",
      "    https://scikit-learn.org/stable/modules/linear_model.html#logistic-regression\n",
      "  n_iter_i = _check_optimize_result(\n"
     ]
    },
    {
     "name": "stdout",
     "output_type": "stream",
     "text": [
      "Batch 14, Accuracy: 0.24971939040259294, Log Loss: 2.358314244658604\n"
     ]
    },
    {
     "name": "stderr",
     "output_type": "stream",
     "text": [
      "C:\\Users\\Alex Zavalny\\AppData\\Local\\Packages\\PythonSoftwareFoundation.Python.3.8_qbz5n2kfra8p0\\LocalCache\\local-packages\\Python38\\site-packages\\sklearn\\linear_model\\_logistic.py:444: ConvergenceWarning: lbfgs failed to converge (status=1):\n",
      "STOP: TOTAL NO. of ITERATIONS REACHED LIMIT.\n",
      "\n",
      "Increase the number of iterations (max_iter) or scale the data as shown in:\n",
      "    https://scikit-learn.org/stable/modules/preprocessing.html\n",
      "Please also refer to the documentation for alternative solver options:\n",
      "    https://scikit-learn.org/stable/modules/linear_model.html#logistic-regression\n",
      "  n_iter_i = _check_optimize_result(\n"
     ]
    },
    {
     "name": "stdout",
     "output_type": "stream",
     "text": [
      "Batch 15, Accuracy: 0.24957249946113377, Log Loss: 2.357954334351063\n"
     ]
    },
    {
     "name": "stderr",
     "output_type": "stream",
     "text": [
      "C:\\Users\\Alex Zavalny\\AppData\\Local\\Packages\\PythonSoftwareFoundation.Python.3.8_qbz5n2kfra8p0\\LocalCache\\local-packages\\Python38\\site-packages\\sklearn\\linear_model\\_logistic.py:444: ConvergenceWarning: lbfgs failed to converge (status=1):\n",
      "STOP: TOTAL NO. of ITERATIONS REACHED LIMIT.\n",
      "\n",
      "Increase the number of iterations (max_iter) or scale the data as shown in:\n",
      "    https://scikit-learn.org/stable/modules/preprocessing.html\n",
      "Please also refer to the documentation for alternative solver options:\n",
      "    https://scikit-learn.org/stable/modules/linear_model.html#logistic-regression\n",
      "  n_iter_i = _check_optimize_result(\n"
     ]
    },
    {
     "name": "stdout",
     "output_type": "stream",
     "text": [
      "Batch 16, Accuracy: 0.2495772893831379, Log Loss: 2.357658608680445\n"
     ]
    },
    {
     "name": "stderr",
     "output_type": "stream",
     "text": [
      "C:\\Users\\Alex Zavalny\\AppData\\Local\\Packages\\PythonSoftwareFoundation.Python.3.8_qbz5n2kfra8p0\\LocalCache\\local-packages\\Python38\\site-packages\\sklearn\\linear_model\\_logistic.py:444: ConvergenceWarning: lbfgs failed to converge (status=1):\n",
      "STOP: TOTAL NO. of ITERATIONS REACHED LIMIT.\n",
      "\n",
      "Increase the number of iterations (max_iter) or scale the data as shown in:\n",
      "    https://scikit-learn.org/stable/modules/preprocessing.html\n",
      "Please also refer to the documentation for alternative solver options:\n",
      "    https://scikit-learn.org/stable/modules/linear_model.html#logistic-regression\n",
      "  n_iter_i = _check_optimize_result(\n"
     ]
    },
    {
     "name": "stdout",
     "output_type": "stream",
     "text": [
      "Batch 17, Accuracy: 0.2498375418120275, Log Loss: 2.3579856772372487\n"
     ]
    },
    {
     "name": "stderr",
     "output_type": "stream",
     "text": [
      "C:\\Users\\Alex Zavalny\\AppData\\Local\\Packages\\PythonSoftwareFoundation.Python.3.8_qbz5n2kfra8p0\\LocalCache\\local-packages\\Python38\\site-packages\\sklearn\\linear_model\\_logistic.py:444: ConvergenceWarning: lbfgs failed to converge (status=1):\n",
      "STOP: TOTAL NO. of ITERATIONS REACHED LIMIT.\n",
      "\n",
      "Increase the number of iterations (max_iter) or scale the data as shown in:\n",
      "    https://scikit-learn.org/stable/modules/preprocessing.html\n",
      "Please also refer to the documentation for alternative solver options:\n",
      "    https://scikit-learn.org/stable/modules/linear_model.html#logistic-regression\n",
      "  n_iter_i = _check_optimize_result(\n"
     ]
    },
    {
     "name": "stdout",
     "output_type": "stream",
     "text": [
      "Batch 18, Accuracy: 0.25017283635231474, Log Loss: 2.3581599050180806\n"
     ]
    },
    {
     "name": "stderr",
     "output_type": "stream",
     "text": [
      "C:\\Users\\Alex Zavalny\\AppData\\Local\\Packages\\PythonSoftwareFoundation.Python.3.8_qbz5n2kfra8p0\\LocalCache\\local-packages\\Python38\\site-packages\\sklearn\\linear_model\\_logistic.py:444: ConvergenceWarning: lbfgs failed to converge (status=1):\n",
      "STOP: TOTAL NO. of ITERATIONS REACHED LIMIT.\n",
      "\n",
      "Increase the number of iterations (max_iter) or scale the data as shown in:\n",
      "    https://scikit-learn.org/stable/modules/preprocessing.html\n",
      "Please also refer to the documentation for alternative solver options:\n",
      "    https://scikit-learn.org/stable/modules/linear_model.html#logistic-regression\n",
      "  n_iter_i = _check_optimize_result(\n"
     ]
    },
    {
     "name": "stdout",
     "output_type": "stream",
     "text": [
      "Batch 19, Accuracy: 0.2497401467312774, Log Loss: 2.3582535999440704\n"
     ]
    },
    {
     "name": "stderr",
     "output_type": "stream",
     "text": [
      "C:\\Users\\Alex Zavalny\\AppData\\Local\\Packages\\PythonSoftwareFoundation.Python.3.8_qbz5n2kfra8p0\\LocalCache\\local-packages\\Python38\\site-packages\\sklearn\\linear_model\\_logistic.py:444: ConvergenceWarning: lbfgs failed to converge (status=1):\n",
      "STOP: TOTAL NO. of ITERATIONS REACHED LIMIT.\n",
      "\n",
      "Increase the number of iterations (max_iter) or scale the data as shown in:\n",
      "    https://scikit-learn.org/stable/modules/preprocessing.html\n",
      "Please also refer to the documentation for alternative solver options:\n",
      "    https://scikit-learn.org/stable/modules/linear_model.html#logistic-regression\n",
      "  n_iter_i = _check_optimize_result(\n"
     ]
    },
    {
     "name": "stdout",
     "output_type": "stream",
     "text": [
      "Batch 20, Accuracy: 0.2491430031214325, Log Loss: 2.3582718189834107\n"
     ]
    },
    {
     "name": "stderr",
     "output_type": "stream",
     "text": [
      "C:\\Users\\Alex Zavalny\\AppData\\Local\\Packages\\PythonSoftwareFoundation.Python.3.8_qbz5n2kfra8p0\\LocalCache\\local-packages\\Python38\\site-packages\\sklearn\\linear_model\\_logistic.py:444: ConvergenceWarning: lbfgs failed to converge (status=1):\n",
      "STOP: TOTAL NO. of ITERATIONS REACHED LIMIT.\n",
      "\n",
      "Increase the number of iterations (max_iter) or scale the data as shown in:\n",
      "    https://scikit-learn.org/stable/modules/preprocessing.html\n",
      "Please also refer to the documentation for alternative solver options:\n",
      "    https://scikit-learn.org/stable/modules/linear_model.html#logistic-regression\n",
      "  n_iter_i = _check_optimize_result(\n"
     ]
    },
    {
     "name": "stdout",
     "output_type": "stream",
     "text": [
      "Batch 21, Accuracy: 0.24993653353344564, Log Loss: 2.358061191506819\n"
     ]
    },
    {
     "name": "stderr",
     "output_type": "stream",
     "text": [
      "C:\\Users\\Alex Zavalny\\AppData\\Local\\Packages\\PythonSoftwareFoundation.Python.3.8_qbz5n2kfra8p0\\LocalCache\\local-packages\\Python38\\site-packages\\sklearn\\linear_model\\_logistic.py:444: ConvergenceWarning: lbfgs failed to converge (status=1):\n",
      "STOP: TOTAL NO. of ITERATIONS REACHED LIMIT.\n",
      "\n",
      "Increase the number of iterations (max_iter) or scale the data as shown in:\n",
      "    https://scikit-learn.org/stable/modules/preprocessing.html\n",
      "Please also refer to the documentation for alternative solver options:\n",
      "    https://scikit-learn.org/stable/modules/linear_model.html#logistic-regression\n",
      "  n_iter_i = _check_optimize_result(\n"
     ]
    },
    {
     "name": "stdout",
     "output_type": "stream",
     "text": [
      "Batch 22, Accuracy: 0.24976569298196594, Log Loss: 2.358206161184802\n"
     ]
    },
    {
     "name": "stderr",
     "output_type": "stream",
     "text": [
      "C:\\Users\\Alex Zavalny\\AppData\\Local\\Packages\\PythonSoftwareFoundation.Python.3.8_qbz5n2kfra8p0\\LocalCache\\local-packages\\Python38\\site-packages\\sklearn\\linear_model\\_logistic.py:444: ConvergenceWarning: lbfgs failed to converge (status=1):\n",
      "STOP: TOTAL NO. of ITERATIONS REACHED LIMIT.\n",
      "\n",
      "Increase the number of iterations (max_iter) or scale the data as shown in:\n",
      "    https://scikit-learn.org/stable/modules/preprocessing.html\n",
      "Please also refer to the documentation for alternative solver options:\n",
      "    https://scikit-learn.org/stable/modules/linear_model.html#logistic-regression\n",
      "  n_iter_i = _check_optimize_result(\n"
     ]
    },
    {
     "name": "stdout",
     "output_type": "stream",
     "text": [
      "Batch 23, Accuracy: 0.24959165914915019, Log Loss: 2.3578844353034665\n"
     ]
    },
    {
     "name": "stderr",
     "output_type": "stream",
     "text": [
      "C:\\Users\\Alex Zavalny\\AppData\\Local\\Packages\\PythonSoftwareFoundation.Python.3.8_qbz5n2kfra8p0\\LocalCache\\local-packages\\Python38\\site-packages\\sklearn\\linear_model\\_logistic.py:444: ConvergenceWarning: lbfgs failed to converge (status=1):\n",
      "STOP: TOTAL NO. of ITERATIONS REACHED LIMIT.\n",
      "\n",
      "Increase the number of iterations (max_iter) or scale the data as shown in:\n",
      "    https://scikit-learn.org/stable/modules/preprocessing.html\n",
      "Please also refer to the documentation for alternative solver options:\n",
      "    https://scikit-learn.org/stable/modules/linear_model.html#logistic-regression\n",
      "  n_iter_i = _check_optimize_result(\n"
     ]
    },
    {
     "name": "stdout",
     "output_type": "stream",
     "text": [
      "Batch 24, Accuracy: 0.24976569298196594, Log Loss: 2.358032792769795\n"
     ]
    },
    {
     "name": "stderr",
     "output_type": "stream",
     "text": [
      "C:\\Users\\Alex Zavalny\\AppData\\Local\\Packages\\PythonSoftwareFoundation.Python.3.8_qbz5n2kfra8p0\\LocalCache\\local-packages\\Python38\\site-packages\\sklearn\\linear_model\\_logistic.py:444: ConvergenceWarning: lbfgs failed to converge (status=1):\n",
      "STOP: TOTAL NO. of ITERATIONS REACHED LIMIT.\n",
      "\n",
      "Increase the number of iterations (max_iter) or scale the data as shown in:\n",
      "    https://scikit-learn.org/stable/modules/preprocessing.html\n",
      "Please also refer to the documentation for alternative solver options:\n",
      "    https://scikit-learn.org/stable/modules/linear_model.html#logistic-regression\n",
      "  n_iter_i = _check_optimize_result(\n"
     ]
    },
    {
     "name": "stdout",
     "output_type": "stream",
     "text": [
      "Batch 25, Accuracy: 0.25019359268099917, Log Loss: 2.3578515655212127\n"
     ]
    },
    {
     "name": "stderr",
     "output_type": "stream",
     "text": [
      "C:\\Users\\Alex Zavalny\\AppData\\Local\\Packages\\PythonSoftwareFoundation.Python.3.8_qbz5n2kfra8p0\\LocalCache\\local-packages\\Python38\\site-packages\\sklearn\\linear_model\\_logistic.py:444: ConvergenceWarning: lbfgs failed to converge (status=1):\n",
      "STOP: TOTAL NO. of ITERATIONS REACHED LIMIT.\n",
      "\n",
      "Increase the number of iterations (max_iter) or scale the data as shown in:\n",
      "    https://scikit-learn.org/stable/modules/preprocessing.html\n",
      "Please also refer to the documentation for alternative solver options:\n",
      "    https://scikit-learn.org/stable/modules/linear_model.html#logistic-regression\n",
      "  n_iter_i = _check_optimize_result(\n"
     ]
    },
    {
     "name": "stdout",
     "output_type": "stream",
     "text": [
      "Batch 26, Accuracy: 0.24974493665328149, Log Loss: 2.377942531516468\n",
      "Training XGBClassifier\n",
      "Batch 1, Accuracy: 0.3094257681837414, Log Loss: 2.1784365120109044\n",
      "Batch 2, Accuracy: 0.30772694251295274, Log Loss: 2.1811244835219483\n",
      "Batch 3, Accuracy: 0.3097067769413155, Log Loss: 2.1792789677803244\n",
      "Batch 4, Accuracy: 0.3090569441894255, Log Loss: 2.1781435539647864\n",
      "Batch 5, Accuracy: 0.3090090449693844, Log Loss: 2.1803066981066035\n",
      "Batch 6, Accuracy: 0.3082793801840927, Log Loss: 2.1794907010551734\n",
      "Batch 7, Accuracy: 0.3088318178552326, Log Loss: 2.1794418738872268\n",
      "Batch 8, Accuracy: 0.3091926586462084, Log Loss: 2.1794976452031514\n",
      "Batch 9, Accuracy: 0.3086482041784086, Log Loss: 2.1807823624945257\n",
      "Batch 10, Accuracy: 0.3086434142564045, Log Loss: 2.1778622147823574\n",
      "Batch 11, Accuracy: 0.3087487925404948, Log Loss: 2.1793203352930104\n",
      "Batch 12, Accuracy: 0.30970997022265156, Log Loss: 2.1790196550215755\n",
      "Batch 13, Accuracy: 0.3099845924175535, Log Loss: 2.17821154327639\n",
      "Batch 14, Accuracy: 0.3104428282892794, Log Loss: 2.1785767585683224\n",
      "Batch 15, Accuracy: 0.30822669104204753, Log Loss: 2.1801421035544384\n",
      "Batch 16, Accuracy: 0.3100771975762995, Log Loss: 2.1781451344294442\n",
      "Batch 17, Accuracy: 0.30956307928119237, Log Loss: 2.180547317999366\n",
      "Batch 18, Accuracy: 0.3092932470082945, Log Loss: 2.1783467266406493\n",
      "Batch 19, Accuracy: 0.3087982884012039, Log Loss: 2.17873306291582\n",
      "Batch 20, Accuracy: 0.3092453477882535, Log Loss: 2.1797297504881166\n",
      "Batch 21, Accuracy: 0.3095359363898358, Log Loss: 2.178537087917171\n",
      "Batch 22, Accuracy: 0.3087519858218309, Log Loss: 2.18023541378004\n",
      "Batch 23, Accuracy: 0.30937148240102824, Log Loss: 2.180336499557296\n",
      "Batch 24, Accuracy: 0.3094257681837414, Log Loss: 2.178434482592518\n",
      "Batch 25, Accuracy: 0.308943582701995, Log Loss: 2.1784905271172312\n",
      "Batch 26, Accuracy: 0.24557131794703943, Log Loss: 2.7219403532993534\n",
      "Training completed and results saved.\n"
     ]
    }
   ],
   "source": [
    "import pandas as pd\n",
    "import numpy as np\n",
    "import json\n",
    "from sklearn.model_selection import train_test_split\n",
    "from sklearn.metrics import accuracy_score, log_loss\n",
    "from sklearn.ensemble import RandomForestClassifier\n",
    "from sklearn.naive_bayes import MultinomialNB\n",
    "from sklearn.tree import DecisionTreeClassifier\n",
    "from sklearn.neighbors import KNeighborsClassifier\n",
    "from sklearn.linear_model import LogisticRegression\n",
    "from xgboost import XGBClassifier\n",
    "from sklearn.preprocessing import LabelEncoder\n",
    "import joblib\n",
    "import gc\n",
    "\n",
    "# Assuming X_train, y_train, X_test, y_test are defined elsewhere\n",
    "\n",
    "encoder = LabelEncoder()\n",
    "encoder.fit(np.unique(y_train))  # Fit encoder to all unique labels in training set\n",
    "\n",
    "# Define classifiers\n",
    "classifiers = [\n",
    "    RandomForestClassifier(n_estimators=75, verbose=2),\n",
    "    DecisionTreeClassifier(),\n",
    "    KNeighborsClassifier(),\n",
    "    LogisticRegression(),\n",
    "    XGBClassifier(eval_metric='logloss')\n",
    "]\n",
    "\n",
    "batch_size = 100000\n",
    "results = []\n",
    "\n",
    "# Train models on batches\n",
    "for model in classifiers:\n",
    "    model_name = type(model).__name__\n",
    "    print(f\"Training {model_name}\")\n",
    "    accuracy_list = []\n",
    "    log_loss_list = []\n",
    "\n",
    "    # Train in batches\n",
    "    for i in range(0, len(X_train), batch_size):\n",
    "        batch_end = min(i + batch_size, len(X_train))\n",
    "        X_batch = X_train[i:batch_end]\n",
    "        y_batch = y_train[i:batch_end]\n",
    "        \n",
    "        try:\n",
    "            # Fit model on the current batch\n",
    "            model.fit(X_batch, y_batch)\n",
    "            \n",
    "            # Predict on the entire test set\n",
    "            y_pred = model.predict(X_test)\n",
    "            y_prob = model.predict_proba(X_test)  # Predict probabilities for log_loss\n",
    "            \n",
    "            # Calculate accuracy and log loss\n",
    "            accuracy = accuracy_score(y_test, y_pred)\n",
    "            loss = log_loss(y_test, y_prob)  # Calculating log loss\n",
    "            \n",
    "            accuracy_list.append(accuracy)\n",
    "            log_loss_list.append(loss)\n",
    "            \n",
    "            print(f\"Batch {i//batch_size + 1}, Accuracy: {accuracy}, Log Loss: {loss}\")\n",
    "        except Exception as e:\n",
    "            print(f\"Error training {model_name} on batch {i//batch_size + 1}: {e}\")\n",
    "            continue\n",
    "        \n",
    "    # Save the model and results\n",
    "    joblib.dump(model, f'models/{model_name}_pre_smote.joblib')\n",
    "    results.append({\n",
    "        'model': model_name,\n",
    "        'accuracies': accuracy_list,\n",
    "        'log_losses': log_loss_list\n",
    "    })\n",
    "    gc.collect()\n",
    "\n",
    "# Save results to a JSON file\n",
    "with open('classification_results_pre_smote.json', 'w') as f:\n",
    "    json.dump(results, f, indent=4)\n",
    "\n",
    "print(\"Training completed and results saved.\")"
   ]
  },
  {
   "cell_type": "markdown",
   "id": "35c7edd2",
   "metadata": {},
   "source": [
    "# Deep Neural Networks"
   ]
  },
  {
   "cell_type": "markdown",
   "id": "ab1481a9",
   "metadata": {},
   "source": [
    "## Before SMOTE:"
   ]
  },
  {
   "cell_type": "code",
   "execution_count": 93,
   "id": "babab2ee",
   "metadata": {},
   "outputs": [
    {
     "data": {
      "text/plain": [
       "((2505256, 9), (2505256,), (626315, 9), (626315,))"
      ]
     },
     "execution_count": 93,
     "metadata": {},
     "output_type": "execute_result"
    }
   ],
   "source": [
    "X_train.shape, y_train.shape, X_test_encoded.shape, y_test.shape"
   ]
  },
  {
   "cell_type": "code",
   "execution_count": 100,
   "id": "ac7d43f1",
   "metadata": {},
   "outputs": [
    {
     "data": {
      "text/plain": [
       "26"
      ]
     },
     "execution_count": 100,
     "metadata": {},
     "output_type": "execute_result"
    }
   ],
   "source": [
    "y_train.nunique()"
   ]
  },
  {
   "cell_type": "code",
   "execution_count": 131,
   "id": "13447bc7",
   "metadata": {},
   "outputs": [
    {
     "name": "stdout",
     "output_type": "stream",
     "text": [
      "This is the largest class prior on unbalanced data: 0.22775476837496847\n"
     ]
    }
   ],
   "source": [
    "print(\"This is the largest class prior on unbalanced data:\", 570584/2505256)"
   ]
  },
  {
   "cell_type": "code",
   "execution_count": 102,
   "id": "c59fbf88",
   "metadata": {},
   "outputs": [
    {
     "name": "stdout",
     "output_type": "stream",
     "text": [
      "Epoch 1/10\n",
      "78290/78290 [==============================] - 104s 1ms/step - loss: 2.2268 - accuracy: 0.2837 - val_loss: 2.2016 - val_accuracy: 0.2900\n",
      "Epoch 2/10\n",
      "78290/78290 [==============================] - 101s 1ms/step - loss: 2.1934 - accuracy: 0.2925 - val_loss: 2.1881 - val_accuracy: 0.2942\n",
      "Epoch 3/10\n",
      "78290/78290 [==============================] - 100s 1ms/step - loss: 2.1852 - accuracy: 0.2947 - val_loss: 2.1813 - val_accuracy: 0.2951\n",
      "Epoch 4/10\n",
      "78290/78290 [==============================] - 99s 1ms/step - loss: 2.1810 - accuracy: 0.2956 - val_loss: 2.1811 - val_accuracy: 0.2955\n",
      "Epoch 5/10\n",
      "78290/78290 [==============================] - 99s 1ms/step - loss: 2.1782 - accuracy: 0.2964 - val_loss: 2.1765 - val_accuracy: 0.2966\n",
      "Epoch 6/10\n",
      "78290/78290 [==============================] - 99s 1ms/step - loss: 2.1757 - accuracy: 0.2972 - val_loss: 2.1751 - val_accuracy: 0.2980\n",
      "Epoch 7/10\n",
      "78290/78290 [==============================] - 99s 1ms/step - loss: 2.1739 - accuracy: 0.2980 - val_loss: 2.1738 - val_accuracy: 0.2992\n",
      "Epoch 8/10\n",
      "78290/78290 [==============================] - 99s 1ms/step - loss: 2.1721 - accuracy: 0.2987 - val_loss: 2.1710 - val_accuracy: 0.2984\n",
      "Epoch 9/10\n",
      "78290/78290 [==============================] - 99s 1ms/step - loss: 2.1706 - accuracy: 0.2995 - val_loss: 2.1692 - val_accuracy: 0.2995\n",
      "Epoch 10/10\n",
      "78290/78290 [==============================] - 99s 1ms/step - loss: 2.1692 - accuracy: 0.2999 - val_loss: 2.1696 - val_accuracy: 0.3001\n"
     ]
    },
    {
     "data": {
      "image/png": "[encoded data removed]",
      "text/plain": [
       "<Figure size 864x360 with 2 Axes>"
      ]
     },
     "metadata": {
      "needs_background": "light"
     },
     "output_type": "display_data"
    }
   ],
   "source": [
    "import tensorflow as tf\n",
    "import json\n",
    "\n",
    "# Define the model architecture\n",
    "model_nn = tf.keras.Sequential([\n",
    "    tf.keras.layers.Dense(128, activation='relu', input_shape=(X_train.shape[1],)),\n",
    "    tf.keras.layers.Dense(64, activation='relu'),\n",
    "    # Output layer with the number of units equal to the number of classes, using softmax\n",
    "    tf.keras.layers.Dense(26, activation='softmax')\n",
    "])\n",
    "\n",
    "# Compile the model with sparse categorical crossentropy for integer labels\n",
    "model_nn.compile(optimizer='adam',\n",
    "                 loss='sparse_categorical_crossentropy',\n",
    "                 metrics=['accuracy'])\n",
    "\n",
    "# Train the model and save the history\n",
    "history_nn = model_nn.fit(X_train, y_train, epochs=10, validation_data=(X_test, y_test), batch_size=32)\n",
    "\n",
    "history_json = json.dumps(history_nn.history, indent=4)\n",
    "with open('neural_net_10_epochs.json', 'w') as f:\n",
    "    f.write(history_json)\n",
    "\n",
    "# Plotting the training and validation accuracy\n",
    "plt.figure(figsize=(12, 5))\n",
    "plt.subplot(1, 2, 1)\n",
    "plt.plot(history_nn.history['accuracy'], label='Accuracy')\n",
    "plt.plot(history_nn.history['val_accuracy'], label='Validation Accuracy')\n",
    "plt.title('Training and Validation Accuracy')\n",
    "plt.xlabel('Epoch')\n",
    "plt.ylabel('Accuracy')\n",
    "plt.legend()\n",
    "\n",
    "# Plotting the training and validation loss\n",
    "plt.subplot(1, 2, 2)\n",
    "plt.plot(history_nn.history['loss'], label='Loss')\n",
    "plt.plot(history_nn.history['val_loss'], label='Validation Loss')\n",
    "plt.title('Training and Validation Loss')\n",
    "plt.xlabel('Epoch')\n",
    "plt.ylabel('Loss')\n",
    "plt.legend()\n",
    "\n",
    "plt.tight_layout()\n",
    "plt.show()"
   ]
  },
  {
   "cell_type": "code",
   "execution_count": 103,
   "id": "d1ac39b1",
   "metadata": {},
   "outputs": [
    {
     "name": "stdout",
     "output_type": "stream",
     "text": [
      "Epoch 1/50\n",
      "78290/78290 [==============================] - 99s 1ms/step - loss: 2.2264 - accuracy: 0.2842 - val_loss: 2.2037 - val_accuracy: 0.2904\n",
      "Epoch 2/50\n",
      "78290/78290 [==============================] - 98s 1ms/step - loss: 2.1946 - accuracy: 0.2926 - val_loss: 2.1926 - val_accuracy: 0.2944\n",
      "Epoch 3/50\n",
      "78290/78290 [==============================] - 99s 1ms/step - loss: 2.1864 - accuracy: 0.2950 - val_loss: 2.1846 - val_accuracy: 0.2952\n",
      "Epoch 4/50\n",
      "78290/78290 [==============================] - 99s 1ms/step - loss: 2.1813 - accuracy: 0.2965 - val_loss: 2.1793 - val_accuracy: 0.2960\n",
      "Epoch 5/50\n",
      "78290/78290 [==============================] - 99s 1ms/step - loss: 2.1782 - accuracy: 0.2978 - val_loss: 2.1760 - val_accuracy: 0.2983\n",
      "Epoch 6/50\n",
      "78290/78290 [==============================] - 99s 1ms/step - loss: 2.1756 - accuracy: 0.2985 - val_loss: 2.1771 - val_accuracy: 0.2981\n",
      "Epoch 7/50\n",
      "78290/78290 [==============================] - 99s 1ms/step - loss: 2.1734 - accuracy: 0.2993 - val_loss: 2.1743 - val_accuracy: 0.2984\n",
      "Epoch 8/50\n",
      "78290/78290 [==============================] - 99s 1ms/step - loss: 2.1719 - accuracy: 0.3003 - val_loss: 2.1713 - val_accuracy: 0.3005\n",
      "Epoch 9/50\n",
      "78290/78290 [==============================] - 99s 1ms/step - loss: 2.1708 - accuracy: 0.3005 - val_loss: 2.1727 - val_accuracy: 0.2995\n",
      "Epoch 10/50\n",
      "78290/78290 [==============================] - 100s 1ms/step - loss: 2.1700 - accuracy: 0.3008 - val_loss: 2.1725 - val_accuracy: 0.2992\n",
      "Epoch 11/50\n",
      "78290/78290 [==============================] - 99s 1ms/step - loss: 2.1692 - accuracy: 0.3010 - val_loss: 2.1702 - val_accuracy: 0.3005\n",
      "Epoch 12/50\n",
      "78290/78290 [==============================] - 99s 1ms/step - loss: 2.1688 - accuracy: 0.3012 - val_loss: 2.1676 - val_accuracy: 0.3008\n",
      "Epoch 13/50\n",
      "78290/78290 [==============================] - 99s 1ms/step - loss: 2.1681 - accuracy: 0.3014 - val_loss: 2.1694 - val_accuracy: 0.3010\n",
      "Epoch 14/50\n",
      "78290/78290 [==============================] - 99s 1ms/step - loss: 2.1675 - accuracy: 0.3018 - val_loss: 2.1693 - val_accuracy: 0.2996\n",
      "Epoch 15/50\n",
      "78290/78290 [==============================] - 99s 1ms/step - loss: 2.1671 - accuracy: 0.3018 - val_loss: 2.1673 - val_accuracy: 0.3016\n",
      "Epoch 16/50\n",
      "78290/78290 [==============================] - 99s 1ms/step - loss: 2.1666 - accuracy: 0.3021 - val_loss: 2.1672 - val_accuracy: 0.3009\n",
      "Epoch 17/50\n",
      "78290/78290 [==============================] - 99s 1ms/step - loss: 2.1663 - accuracy: 0.3021 - val_loss: 2.1677 - val_accuracy: 0.3014\n",
      "Epoch 18/50\n",
      "78290/78290 [==============================] - 99s 1ms/step - loss: 2.1658 - accuracy: 0.3025 - val_loss: 2.1656 - val_accuracy: 0.3021\n",
      "Epoch 19/50\n",
      "78290/78290 [==============================] - 99s 1ms/step - loss: 2.1653 - accuracy: 0.3023 - val_loss: 2.1663 - val_accuracy: 0.3023\n",
      "Epoch 20/50\n",
      "78290/78290 [==============================] - 99s 1ms/step - loss: 2.1651 - accuracy: 0.3024 - val_loss: 2.1657 - val_accuracy: 0.3033\n",
      "Epoch 21/50\n",
      "78290/78290 [==============================] - 99s 1ms/step - loss: 2.1651 - accuracy: 0.3027 - val_loss: 2.1647 - val_accuracy: 0.3021\n",
      "Epoch 22/50\n",
      "78290/78290 [==============================] - 99s 1ms/step - loss: 2.1648 - accuracy: 0.3027 - val_loss: 2.1673 - val_accuracy: 0.3024\n",
      "Epoch 23/50\n",
      "78290/78290 [==============================] - 99s 1ms/step - loss: 2.1646 - accuracy: 0.3031 - val_loss: 2.1669 - val_accuracy: 0.3029\n",
      "Epoch 24/50\n",
      "78290/78290 [==============================] - 99s 1ms/step - loss: 2.1648 - accuracy: 0.3028 - val_loss: 2.1649 - val_accuracy: 0.3038\n",
      "Epoch 25/50\n",
      "78290/78290 [==============================] - 99s 1ms/step - loss: 2.1646 - accuracy: 0.3029 - val_loss: 2.1689 - val_accuracy: 0.3018\n",
      "Epoch 26/50\n",
      "78290/78290 [==============================] - 99s 1ms/step - loss: 2.1645 - accuracy: 0.3032 - val_loss: 2.1653 - val_accuracy: 0.3032\n",
      "Epoch 27/50\n",
      "78290/78290 [==============================] - 99s 1ms/step - loss: 2.1643 - accuracy: 0.3031 - val_loss: 2.1646 - val_accuracy: 0.3037\n",
      "Epoch 28/50\n",
      "78290/78290 [==============================] - 99s 1ms/step - loss: 2.1643 - accuracy: 0.3029 - val_loss: 2.1647 - val_accuracy: 0.3027\n",
      "Epoch 29/50\n",
      "78290/78290 [==============================] - 99s 1ms/step - loss: 2.1644 - accuracy: 0.3033 - val_loss: 2.1669 - val_accuracy: 0.3025\n",
      "Epoch 30/50\n",
      "78290/78290 [==============================] - 99s 1ms/step - loss: 2.1642 - accuracy: 0.3032 - val_loss: 2.1647 - val_accuracy: 0.3022\n",
      "Epoch 31/50\n",
      "78290/78290 [==============================] - 99s 1ms/step - loss: 2.1640 - accuracy: 0.3034 - val_loss: 2.1679 - val_accuracy: 0.3026\n",
      "Epoch 32/50\n",
      "78290/78290 [==============================] - 99s 1ms/step - loss: 2.1637 - accuracy: 0.3033 - val_loss: 2.1662 - val_accuracy: 0.3030\n",
      "Epoch 33/50\n",
      "78290/78290 [==============================] - 99s 1ms/step - loss: 2.1637 - accuracy: 0.3036 - val_loss: 2.1638 - val_accuracy: 0.3037\n",
      "Epoch 34/50\n",
      "78290/78290 [==============================] - 99s 1ms/step - loss: 2.1635 - accuracy: 0.3035 - val_loss: 2.1638 - val_accuracy: 0.3033\n",
      "Epoch 35/50\n",
      "78290/78290 [==============================] - 99s 1ms/step - loss: 2.1631 - accuracy: 0.3036 - val_loss: 2.1648 - val_accuracy: 0.3024\n",
      "Epoch 36/50\n",
      "78290/78290 [==============================] - 99s 1ms/step - loss: 2.1631 - accuracy: 0.3036 - val_loss: 2.1689 - val_accuracy: 0.3023\n",
      "Epoch 37/50\n",
      "78290/78290 [==============================] - 99s 1ms/step - loss: 2.1630 - accuracy: 0.3036 - val_loss: 2.1670 - val_accuracy: 0.3026\n",
      "Epoch 38/50\n",
      "78290/78290 [==============================] - 99s 1ms/step - loss: 2.1628 - accuracy: 0.3037 - val_loss: 2.1633 - val_accuracy: 0.3029\n",
      "Epoch 39/50\n",
      "78290/78290 [==============================] - 99s 1ms/step - loss: 2.1627 - accuracy: 0.3039 - val_loss: 2.1611 - val_accuracy: 0.3039\n",
      "Epoch 40/50\n",
      "78290/78290 [==============================] - 99s 1ms/step - loss: 2.1630 - accuracy: 0.3037 - val_loss: 2.1649 - val_accuracy: 0.3027\n",
      "Epoch 41/50\n",
      "78290/78290 [==============================] - 99s 1ms/step - loss: 2.1628 - accuracy: 0.3036 - val_loss: 2.1640 - val_accuracy: 0.3032\n",
      "Epoch 42/50\n",
      "78290/78290 [==============================] - 99s 1ms/step - loss: 2.1626 - accuracy: 0.3040 - val_loss: 2.1663 - val_accuracy: 0.3027\n",
      "Epoch 43/50\n",
      "78290/78290 [==============================] - 99s 1ms/step - loss: 2.1630 - accuracy: 0.3032 - val_loss: 2.1643 - val_accuracy: 0.3029\n",
      "Epoch 44/50\n",
      "78290/78290 [==============================] - 99s 1ms/step - loss: 2.1636 - accuracy: 0.3031 - val_loss: 2.1682 - val_accuracy: 0.3015\n",
      "Epoch 45/50\n",
      "78290/78290 [==============================] - 99s 1ms/step - loss: 2.1633 - accuracy: 0.3030 - val_loss: 2.1670 - val_accuracy: 0.3025\n",
      "Epoch 46/50\n",
      "78290/78290 [==============================] - 99s 1ms/step - loss: 2.1632 - accuracy: 0.3033 - val_loss: 2.1632 - val_accuracy: 0.3032\n",
      "Epoch 47/50\n",
      "78290/78290 [==============================] - 99s 1ms/step - loss: 2.1631 - accuracy: 0.3033 - val_loss: 2.1647 - val_accuracy: 0.3014\n",
      "Epoch 48/50\n",
      "78290/78290 [==============================] - 99s 1ms/step - loss: 2.1631 - accuracy: 0.3031 - val_loss: 2.1648 - val_accuracy: 0.3032\n",
      "Epoch 49/50\n",
      "78290/78290 [==============================] - 99s 1ms/step - loss: 2.1630 - accuracy: 0.3033 - val_loss: 2.1643 - val_accuracy: 0.3036\n",
      "Epoch 50/50\n",
      "78290/78290 [==============================] - 99s 1ms/step - loss: 2.1628 - accuracy: 0.3034 - val_loss: 2.1629 - val_accuracy: 0.3038\n"
     ]
    }
   ],
   "source": [
    "model_nn_50 = tf.keras.Sequential([\n",
    "    tf.keras.layers.Dense(128, activation='relu', input_shape=(X_train.shape[1],)),\n",
    "    tf.keras.layers.Dense(64, activation='relu'),\n",
    "    # Output layer with the number of units equal to the number of classes, using softmax\n",
    "    tf.keras.layers.Dense(26, activation='softmax')\n",
    "])\n",
    "\n",
    "# Compile the model with sparse categorical crossentropy for integer labels\n",
    "model_nn_50.compile(optimizer='adam',\n",
    "                 loss='sparse_categorical_crossentropy',\n",
    "                 metrics=['accuracy'])\n",
    "\n",
    "# Train the model and save the history\n",
    "history_nn_50 = model_nn_50.fit(X_train, y_train, epochs=50, validation_data=(X_test, y_test), batch_size=32)\n",
    "\n",
    "history_json_50 = json.dumps(history_nn_50.history, indent=4)\n",
    "with open('neural_net_50_epochs.json', 'w') as f:\n",
    "    f.write(history_json_50)"
   ]
  },
  {
   "cell_type": "code",
   "execution_count": 108,
   "id": "c4bc3d60",
   "metadata": {},
   "outputs": [
    {
     "data": {
      "image/png": "[encoded data removed]",
      "text/plain": [
       "<Figure size 864x360 with 2 Axes>"
      ]
     },
     "metadata": {
      "needs_background": "light"
     },
     "output_type": "display_data"
    }
   ],
   "source": [
    "# Plotting the training and validation accuracy\n",
    "plt.figure(figsize=(12, 5))\n",
    "plt.subplot(1, 2, 1)\n",
    "plt.plot(history_json_50['accuracy'], label='Accuracy')\n",
    "plt.plot(history_json_50['val_accuracy'], label='Validation Accuracy')\n",
    "plt.title('Training and Validation Accuracy')\n",
    "plt.xlabel('Epoch')\n",
    "plt.ylabel('Accuracy')\n",
    "plt.legend()\n",
    "\n",
    "# Plotting the training and validation loss\n",
    "plt.subplot(1, 2, 2)\n",
    "plt.plot(history_json_50['loss'], label='Loss')\n",
    "plt.plot(history_json_50['val_loss'], label='Validation Loss')\n",
    "plt.title('Training and Validation Loss')\n",
    "plt.xlabel('Epoch')\n",
    "plt.ylabel('Loss')\n",
    "plt.legend()\n",
    "\n",
    "plt.tight_layout()\n",
    "plt.show()"
   ]
  },
  {
   "cell_type": "code",
   "execution_count": 115,
   "id": "9da8d1c4",
   "metadata": {},
   "outputs": [],
   "source": [
    "model_nn_50.save('neural_net_pre_smote.h5')\n",
    "model_nn_50.save_weights('neural_net_pre_smote_weights.h5')"
   ]
  },
  {
   "cell_type": "markdown",
   "id": "849e67b5",
   "metadata": {},
   "source": [
    "## After SMOTE:\n",
    "\n",
    "Overfits like crazy"
   ]
  },
  {
   "cell_type": "code",
   "execution_count": 117,
   "id": "3a61aa14",
   "metadata": {},
   "outputs": [],
   "source": [
    "from imblearn.over_sampling import SMOTE\n",
    "from sklearn.model_selection import train_test_split\n",
    "\n",
    "# Using SMOTE; We have to adjust target column\n",
    "# Assuming 'data' is your DataFrame and 'target' is the column with class labels; what is the target column for our DataFrame\n",
    "X = data.iloc[:, 1:]  # Features\n",
    "y = data.iloc[:, 0]\n",
    "\n",
    "# Splitting the dataset into training and testing sets\n",
    "X_train, X_test, y_train, y_test = train_test_split(X, y, test_size=0.2, random_state=42)\n",
    "\n",
    "# Applying SMOTE\n",
    "smote = SMOTE()\n",
    "X_train_smote, y_train_smote = smote.fit_resample(X_train, y_train)\n",
    "\n",
    "#Crime Classification:\n",
    "X_train_encoded_smoted = feature_data_pipeline.fit_transform(X_train_smote)\n",
    "X_test_encoded = feature_data_pipeline.transform(X_test)"
   ]
  },
  {
   "cell_type": "code",
   "execution_count": 118,
   "id": "ce4a762d",
   "metadata": {},
   "outputs": [
    {
     "data": {
      "text/plain": [
       "((15856750, 9), (15856750,), (626315, 9), (626315,))"
      ]
     },
     "execution_count": 118,
     "metadata": {},
     "output_type": "execute_result"
    }
   ],
   "source": [
    "X_train_encoded_smoted.shape, y_train_smote.shape, X_test_encoded.shape, y_test.shape"
   ]
  },
  {
   "cell_type": "code",
   "execution_count": 119,
   "id": "9812735d",
   "metadata": {},
   "outputs": [
    {
     "data": {
      "text/plain": [
       "525"
      ]
     },
     "execution_count": 119,
     "metadata": {},
     "output_type": "execute_result"
    }
   ],
   "source": [
    "gc.collect()"
   ]
  },
  {
   "cell_type": "code",
   "execution_count": 120,
   "id": "8d880ff6",
   "metadata": {},
   "outputs": [
    {
     "name": "stdout",
     "output_type": "stream",
     "text": [
      "Epoch 1/50\n",
      "495524/495524 [==============================] - 557s 1ms/step - loss: 2.5374 - accuracy: 0.2664 - val_loss: 2.8773 - val_accuracy: 0.1193\n",
      "Epoch 2/50\n",
      "495524/495524 [==============================] - 548s 1ms/step - loss: 2.5123 - accuracy: 0.2720 - val_loss: 2.8986 - val_accuracy: 0.1187\n",
      "Epoch 3/50\n",
      "495524/495524 [==============================] - 551s 1ms/step - loss: 2.5060 - accuracy: 0.2736 - val_loss: 2.8466 - val_accuracy: 0.1282\n",
      "Epoch 4/50\n",
      "495524/495524 [==============================] - 551s 1ms/step - loss: 2.5019 - accuracy: 0.2743 - val_loss: 2.8568 - val_accuracy: 0.1242\n",
      "Epoch 5/50\n",
      "495524/495524 [==============================] - 551s 1ms/step - loss: 2.5004 - accuracy: 0.2746 - val_loss: 2.8411 - val_accuracy: 0.1315\n",
      "Epoch 6/50\n",
      "495524/495524 [==============================] - 550s 1ms/step - loss: 2.4996 - accuracy: 0.2747 - val_loss: 2.8680 - val_accuracy: 0.1240\n",
      "Epoch 7/50\n",
      "495524/495524 [==============================] - 550s 1ms/step - loss: 2.4991 - accuracy: 0.2749 - val_loss: 2.8820 - val_accuracy: 0.1160\n",
      "Epoch 8/50\n",
      "495524/495524 [==============================] - 553s 1ms/step - loss: 2.4987 - accuracy: 0.2749 - val_loss: 2.8889 - val_accuracy: 0.1188\n",
      "Epoch 9/50\n",
      "495524/495524 [==============================] - 551s 1ms/step - loss: 2.4988 - accuracy: 0.2749 - val_loss: 2.8281 - val_accuracy: 0.1323\n",
      "Epoch 10/50\n",
      "495524/495524 [==============================] - 551s 1ms/step - loss: 2.4989 - accuracy: 0.2749 - val_loss: 2.8471 - val_accuracy: 0.1252\n",
      "Epoch 11/50\n",
      "495524/495524 [==============================] - 551s 1ms/step - loss: 2.4993 - accuracy: 0.2749 - val_loss: 2.8808 - val_accuracy: 0.1227\n",
      "Epoch 12/50\n",
      "495524/495524 [==============================] - 551s 1ms/step - loss: 2.4998 - accuracy: 0.2748 - val_loss: 2.8548 - val_accuracy: 0.1274\n",
      "Epoch 13/50\n",
      "495524/495524 [==============================] - 551s 1ms/step - loss: 2.4998 - accuracy: 0.2748 - val_loss: 2.8157 - val_accuracy: 0.1356\n",
      "Epoch 14/50\n",
      "495524/495524 [==============================] - 555s 1ms/step - loss: 2.4998 - accuracy: 0.2748 - val_loss: 2.8641 - val_accuracy: 0.1233\n",
      "Epoch 15/50\n",
      "495524/495524 [==============================] - 534s 1ms/step - loss: 2.5001 - accuracy: 0.2748 - val_loss: 2.8730 - val_accuracy: 0.1228\n",
      "Epoch 16/50\n",
      "495524/495524 [==============================] - 543s 1ms/step - loss: 2.5003 - accuracy: 0.2747 - val_loss: 2.8325 - val_accuracy: 0.1311\n",
      "Epoch 17/50\n",
      "495524/495524 [==============================] - 553s 1ms/step - loss: 2.5009 - accuracy: 0.2746 - val_loss: 2.8330 - val_accuracy: 0.1275\n",
      "Epoch 18/50\n",
      "495524/495524 [==============================] - 553s 1ms/step - loss: 2.5009 - accuracy: 0.2747 - val_loss: 2.8445 - val_accuracy: 0.1277\n",
      "Epoch 19/50\n",
      "495524/495524 [==============================] - 555s 1ms/step - loss: 2.5011 - accuracy: 0.2748 - val_loss: 2.9089 - val_accuracy: 0.1144\n",
      "Epoch 20/50\n",
      "495524/495524 [==============================] - 556s 1ms/step - loss: 2.5008 - accuracy: 0.2748 - val_loss: 2.8703 - val_accuracy: 0.1207\n",
      "Epoch 21/50\n",
      "495524/495524 [==============================] - 555s 1ms/step - loss: 2.5008 - accuracy: 0.2747 - val_loss: 2.8408 - val_accuracy: 0.1328\n",
      "Epoch 22/50\n",
      "495524/495524 [==============================] - 555s 1ms/step - loss: 2.5011 - accuracy: 0.2747 - val_loss: 2.8549 - val_accuracy: 0.1261\n",
      "Epoch 23/50\n",
      "495524/495524 [==============================] - 554s 1ms/step - loss: 2.5010 - accuracy: 0.2747 - val_loss: 2.8755 - val_accuracy: 0.1204\n",
      "Epoch 24/50\n",
      "495524/495524 [==============================] - 553s 1ms/step - loss: 2.5010 - accuracy: 0.2746 - val_loss: 2.8299 - val_accuracy: 0.1303\n",
      "Epoch 25/50\n",
      "495524/495524 [==============================] - 557s 1ms/step - loss: 2.5008 - accuracy: 0.2747 - val_loss: 2.8885 - val_accuracy: 0.1189\n",
      "Epoch 26/50\n",
      "495524/495524 [==============================] - 557s 1ms/step - loss: 2.5006 - accuracy: 0.2747 - val_loss: 2.8465 - val_accuracy: 0.1304\n",
      "Epoch 27/50\n",
      "495524/495524 [==============================] - 555s 1ms/step - loss: 2.5008 - accuracy: 0.2747 - val_loss: 2.8453 - val_accuracy: 0.1337\n",
      "Epoch 28/50\n",
      "495524/495524 [==============================] - 555s 1ms/step - loss: 2.5008 - accuracy: 0.2747 - val_loss: 2.8812 - val_accuracy: 0.1197\n",
      "Epoch 29/50\n",
      "495524/495524 [==============================] - 555s 1ms/step - loss: 2.5006 - accuracy: 0.2748 - val_loss: 2.8850 - val_accuracy: 0.1228\n",
      "Epoch 30/50\n",
      "495524/495524 [==============================] - 554s 1ms/step - loss: 2.5009 - accuracy: 0.2749 - val_loss: 2.7965 - val_accuracy: 0.1370\n",
      "Epoch 31/50\n",
      "495524/495524 [==============================] - 556s 1ms/step - loss: 2.5007 - accuracy: 0.2748 - val_loss: 2.9149 - val_accuracy: 0.1227\n",
      "Epoch 32/50\n",
      "495524/495524 [==============================] - 553s 1ms/step - loss: 2.5008 - accuracy: 0.2748 - val_loss: 2.8578 - val_accuracy: 0.1287\n",
      "Epoch 33/50\n",
      "495524/495524 [==============================] - 554s 1ms/step - loss: 2.5006 - accuracy: 0.2748 - val_loss: 2.8565 - val_accuracy: 0.1273\n",
      "Epoch 34/50\n",
      "495524/495524 [==============================] - 554s 1ms/step - loss: 2.5004 - accuracy: 0.2749 - val_loss: 2.8267 - val_accuracy: 0.1361\n",
      "Epoch 35/50\n",
      "495524/495524 [==============================] - 553s 1ms/step - loss: 2.5004 - accuracy: 0.2749 - val_loss: 2.8985 - val_accuracy: 0.1221\n",
      "Epoch 36/50\n",
      "495524/495524 [==============================] - 555s 1ms/step - loss: 2.5006 - accuracy: 0.2749 - val_loss: 2.8422 - val_accuracy: 0.1329\n",
      "Epoch 37/50\n",
      "495524/495524 [==============================] - 556s 1ms/step - loss: 2.5005 - accuracy: 0.2748 - val_loss: 2.8554 - val_accuracy: 0.1290\n",
      "Epoch 38/50\n",
      "495524/495524 [==============================] - 556s 1ms/step - loss: 2.5006 - accuracy: 0.2748 - val_loss: 2.8285 - val_accuracy: 0.1298\n",
      "Epoch 39/50\n",
      "495524/495524 [==============================] - 555s 1ms/step - loss: 2.5004 - accuracy: 0.2749 - val_loss: 2.9083 - val_accuracy: 0.1190\n",
      "Epoch 40/50\n",
      "495524/495524 [==============================] - 554s 1ms/step - loss: 2.5004 - accuracy: 0.2749 - val_loss: 2.8025 - val_accuracy: 0.1397\n",
      "Epoch 41/50\n",
      "495524/495524 [==============================] - 554s 1ms/step - loss: 2.5003 - accuracy: 0.2748 - val_loss: 2.8125 - val_accuracy: 0.1393\n",
      "Epoch 42/50\n",
      "495524/495524 [==============================] - 555s 1ms/step - loss: 2.5003 - accuracy: 0.2749 - val_loss: 2.8049 - val_accuracy: 0.1339\n",
      "Epoch 43/50\n",
      "495524/495524 [==============================] - 555s 1ms/step - loss: 2.5001 - accuracy: 0.2749 - val_loss: 2.8507 - val_accuracy: 0.1297\n",
      "Epoch 44/50\n",
      "495524/495524 [==============================] - 555s 1ms/step - loss: 2.5004 - accuracy: 0.2749 - val_loss: 2.8770 - val_accuracy: 0.1309\n",
      "Epoch 45/50\n",
      "495524/495524 [==============================] - 555s 1ms/step - loss: 2.5002 - accuracy: 0.2749 - val_loss: 2.9090 - val_accuracy: 0.1176\n",
      "Epoch 46/50\n",
      "495524/495524 [==============================] - 557s 1ms/step - loss: 2.5004 - accuracy: 0.2750 - val_loss: 2.8462 - val_accuracy: 0.1326\n",
      "Epoch 47/50\n",
      "495524/495524 [==============================] - 555s 1ms/step - loss: 2.5004 - accuracy: 0.2749 - val_loss: 2.8438 - val_accuracy: 0.1304\n",
      "Epoch 48/50\n",
      "495524/495524 [==============================] - 554s 1ms/step - loss: 2.5006 - accuracy: 0.2749 - val_loss: 2.8383 - val_accuracy: 0.1292\n",
      "Epoch 49/50\n",
      "495524/495524 [==============================] - 555s 1ms/step - loss: 2.5008 - accuracy: 0.2749 - val_loss: 2.8205 - val_accuracy: 0.1331\n",
      "Epoch 50/50\n",
      "495524/495524 [==============================] - 554s 1ms/step - loss: 2.5009 - accuracy: 0.2748 - val_loss: 2.8483 - val_accuracy: 0.1249\n"
     ]
    }
   ],
   "source": [
    "model_nn_50_smote = tf.keras.Sequential([\n",
    "    tf.keras.layers.Dense(128, activation='relu', input_shape=(X_train.shape[1],)),\n",
    "    tf.keras.layers.Dense(64, activation='relu'),\n",
    "    # Output layer with the number of units equal to the number of classes, using softmax\n",
    "    tf.keras.layers.Dense(26, activation='softmax')\n",
    "])\n",
    "\n",
    "# Compile the model with sparse categorical crossentropy for integer labels\n",
    "model_nn_50_smote.compile(optimizer='adam',\n",
    "                 loss='sparse_categorical_crossentropy',\n",
    "                 metrics=['accuracy'])\n",
    "\n",
    "# Train the model and save the history\n",
    "history_nn_50_smote = model_nn_50.fit(X_train_encoded_smoted, y_train_smote, epochs=50, \n",
    "                                      validation_data=(X_test_encoded, y_test), batch_size=32)\n",
    "\n",
    "history_nn_50_smote = json.dumps(history_nn_50_smote.history, indent=4)\n",
    "with open('neural_net_50_epochs_smote.json', 'w') as f:\n",
    "    f.write(history_nn_50_smote)"
   ]
  },
  {
   "cell_type": "code",
   "execution_count": 123,
   "id": "2e6b2c74",
   "metadata": {},
   "outputs": [
    {
     "data": {
      "image/png": "[encoded data removed]",
      "text/plain": [
       "<Figure size 864x360 with 2 Axes>"
      ]
     },
     "metadata": {
      "needs_background": "light"
     },
     "output_type": "display_data"
    }
   ],
   "source": [
    "history_nn_50_smote = json.loads(history_nn_50_smote)\n",
    "\n",
    "# Plotting the training and validation accuracy\n",
    "plt.figure(figsize=(12, 5))\n",
    "plt.subplot(1, 2, 1)\n",
    "plt.plot(history_nn_50_smote['accuracy'], label='Accuracy')\n",
    "plt.plot(history_nn_50_smote['val_accuracy'], label='Validation Accuracy')\n",
    "plt.title('Training and Validation Accuracy')\n",
    "plt.xlabel('Epoch')\n",
    "plt.ylabel('Accuracy')\n",
    "plt.legend()\n",
    "\n",
    "# Plotting the training and validation loss\n",
    "plt.subplot(1, 2, 2)\n",
    "plt.plot(history_nn_50_smote['loss'], label='Loss')\n",
    "plt.plot(history_nn_50_smote['val_loss'], label='Validation Loss')\n",
    "plt.title('Training and Validation Loss')\n",
    "plt.xlabel('Epoch')\n",
    "plt.ylabel('Loss')\n",
    "plt.legend()\n",
    "\n",
    "plt.tight_layout()\n",
    "plt.show()"
   ]
  },
  {
   "cell_type": "code",
   "execution_count": 124,
   "id": "6c0e4b9b",
   "metadata": {},
   "outputs": [],
   "source": [
    "model_nn_50_smote.save('neural_net_smote.h5')\n",
    "model_nn_50_smote.save_weights('neural_net_smote_weights.h5')"
   ]
  },
  {
   "cell_type": "markdown",
   "id": "6383e8bb",
   "metadata": {},
   "source": [
    "# Transformer\n",
    "\n",
    "### Multi-head attention Encoder --> Feedforward Neural Net Dense Layers\n",
    "We only need a decoder if we're going generation like with GenAI\n",
    "\n",
    "Our Transformer works with our features as 1d vectors from batch/sample $i$ and feature $j$ $$[f_{i, j}]$$ with input shape **(batch, feature_dimension/sequence size, feature)**"
   ]
  },
  {
   "cell_type": "code",
   "execution_count": 139,
   "id": "bc4497fe",
   "metadata": {},
   "outputs": [
    {
     "data": {
      "text/plain": [
       "0            2100 BLOCK N BROAD ST\n",
       "1             4100 BLOCK GREEBY ST\n",
       "2             2100 BLOCK S 67TH ST\n",
       "3          3200 BLOCK N NEWKIRK ST\n",
       "4           5200 BLOCK N HOWARD ST\n",
       "                    ...           \n",
       "3177847        400 BLOCK S 55TH ST\n",
       "3177848      S 08TH ST  / SOUTH ST\n",
       "3177849       5500 BLOCK CHERRY ST\n",
       "3177850      S 08TH ST  / SOUTH ST\n",
       "3177851    5700 BLOCK  RACE STREET\n",
       "Name: location_block, Length: 3177687, dtype: object"
      ]
     },
     "execution_count": 139,
     "metadata": {},
     "output_type": "execute_result"
    }
   ],
   "source": [
    "streetnames = pd.read_csv('cartodb-query.csv')[\"location_block\"]\n",
    "streetnames.dropna(inplace=True)\n",
    "streetnames"
   ]
  },
  {
   "cell_type": "code",
   "execution_count": 142,
   "id": "86ef9279",
   "metadata": {},
   "outputs": [
    {
     "data": {
      "text/plain": [
       "148591"
      ]
     },
     "execution_count": 142,
     "metadata": {},
     "output_type": "execute_result"
    }
   ],
   "source": [
    "len(streetnames.unique())"
   ]
  },
  {
   "cell_type": "code",
   "execution_count": 157,
   "id": "364252fc",
   "metadata": {},
   "outputs": [
    {
     "data": {
      "text/plain": [
       "11632"
      ]
     },
     "execution_count": 157,
     "metadata": {},
     "output_type": "execute_result"
    }
   ],
   "source": [
    "gc.collect()"
   ]
  },
  {
   "cell_type": "code",
   "execution_count": 143,
   "id": "a12d4c6b",
   "metadata": {},
   "outputs": [],
   "source": [
    "from sklearn.model_selection import train_test_split\n",
    "\n",
    "# Using SMOTE; We have to adjust target column\n",
    "# Assuming 'data' is your DataFrame and 'target' is the column with class labels; what is the target column for our DataFrame\n",
    "X = data.iloc[:, 1:]  # Features\n",
    "y = data.iloc[:, 0]\n",
    "\n",
    "# Splitting the dataset into training and testing sets\n",
    "X_train, X_test, y_train, y_test = train_test_split(X, y, test_size=0.2, random_state=42)\n",
    "\n",
    "#Crime Classification:\n",
    "X_train = feature_data_pipeline.fit_transform(X_train)\n",
    "X_test = feature_data_pipeline.transform(X_test)"
   ]
  },
  {
   "cell_type": "code",
   "execution_count": 144,
   "id": "75fd5ddb",
   "metadata": {},
   "outputs": [],
   "source": [
    "X_train_expanded = tf.expand_dims(X_train, axis=1)\n",
    "X_test_expanded = tf.expand_dims(X_test, axis=1)"
   ]
  },
  {
   "cell_type": "code",
   "execution_count": 145,
   "id": "96599fb4",
   "metadata": {},
   "outputs": [
    {
     "data": {
      "text/plain": [
       "(TensorShape([2505256, 1, 9]),\n",
       " (2505256,),\n",
       " TensorShape([626315, 1, 9]),\n",
       " (626315,))"
      ]
     },
     "execution_count": 145,
     "metadata": {},
     "output_type": "execute_result"
    }
   ],
   "source": [
    "X_train_expanded.shape, y_train.shape, X_test_expanded.shape, y_test.shape"
   ]
  },
  {
   "cell_type": "code",
   "execution_count": 148,
   "id": "9dd7b146",
   "metadata": {},
   "outputs": [
    {
     "name": "stdout",
     "output_type": "stream",
     "text": [
      "Epoch 1/50\n",
      "78290/78290 [==============================] - 183s 2ms/step - loss: 2.2900 - accuracy: 0.2699 - val_loss: 2.2469 - val_accuracy: 0.2792\n",
      "Epoch 2/50\n",
      "78290/78290 [==============================] - 183s 2ms/step - loss: 2.2672 - accuracy: 0.2758 - val_loss: 2.2334 - val_accuracy: 0.2857\n",
      "Epoch 3/50\n",
      "78290/78290 [==============================] - 182s 2ms/step - loss: 2.2601 - accuracy: 0.2773 - val_loss: 2.2359 - val_accuracy: 0.2844\n",
      "Epoch 4/50\n",
      "78290/78290 [==============================] - 183s 2ms/step - loss: 2.2558 - accuracy: 0.2786 - val_loss: 2.2283 - val_accuracy: 0.2851\n",
      "Epoch 5/50\n",
      "78290/78290 [==============================] - 182s 2ms/step - loss: 2.2526 - accuracy: 0.2792 - val_loss: 2.2211 - val_accuracy: 0.2885\n",
      "Epoch 6/50\n",
      "78290/78290 [==============================] - 181s 2ms/step - loss: 2.2504 - accuracy: 0.2797 - val_loss: 2.2211 - val_accuracy: 0.2874\n",
      "Epoch 7/50\n",
      "78290/78290 [==============================] - 183s 2ms/step - loss: 2.2488 - accuracy: 0.2803 - val_loss: 2.2191 - val_accuracy: 0.2887\n",
      "Epoch 8/50\n",
      "78290/78290 [==============================] - 182s 2ms/step - loss: 2.2475 - accuracy: 0.2805 - val_loss: 2.2154 - val_accuracy: 0.2888\n",
      "Epoch 9/50\n",
      "78290/78290 [==============================] - 182s 2ms/step - loss: 2.2461 - accuracy: 0.2811 - val_loss: 2.2161 - val_accuracy: 0.2900\n",
      "Epoch 10/50\n",
      "78290/78290 [==============================] - 183s 2ms/step - loss: 2.2450 - accuracy: 0.2816 - val_loss: 2.2138 - val_accuracy: 0.2890\n",
      "Epoch 11/50\n",
      "78290/78290 [==============================] - 183s 2ms/step - loss: 2.2441 - accuracy: 0.2818 - val_loss: 2.2128 - val_accuracy: 0.2899\n",
      "Epoch 12/50\n",
      "78290/78290 [==============================] - 184s 2ms/step - loss: 2.2435 - accuracy: 0.2821 - val_loss: 2.2136 - val_accuracy: 0.2903\n",
      "Epoch 13/50\n",
      "78290/78290 [==============================] - 183s 2ms/step - loss: 2.2427 - accuracy: 0.2818 - val_loss: 2.2133 - val_accuracy: 0.2902\n",
      "Epoch 14/50\n",
      "78290/78290 [==============================] - 183s 2ms/step - loss: 2.2426 - accuracy: 0.2822 - val_loss: 2.2107 - val_accuracy: 0.2913\n",
      "Epoch 15/50\n",
      "78290/78290 [==============================] - 182s 2ms/step - loss: 2.2420 - accuracy: 0.2821 - val_loss: 2.2149 - val_accuracy: 0.2883\n",
      "Epoch 16/50\n",
      "78290/78290 [==============================] - 182s 2ms/step - loss: 2.2413 - accuracy: 0.2823 - val_loss: 2.2100 - val_accuracy: 0.2914\n",
      "Epoch 17/50\n",
      "78290/78290 [==============================] - 180s 2ms/step - loss: 2.2412 - accuracy: 0.2825 - val_loss: 2.2108 - val_accuracy: 0.2893\n",
      "Epoch 18/50\n",
      "78290/78290 [==============================] - 182s 2ms/step - loss: 2.2408 - accuracy: 0.2825 - val_loss: 2.2095 - val_accuracy: 0.2905\n",
      "Epoch 19/50\n",
      "78290/78290 [==============================] - 182s 2ms/step - loss: 2.2405 - accuracy: 0.2824 - val_loss: 2.2105 - val_accuracy: 0.2902\n",
      "Epoch 20/50\n",
      "78290/78290 [==============================] - 182s 2ms/step - loss: 2.2401 - accuracy: 0.2828 - val_loss: 2.2105 - val_accuracy: 0.2895\n",
      "Epoch 21/50\n",
      "78290/78290 [==============================] - 182s 2ms/step - loss: 2.2400 - accuracy: 0.2823 - val_loss: 2.2088 - val_accuracy: 0.2905\n",
      "Epoch 22/50\n",
      "78290/78290 [==============================] - 180s 2ms/step - loss: 2.2396 - accuracy: 0.2829 - val_loss: 2.2087 - val_accuracy: 0.2905\n",
      "Epoch 23/50\n",
      "78290/78290 [==============================] - 182s 2ms/step - loss: 2.2395 - accuracy: 0.2826 - val_loss: 2.2078 - val_accuracy: 0.2907\n",
      "Epoch 24/50\n",
      "78290/78290 [==============================] - 182s 2ms/step - loss: 2.2394 - accuracy: 0.2828 - val_loss: 2.2090 - val_accuracy: 0.2909\n",
      "Epoch 25/50\n",
      "78290/78290 [==============================] - 181s 2ms/step - loss: 2.2390 - accuracy: 0.2828 - val_loss: 2.2097 - val_accuracy: 0.2916\n",
      "Epoch 26/50\n",
      "78290/78290 [==============================] - 181s 2ms/step - loss: 2.2385 - accuracy: 0.2830 - val_loss: 2.2081 - val_accuracy: 0.2924\n",
      "Epoch 27/50\n",
      "78290/78290 [==============================] - 180s 2ms/step - loss: 2.2386 - accuracy: 0.2831 - val_loss: 2.2075 - val_accuracy: 0.2922\n",
      "Epoch 28/50\n",
      "78290/78290 [==============================] - 180s 2ms/step - loss: 2.2387 - accuracy: 0.2828 - val_loss: 2.2065 - val_accuracy: 0.2922\n",
      "Epoch 29/50\n",
      "78290/78290 [==============================] - 180s 2ms/step - loss: 2.2383 - accuracy: 0.2831 - val_loss: 2.2064 - val_accuracy: 0.2912\n",
      "Epoch 30/50\n",
      "78290/78290 [==============================] - 182s 2ms/step - loss: 2.2382 - accuracy: 0.2833 - val_loss: 2.2106 - val_accuracy: 0.2886\n",
      "Epoch 31/50\n",
      "78290/78290 [==============================] - 180s 2ms/step - loss: 2.2378 - accuracy: 0.2831 - val_loss: 2.2070 - val_accuracy: 0.2913\n",
      "Epoch 32/50\n",
      "78290/78290 [==============================] - 180s 2ms/step - loss: 2.2378 - accuracy: 0.2833 - val_loss: 2.2086 - val_accuracy: 0.2907\n",
      "Epoch 33/50\n",
      "78290/78290 [==============================] - 179s 2ms/step - loss: 2.2378 - accuracy: 0.2833 - val_loss: 2.2071 - val_accuracy: 0.2922\n",
      "Epoch 34/50\n",
      "78290/78290 [==============================] - 180s 2ms/step - loss: 2.2373 - accuracy: 0.2835 - val_loss: 2.2069 - val_accuracy: 0.2908\n",
      "Epoch 35/50\n",
      "78290/78290 [==============================] - 183s 2ms/step - loss: 2.2371 - accuracy: 0.2833 - val_loss: 2.2069 - val_accuracy: 0.2916\n",
      "Epoch 36/50\n",
      "78290/78290 [==============================] - 179s 2ms/step - loss: 2.2374 - accuracy: 0.2832 - val_loss: 2.2060 - val_accuracy: 0.2918\n",
      "Epoch 37/50\n",
      "78290/78290 [==============================] - 178s 2ms/step - loss: 2.2372 - accuracy: 0.2835 - val_loss: 2.2042 - val_accuracy: 0.2924\n",
      "Epoch 38/50\n",
      "78290/78290 [==============================] - 180s 2ms/step - loss: 2.2373 - accuracy: 0.2837 - val_loss: 2.2029 - val_accuracy: 0.2927\n",
      "Epoch 39/50\n",
      "78290/78290 [==============================] - 175s 2ms/step - loss: 2.2371 - accuracy: 0.2833 - val_loss: 2.2053 - val_accuracy: 0.2907\n",
      "Epoch 40/50\n",
      "78290/78290 [==============================] - 181s 2ms/step - loss: 2.2366 - accuracy: 0.2836 - val_loss: 2.2025 - val_accuracy: 0.2927\n",
      "Epoch 41/50\n",
      "78290/78290 [==============================] - 177s 2ms/step - loss: 2.2365 - accuracy: 0.2836 - val_loss: 2.2070 - val_accuracy: 0.2915\n",
      "Epoch 42/50\n",
      "78290/78290 [==============================] - 179s 2ms/step - loss: 2.2364 - accuracy: 0.2837 - val_loss: 2.2046 - val_accuracy: 0.2928\n",
      "Epoch 43/50\n",
      "78290/78290 [==============================] - 180s 2ms/step - loss: 2.2365 - accuracy: 0.2836 - val_loss: 2.2027 - val_accuracy: 0.2926\n",
      "Epoch 44/50\n",
      "78290/78290 [==============================] - 178s 2ms/step - loss: 2.2367 - accuracy: 0.2834 - val_loss: 2.2052 - val_accuracy: 0.2919\n",
      "Epoch 45/50\n",
      "78290/78290 [==============================] - 181s 2ms/step - loss: 2.2362 - accuracy: 0.2838 - val_loss: 2.2028 - val_accuracy: 0.2919\n",
      "Epoch 46/50\n",
      "78290/78290 [==============================] - 180s 2ms/step - loss: 2.2363 - accuracy: 0.2835 - val_loss: 2.2052 - val_accuracy: 0.2915\n",
      "Epoch 47/50\n",
      "78290/78290 [==============================] - 180s 2ms/step - loss: 2.2364 - accuracy: 0.2837 - val_loss: 2.2032 - val_accuracy: 0.2924\n",
      "Epoch 48/50\n",
      "78290/78290 [==============================] - 181s 2ms/step - loss: 2.2360 - accuracy: 0.2839 - val_loss: 2.2015 - val_accuracy: 0.2933\n",
      "Epoch 49/50\n",
      "78290/78290 [==============================] - 179s 2ms/step - loss: 2.2357 - accuracy: 0.2839 - val_loss: 2.2049 - val_accuracy: 0.2922\n",
      "Epoch 50/50\n",
      "78290/78290 [==============================] - 180s 2ms/step - loss: 2.2358 - accuracy: 0.2840 - val_loss: 2.2039 - val_accuracy: 0.2924\n"
     ]
    }
   ],
   "source": [
    "from tensorflow.keras.layers import MultiHeadAttention, LayerNormalization, Dropout\n",
    "\n",
    "# Simple Transformer Block\n",
    "def transformer_block(inputs, head_size, num_heads, ff_dim, dropout=0):\n",
    "    # Attention and Normalization\n",
    "    attention_output = MultiHeadAttention(num_heads=num_heads, key_dim=head_size, dropout=dropout)(inputs, inputs)\n",
    "    attention_output = Dropout(dropout)(attention_output)\n",
    "    proj_input = LayerNormalization(epsilon=1e-6)(inputs + attention_output)\n",
    "\n",
    "    # Feed Forward Part\n",
    "    ffn_output = tf.keras.layers.Dense(ff_dim, activation=\"relu\")(proj_input)\n",
    "    ffn_output = tf.keras.layers.Dense(inputs.shape[-1])(ffn_output)\n",
    "    ffn_output = Dropout(dropout)(ffn_output)\n",
    "    return LayerNormalization(epsilon=1e-6)(proj_input + ffn_output)\n",
    "\n",
    "# Build the Model\n",
    "input_layer = tf.keras.layers.Input(shape=(1, X_train.shape[1]))\n",
    "x = transformer_block(input_layer, head_size=64, num_heads=2, ff_dim=128, dropout=0.1)\n",
    "x = tf.keras.layers.GlobalAveragePooling1D()(x)\n",
    "output_layer = tf.keras.layers.Dense(26, activation='softmax')(x)\n",
    "\n",
    "model_transformer = tf.keras.models.Model(inputs=input_layer, outputs=output_layer)\n",
    "\n",
    "model_transformer.compile(optimizer='adam',\n",
    "                          loss='sparse_categorical_crossentropy',\n",
    "                          metrics=['accuracy'])\n",
    "\n",
    "# Train the model\n",
    "history_transformer = model_transformer.fit(X_train_expanded, y_train, epochs=50, \n",
    "                                            validation_data=(X_test_expanded, y_test), batch_size=32)\n",
    "history_transformer = json.dumps(history_transformer.history, indent=4)\n",
    "with open('transformer_pre_smote.json', 'w') as f:\n",
    "    f.write(history_transformer)\n",
    "model_transformer.save('transformer_pre_smote.h5')\n",
    "model_transformer.save_weights('transformer_pre_smote_weights.h5')"
   ]
  },
  {
   "cell_type": "code",
   "execution_count": 149,
   "id": "c3280235",
   "metadata": {},
   "outputs": [
    {
     "data": {
      "image/png": "[encoded data removed]",
      "text/plain": [
       "<Figure size 864x360 with 2 Axes>"
      ]
     },
     "metadata": {
      "needs_background": "light"
     },
     "output_type": "display_data"
    }
   ],
   "source": [
    "history_transformer = json.loads(history_transformer)\n",
    "\n",
    "# Plotting the training and validation accuracy\n",
    "plt.figure(figsize=(12, 5))\n",
    "plt.subplot(1, 2, 1)\n",
    "plt.plot(history_transformer['accuracy'], label='Accuracy')\n",
    "plt.plot(history_transformer['val_accuracy'], label='Validation Accuracy')\n",
    "plt.title('Training and Validation Accuracy')\n",
    "plt.xlabel('Epoch')\n",
    "plt.ylabel('Accuracy')\n",
    "plt.legend()\n",
    "\n",
    "# Plotting the training and validation loss\n",
    "plt.subplot(1, 2, 2)\n",
    "plt.plot(history_transformer['loss'], label='Loss')\n",
    "plt.plot(history_transformer['val_loss'], label='Validation Loss')\n",
    "plt.title('Training and Validation Loss')\n",
    "plt.xlabel('Epoch')\n",
    "plt.ylabel('Loss')\n",
    "plt.legend()\n",
    "\n",
    "plt.tight_layout()\n",
    "plt.show()"
   ]
  },
  {
   "cell_type": "markdown",
   "id": "dca43e31",
   "metadata": {},
   "source": [
    "### Better validation performance is caused by the dropout layers"
   ]
  },
  {
   "cell_type": "code",
   "execution_count": 151,
   "id": "1ff1b0a8",
   "metadata": {},
   "outputs": [],
   "source": [
    "from imblearn.over_sampling import SMOTE\n",
    "from sklearn.model_selection import train_test_split\n",
    "\n",
    "# Using SMOTE; We have to adjust target column\n",
    "# Assuming 'data' is your DataFrame and 'target' is the column with class labels; what is the target column for our DataFrame\n",
    "X = data.iloc[:, 1:]  # Features\n",
    "y = data.iloc[:, 0]\n",
    "\n",
    "# Splitting the dataset into training and testing sets\n",
    "X_train, X_test, y_train, y_test = train_test_split(X, y, test_size=0.2, random_state=42)\n",
    "\n",
    "# Applying SMOTE\n",
    "smote = SMOTE()\n",
    "X_train_smote, y_train_smote = smote.fit_resample(X_train, y_train)\n",
    "\n",
    "#Crime Classification:\n",
    "X_train_encoded_smoted = feature_data_pipeline.fit_transform(X_train_smote)\n",
    "X_test_encoded = feature_data_pipeline.transform(X_test)\n",
    "\n",
    "X_train_expanded = tf.expand_dims(X_train_encoded_smoted, axis=1)\n",
    "X_test_expanded = tf.expand_dims(X_test_encoded, axis=1)"
   ]
  },
  {
   "cell_type": "code",
   "execution_count": 154,
   "id": "e423e117",
   "metadata": {},
   "outputs": [
    {
     "data": {
      "text/plain": [
       "(TensorShape([15856750, 1, 9]),\n",
       " (15856750,),\n",
       " TensorShape([626315, 1, 9]),\n",
       " (626315,))"
      ]
     },
     "execution_count": 154,
     "metadata": {},
     "output_type": "execute_result"
    }
   ],
   "source": [
    "X_train_expanded.shape, y_train_smote.shape, X_test_expanded.shape, y_test.shape"
   ]
  },
  {
   "cell_type": "code",
   "execution_count": 155,
   "id": "cfc08f50",
   "metadata": {},
   "outputs": [
    {
     "name": "stdout",
     "output_type": "stream",
     "text": [
      "Epoch 1/50\n",
      "495524/495524 [==============================] - 1031s 2ms/step - loss: 2.7171 - accuracy: 0.2226 - val_loss: 3.0053 - val_accuracy: 0.0630\n",
      "Epoch 2/50\n",
      "495524/495524 [==============================] - 1049s 2ms/step - loss: 2.6900 - accuracy: 0.2302 - val_loss: 2.9975 - val_accuracy: 0.0707\n",
      "Epoch 3/50\n",
      "495524/495524 [==============================] - 1040s 2ms/step - loss: 2.6846 - accuracy: 0.2320 - val_loss: 2.9864 - val_accuracy: 0.0726\n",
      "Epoch 4/50\n",
      "495524/495524 [==============================] - 1043s 2ms/step - loss: 2.6819 - accuracy: 0.2327 - val_loss: 2.9555 - val_accuracy: 0.0816\n",
      "Epoch 5/50\n",
      "495524/495524 [==============================] - 1040s 2ms/step - loss: 2.6804 - accuracy: 0.2333 - val_loss: 2.9847 - val_accuracy: 0.0777\n",
      "Epoch 6/50\n",
      "495524/495524 [==============================] - 1043s 2ms/step - loss: 2.6792 - accuracy: 0.2336 - val_loss: 2.9628 - val_accuracy: 0.0804\n",
      "Epoch 7/50\n",
      "495524/495524 [==============================] - 47699s 96ms/step - loss: 2.6784 - accuracy: 0.2340 - val_loss: 2.9398 - val_accuracy: 0.0854\n",
      "Epoch 8/50\n",
      "495524/495524 [==============================] - 1049s 2ms/step - loss: 2.6776 - accuracy: 0.2340 - val_loss: 2.9681 - val_accuracy: 0.0766\n",
      "Epoch 9/50\n",
      "495524/495524 [==============================] - 1048s 2ms/step - loss: 2.6773 - accuracy: 0.2341 - val_loss: 2.9533 - val_accuracy: 0.0825\n",
      "Epoch 10/50\n",
      "495524/495524 [==============================] - 1028s 2ms/step - loss: 2.6767 - accuracy: 0.2342 - val_loss: 2.9821 - val_accuracy: 0.0779\n",
      "Epoch 11/50\n",
      "495524/495524 [==============================] - 1022s 2ms/step - loss: 2.6764 - accuracy: 0.2343 - val_loss: 2.9552 - val_accuracy: 0.0812\n",
      "Epoch 12/50\n",
      "495524/495524 [==============================] - 1025s 2ms/step - loss: 2.6759 - accuracy: 0.2344 - val_loss: 2.9552 - val_accuracy: 0.0869\n",
      "Epoch 13/50\n",
      "495524/495524 [==============================] - 1024s 2ms/step - loss: 2.6756 - accuracy: 0.2345 - val_loss: 2.9696 - val_accuracy: 0.0767\n",
      "Epoch 14/50\n",
      "495524/495524 [==============================] - 1021s 2ms/step - loss: 2.6753 - accuracy: 0.2346 - val_loss: 2.9356 - val_accuracy: 0.0888\n",
      "Epoch 15/50\n",
      "495524/495524 [==============================] - 1028s 2ms/step - loss: 2.6749 - accuracy: 0.2347 - val_loss: 2.9387 - val_accuracy: 0.0880\n",
      "Epoch 16/50\n",
      "495524/495524 [==============================] - 1029s 2ms/step - loss: 2.6747 - accuracy: 0.2347 - val_loss: 2.9748 - val_accuracy: 0.0838\n",
      "Epoch 17/50\n",
      "495524/495524 [==============================] - 1038s 2ms/step - loss: 2.6746 - accuracy: 0.2348 - val_loss: 2.9715 - val_accuracy: 0.0836\n",
      "Epoch 18/50\n",
      "495524/495524 [==============================] - 1034s 2ms/step - loss: 2.6742 - accuracy: 0.2348 - val_loss: 2.9561 - val_accuracy: 0.0833\n",
      "Epoch 19/50\n",
      "495524/495524 [==============================] - 1033s 2ms/step - loss: 2.6739 - accuracy: 0.2348 - val_loss: 2.9672 - val_accuracy: 0.0829\n",
      "Epoch 20/50\n",
      "495524/495524 [==============================] - 1026s 2ms/step - loss: 2.6739 - accuracy: 0.2349 - val_loss: 2.9732 - val_accuracy: 0.0811\n",
      "Epoch 21/50\n",
      "495524/495524 [==============================] - 1028s 2ms/step - loss: 2.6738 - accuracy: 0.2350 - val_loss: 2.9503 - val_accuracy: 0.0898\n",
      "Epoch 22/50\n",
      "495524/495524 [==============================] - 1029s 2ms/step - loss: 2.6734 - accuracy: 0.2351 - val_loss: 2.9617 - val_accuracy: 0.0847\n",
      "Epoch 23/50\n",
      "495524/495524 [==============================] - 1024s 2ms/step - loss: 2.6734 - accuracy: 0.2351 - val_loss: 2.9539 - val_accuracy: 0.0845\n",
      "Epoch 24/50\n",
      "495524/495524 [==============================] - 1028s 2ms/step - loss: 2.6732 - accuracy: 0.2351 - val_loss: 2.9324 - val_accuracy: 0.0902\n",
      "Epoch 25/50\n",
      "495524/495524 [==============================] - 1029s 2ms/step - loss: 2.6731 - accuracy: 0.2351 - val_loss: 2.9688 - val_accuracy: 0.0835\n",
      "Epoch 26/50\n",
      "495524/495524 [==============================] - 1033s 2ms/step - loss: 2.6731 - accuracy: 0.2352 - val_loss: 2.9459 - val_accuracy: 0.0866\n",
      "Epoch 27/50\n",
      "495524/495524 [==============================] - 1030s 2ms/step - loss: 2.6727 - accuracy: 0.2353 - val_loss: 2.9642 - val_accuracy: 0.0847\n",
      "Epoch 28/50\n",
      "495524/495524 [==============================] - 1030s 2ms/step - loss: 2.6728 - accuracy: 0.2352 - val_loss: 2.9331 - val_accuracy: 0.0931\n",
      "Epoch 29/50\n",
      "495524/495524 [==============================] - 1028s 2ms/step - loss: 2.6726 - accuracy: 0.2353 - val_loss: 2.9983 - val_accuracy: 0.0844\n",
      "Epoch 30/50\n",
      "495524/495524 [==============================] - 1029s 2ms/step - loss: 2.6725 - accuracy: 0.2354 - val_loss: 2.9741 - val_accuracy: 0.0846\n",
      "Epoch 31/50\n",
      "495524/495524 [==============================] - 1029s 2ms/step - loss: 2.6725 - accuracy: 0.2354 - val_loss: 2.9905 - val_accuracy: 0.0835\n",
      "Epoch 32/50\n",
      "495524/495524 [==============================] - 1033s 2ms/step - loss: 2.6722 - accuracy: 0.2355 - val_loss: 2.9328 - val_accuracy: 0.0867\n",
      "Epoch 33/50\n",
      "495524/495524 [==============================] - 1033s 2ms/step - loss: 2.6721 - accuracy: 0.2355 - val_loss: 2.9644 - val_accuracy: 0.0870\n",
      "Epoch 34/50\n",
      "495524/495524 [==============================] - 1032s 2ms/step - loss: 2.6722 - accuracy: 0.2355 - val_loss: 2.9724 - val_accuracy: 0.0831\n",
      "Epoch 35/50\n",
      "495524/495524 [==============================] - 1031s 2ms/step - loss: 2.6721 - accuracy: 0.2356 - val_loss: 2.9565 - val_accuracy: 0.0820\n",
      "Epoch 36/50\n",
      "495524/495524 [==============================] - 1030s 2ms/step - loss: 2.6721 - accuracy: 0.2356 - val_loss: 2.9406 - val_accuracy: 0.0923\n",
      "Epoch 37/50\n",
      "495524/495524 [==============================] - 1029s 2ms/step - loss: 2.6719 - accuracy: 0.2356 - val_loss: 2.9756 - val_accuracy: 0.0912\n",
      "Epoch 38/50\n",
      "495524/495524 [==============================] - 1026s 2ms/step - loss: 2.6716 - accuracy: 0.2357 - val_loss: 2.9411 - val_accuracy: 0.0918\n",
      "Epoch 39/50\n",
      "495524/495524 [==============================] - 1027s 2ms/step - loss: 2.6716 - accuracy: 0.2357 - val_loss: 2.9343 - val_accuracy: 0.0947\n",
      "Epoch 40/50\n",
      "495524/495524 [==============================] - 1028s 2ms/step - loss: 2.6716 - accuracy: 0.2357 - val_loss: 2.9448 - val_accuracy: 0.0901\n",
      "Epoch 41/50\n",
      "495524/495524 [==============================] - 1028s 2ms/step - loss: 2.6713 - accuracy: 0.2358 - val_loss: 2.9760 - val_accuracy: 0.0849\n",
      "Epoch 42/50\n",
      "495524/495524 [==============================] - 1027s 2ms/step - loss: 2.6714 - accuracy: 0.2357 - val_loss: 2.9308 - val_accuracy: 0.0937\n",
      "Epoch 43/50\n",
      "495524/495524 [==============================] - 1031s 2ms/step - loss: 2.6713 - accuracy: 0.2357 - val_loss: 2.9240 - val_accuracy: 0.0935\n",
      "Epoch 44/50\n",
      "495524/495524 [==============================] - 1023s 2ms/step - loss: 2.6711 - accuracy: 0.2358 - val_loss: 2.9484 - val_accuracy: 0.0906\n",
      "Epoch 45/50\n",
      "495524/495524 [==============================] - 1026s 2ms/step - loss: 2.6709 - accuracy: 0.2358 - val_loss: 2.9327 - val_accuracy: 0.0934\n",
      "Epoch 46/50\n",
      "495524/495524 [==============================] - 1024s 2ms/step - loss: 2.6711 - accuracy: 0.2358 - val_loss: 2.9074 - val_accuracy: 0.0966\n",
      "Epoch 47/50\n",
      "495524/495524 [==============================] - 1023s 2ms/step - loss: 2.6708 - accuracy: 0.2360 - val_loss: 2.9384 - val_accuracy: 0.0889\n",
      "Epoch 48/50\n",
      "495524/495524 [==============================] - 1022s 2ms/step - loss: 2.6708 - accuracy: 0.2359 - val_loss: 2.9615 - val_accuracy: 0.0873\n",
      "Epoch 49/50\n",
      "495524/495524 [==============================] - 1024s 2ms/step - loss: 2.6706 - accuracy: 0.2359 - val_loss: 2.9599 - val_accuracy: 0.0878\n",
      "Epoch 50/50\n",
      "495524/495524 [==============================] - 1026s 2ms/step - loss: 2.6705 - accuracy: 0.2359 - val_loss: 2.9170 - val_accuracy: 0.0982\n"
     ]
    }
   ],
   "source": [
    "from tensorflow.keras.layers import MultiHeadAttention, LayerNormalization, Dropout\n",
    "\n",
    "# Simple Transformer Block\n",
    "def transformer_block(inputs, head_size, num_heads, ff_dim, dropout=0):\n",
    "    # Attention and Normalization\n",
    "    attention_output = MultiHeadAttention(num_heads=num_heads, key_dim=head_size, dropout=dropout)(inputs, inputs)\n",
    "    attention_output = Dropout(dropout)(attention_output)\n",
    "    proj_input = LayerNormalization(epsilon=1e-6)(inputs + attention_output)\n",
    "\n",
    "    # Feed Forward Part\n",
    "    ffn_output = tf.keras.layers.Dense(ff_dim, activation=\"relu\")(proj_input)\n",
    "    ffn_output = tf.keras.layers.Dense(inputs.shape[-1])(ffn_output)\n",
    "    ffn_output = Dropout(dropout)(ffn_output)\n",
    "    return LayerNormalization(epsilon=1e-6)(proj_input + ffn_output)\n",
    "\n",
    "# Build the Model\n",
    "input_layer = tf.keras.layers.Input(shape=(1, X_train.shape[1]))\n",
    "x = transformer_block(input_layer, head_size=64, num_heads=2, ff_dim=128, dropout=0.1)\n",
    "x = tf.keras.layers.GlobalAveragePooling1D()(x)\n",
    "output_layer = tf.keras.layers.Dense(26, activation='softmax')(x)\n",
    "\n",
    "model_transformer_smote = tf.keras.models.Model(inputs=input_layer, outputs=output_layer)\n",
    "\n",
    "model_transformer_smote.compile(optimizer='adam',\n",
    "                          loss='sparse_categorical_crossentropy',\n",
    "                          metrics=['accuracy'])\n",
    "\n",
    "# Train the model\n",
    "history_transformer_smote = model_transformer_smote.fit(X_train_expanded, y_train_smote, epochs=50, \n",
    "                                            validation_data=(X_test_expanded, y_test), batch_size=32)\n",
    "history_transformer_smote = json.dumps(history_transformer_smote.history, indent=4)\n",
    "with open('transformer_smote.json', 'w') as f:\n",
    "    f.write(history_transformer_smote)\n",
    "model_transformer_smote.save('transformer_smote.h5')\n",
    "model_transformer_smote.save_weights('transformer_smote_weights.h5')"
   ]
  },
  {
   "cell_type": "code",
   "execution_count": 156,
   "id": "642da0c3",
   "metadata": {},
   "outputs": [
    {
     "data": {
      "image/png": "[encoded data removed]",
      "text/plain": [
       "<Figure size 864x360 with 2 Axes>"
      ]
     },
     "metadata": {
      "needs_background": "light"
     },
     "output_type": "display_data"
    }
   ],
   "source": [
    "history_transformer_smote = json.loads(history_transformer_smote)\n",
    "\n",
    "# Plotting the training and validation accuracy\n",
    "plt.figure(figsize=(12, 5))\n",
    "plt.subplot(1, 2, 1)\n",
    "plt.plot(history_transformer_smote['accuracy'], label='Accuracy')\n",
    "plt.plot(history_transformer_smote['val_accuracy'], label='Validation Accuracy')\n",
    "plt.title('Training and Validation Accuracy')\n",
    "plt.xlabel('Epoch')\n",
    "plt.ylabel('Accuracy')\n",
    "plt.legend()\n",
    "\n",
    "# Plotting the training and validation loss\n",
    "plt.subplot(1, 2, 2)\n",
    "plt.plot(history_transformer_smote['loss'], label='Loss')\n",
    "plt.plot(history_transformer_smote['val_loss'], label='Validation Loss')\n",
    "plt.title('Training and Validation Loss')\n",
    "plt.xlabel('Epoch')\n",
    "plt.ylabel('Loss')\n",
    "plt.legend()\n",
    "\n",
    "plt.tight_layout()\n",
    "plt.show()"
   ]
  },
  {
   "cell_type": "code",
   "execution_count": null,
   "id": "3936b559",
   "metadata": {},
   "outputs": [],
   "source": []
  }
 ],
 "metadata": {
  "kernelspec": {
   "display_name": "Python 3 (ipykernel)",
   "language": "python",
   "name": "python3"
  },
  "language_info": {
   "codemirror_mode": {
    "name": "ipython",
    "version": 3
   },
   "file_extension": ".py",
   "mimetype": "text/x-python",
   "name": "python",
   "nbconvert_exporter": "python",
   "pygments_lexer": "ipython3",
   "version": "3.8.10"
  }
 },
 "nbformat": 4,
 "nbformat_minor": 5
}
